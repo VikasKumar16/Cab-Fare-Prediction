{
 "cells": [
  {
   "cell_type": "code",
   "execution_count": null,
   "metadata": {},
   "outputs": [],
   "source": [
    "\n",
    "\n",
    "#Load libraries\n",
    "import os\n",
    "import pandas as pd\n",
    "import numpy as np\n",
    "from fancyimpute import KNN   \n",
    "import matplotlib.pyplot as plt\n",
    "import seaborn as sns\n",
    "from random import randrange, uniform\n",
    "from statsmodels.formula.api import ols\n",
    "import scipy.stats as stats\n",
    "import statsmodels.api as sm\n",
    "from sklearn import tree\n",
    "from sklearn.metrics import accuracy_score\n",
    "from sklearn.model_selection import train_test_split\n",
    "from sklearn.metrics import mean_squared_error\n",
    "from sklearn.ensemble import RandomForestRegressor\n",
    "from sklearn.tree import DecisionTreeRegressor\n",
    "from sklearn.externals import joblib"
   ]
  },
  {
   "cell_type": "code",
   "execution_count": 2,
   "metadata": {},
   "outputs": [],
   "source": [
    "#Setting the working directory\n",
    "os.chdir(\"C:/Users/user/Desktop/edWisor/Project/Cab Rental Startup/Data\")"
   ]
  },
  {
   "cell_type": "code",
   "execution_count": 3,
   "metadata": {},
   "outputs": [
    {
     "data": {
      "text/plain": [
       "'C:\\\\Users\\\\user\\\\Desktop\\\\edWisor\\\\Project\\\\Cab Rental Startup\\\\Data'"
      ]
     },
     "execution_count": 3,
     "metadata": {},
     "output_type": "execute_result"
    }
   ],
   "source": [
    "#Checking the working directory\n",
    "os.getcwd()"
   ]
  },
  {
   "cell_type": "code",
   "execution_count": 4,
   "metadata": {},
   "outputs": [],
   "source": [
    "#Loading the Data\n",
    "train = pd.read_csv(\"train_cab - Copy.csv\",na_values={'fare_amount':'430-'})\n",
    "test = pd.read_csv(\"test - Copy.csv\")\n",
    "data=[train,test]\n",
    "for i in data:\n",
    "    i['pickup_datetime']  = pd.to_datetime(i['pickup_datetime'],errors='coerce')"
   ]
  },
  {
   "cell_type": "code",
   "execution_count": 5,
   "metadata": {},
   "outputs": [
    {
     "data": {
      "text/html": [
       "<div>\n",
       "<style scoped>\n",
       "    .dataframe tbody tr th:only-of-type {\n",
       "        vertical-align: middle;\n",
       "    }\n",
       "\n",
       "    .dataframe tbody tr th {\n",
       "        vertical-align: top;\n",
       "    }\n",
       "\n",
       "    .dataframe thead th {\n",
       "        text-align: right;\n",
       "    }\n",
       "</style>\n",
       "<table border=\"1\" class=\"dataframe\">\n",
       "  <thead>\n",
       "    <tr style=\"text-align: right;\">\n",
       "      <th></th>\n",
       "      <th>fare_amount</th>\n",
       "      <th>pickup_datetime</th>\n",
       "      <th>pickup_longitude</th>\n",
       "      <th>pickup_latitude</th>\n",
       "      <th>dropoff_longitude</th>\n",
       "      <th>dropoff_latitude</th>\n",
       "      <th>passenger_count</th>\n",
       "    </tr>\n",
       "  </thead>\n",
       "  <tbody>\n",
       "    <tr>\n",
       "      <th>0</th>\n",
       "      <td>4.5</td>\n",
       "      <td>2009-06-15 17:26:21+00:00</td>\n",
       "      <td>-73.844311</td>\n",
       "      <td>40.721319</td>\n",
       "      <td>-73.841610</td>\n",
       "      <td>40.712278</td>\n",
       "      <td>1.0</td>\n",
       "    </tr>\n",
       "    <tr>\n",
       "      <th>1</th>\n",
       "      <td>16.9</td>\n",
       "      <td>2010-01-05 16:52:16+00:00</td>\n",
       "      <td>-74.016048</td>\n",
       "      <td>40.711303</td>\n",
       "      <td>-73.979268</td>\n",
       "      <td>40.782004</td>\n",
       "      <td>1.0</td>\n",
       "    </tr>\n",
       "    <tr>\n",
       "      <th>2</th>\n",
       "      <td>5.7</td>\n",
       "      <td>2011-08-18 00:35:00+00:00</td>\n",
       "      <td>-73.982738</td>\n",
       "      <td>40.761270</td>\n",
       "      <td>-73.991242</td>\n",
       "      <td>40.750562</td>\n",
       "      <td>2.0</td>\n",
       "    </tr>\n",
       "    <tr>\n",
       "      <th>3</th>\n",
       "      <td>7.7</td>\n",
       "      <td>2012-04-21 04:30:42+00:00</td>\n",
       "      <td>-73.987130</td>\n",
       "      <td>40.733143</td>\n",
       "      <td>-73.991567</td>\n",
       "      <td>40.758092</td>\n",
       "      <td>1.0</td>\n",
       "    </tr>\n",
       "    <tr>\n",
       "      <th>4</th>\n",
       "      <td>5.3</td>\n",
       "      <td>2010-03-09 07:51:00+00:00</td>\n",
       "      <td>-73.968095</td>\n",
       "      <td>40.768008</td>\n",
       "      <td>-73.956655</td>\n",
       "      <td>40.783762</td>\n",
       "      <td>1.0</td>\n",
       "    </tr>\n",
       "  </tbody>\n",
       "</table>\n",
       "</div>"
      ],
      "text/plain": [
       "   fare_amount           pickup_datetime  pickup_longitude  pickup_latitude  \\\n",
       "0          4.5 2009-06-15 17:26:21+00:00        -73.844311        40.721319   \n",
       "1         16.9 2010-01-05 16:52:16+00:00        -74.016048        40.711303   \n",
       "2          5.7 2011-08-18 00:35:00+00:00        -73.982738        40.761270   \n",
       "3          7.7 2012-04-21 04:30:42+00:00        -73.987130        40.733143   \n",
       "4          5.3 2010-03-09 07:51:00+00:00        -73.968095        40.768008   \n",
       "\n",
       "   dropoff_longitude  dropoff_latitude  passenger_count  \n",
       "0         -73.841610         40.712278              1.0  \n",
       "1         -73.979268         40.782004              1.0  \n",
       "2         -73.991242         40.750562              2.0  \n",
       "3         -73.991567         40.758092              1.0  \n",
       "4         -73.956655         40.783762              1.0  "
      ]
     },
     "execution_count": 5,
     "metadata": {},
     "output_type": "execute_result"
    }
   ],
   "source": [
    "train.head(5)"
   ]
  },
  {
   "cell_type": "code",
   "execution_count": 6,
   "metadata": {},
   "outputs": [
    {
     "data": {
      "text/html": [
       "<div>\n",
       "<style scoped>\n",
       "    .dataframe tbody tr th:only-of-type {\n",
       "        vertical-align: middle;\n",
       "    }\n",
       "\n",
       "    .dataframe tbody tr th {\n",
       "        vertical-align: top;\n",
       "    }\n",
       "\n",
       "    .dataframe thead th {\n",
       "        text-align: right;\n",
       "    }\n",
       "</style>\n",
       "<table border=\"1\" class=\"dataframe\">\n",
       "  <thead>\n",
       "    <tr style=\"text-align: right;\">\n",
       "      <th></th>\n",
       "      <th>pickup_datetime</th>\n",
       "      <th>pickup_longitude</th>\n",
       "      <th>pickup_latitude</th>\n",
       "      <th>dropoff_longitude</th>\n",
       "      <th>dropoff_latitude</th>\n",
       "      <th>passenger_count</th>\n",
       "    </tr>\n",
       "  </thead>\n",
       "  <tbody>\n",
       "    <tr>\n",
       "      <th>0</th>\n",
       "      <td>2015-01-27 13:08:24+00:00</td>\n",
       "      <td>-73.973320</td>\n",
       "      <td>40.763805</td>\n",
       "      <td>-73.981430</td>\n",
       "      <td>40.743835</td>\n",
       "      <td>1</td>\n",
       "    </tr>\n",
       "    <tr>\n",
       "      <th>1</th>\n",
       "      <td>2015-01-27 13:08:24+00:00</td>\n",
       "      <td>-73.986862</td>\n",
       "      <td>40.719383</td>\n",
       "      <td>-73.998886</td>\n",
       "      <td>40.739201</td>\n",
       "      <td>1</td>\n",
       "    </tr>\n",
       "    <tr>\n",
       "      <th>2</th>\n",
       "      <td>2011-10-08 11:53:44+00:00</td>\n",
       "      <td>-73.982524</td>\n",
       "      <td>40.751260</td>\n",
       "      <td>-73.979654</td>\n",
       "      <td>40.746139</td>\n",
       "      <td>1</td>\n",
       "    </tr>\n",
       "    <tr>\n",
       "      <th>3</th>\n",
       "      <td>2012-12-01 21:12:12+00:00</td>\n",
       "      <td>-73.981160</td>\n",
       "      <td>40.767807</td>\n",
       "      <td>-73.990448</td>\n",
       "      <td>40.751635</td>\n",
       "      <td>1</td>\n",
       "    </tr>\n",
       "    <tr>\n",
       "      <th>4</th>\n",
       "      <td>2012-12-01 21:12:12+00:00</td>\n",
       "      <td>-73.966046</td>\n",
       "      <td>40.789775</td>\n",
       "      <td>-73.988565</td>\n",
       "      <td>40.744427</td>\n",
       "      <td>1</td>\n",
       "    </tr>\n",
       "  </tbody>\n",
       "</table>\n",
       "</div>"
      ],
      "text/plain": [
       "            pickup_datetime  pickup_longitude  pickup_latitude  \\\n",
       "0 2015-01-27 13:08:24+00:00        -73.973320        40.763805   \n",
       "1 2015-01-27 13:08:24+00:00        -73.986862        40.719383   \n",
       "2 2011-10-08 11:53:44+00:00        -73.982524        40.751260   \n",
       "3 2012-12-01 21:12:12+00:00        -73.981160        40.767807   \n",
       "4 2012-12-01 21:12:12+00:00        -73.966046        40.789775   \n",
       "\n",
       "   dropoff_longitude  dropoff_latitude  passenger_count  \n",
       "0         -73.981430         40.743835                1  \n",
       "1         -73.998886         40.739201                1  \n",
       "2         -73.979654         40.746139                1  \n",
       "3         -73.990448         40.751635                1  \n",
       "4         -73.988565         40.744427                1  "
      ]
     },
     "execution_count": 6,
     "metadata": {},
     "output_type": "execute_result"
    }
   ],
   "source": [
    "test.head(5)"
   ]
  },
  {
   "cell_type": "code",
   "execution_count": 7,
   "metadata": {},
   "outputs": [
    {
     "name": "stdout",
     "output_type": "stream",
     "text": [
      "<class 'pandas.core.frame.DataFrame'>\n",
      "RangeIndex: 16067 entries, 0 to 16066\n",
      "Data columns (total 7 columns):\n",
      "fare_amount          16042 non-null float64\n",
      "pickup_datetime      16066 non-null datetime64[ns, UTC]\n",
      "pickup_longitude     16067 non-null float64\n",
      "pickup_latitude      16067 non-null float64\n",
      "dropoff_longitude    16067 non-null float64\n",
      "dropoff_latitude     16067 non-null float64\n",
      "passenger_count      16012 non-null float64\n",
      "dtypes: datetime64[ns, UTC](1), float64(6)\n",
      "memory usage: 878.7 KB\n"
     ]
    }
   ],
   "source": [
    "train.info()"
   ]
  },
  {
   "cell_type": "code",
   "execution_count": 8,
   "metadata": {},
   "outputs": [
    {
     "name": "stdout",
     "output_type": "stream",
     "text": [
      "<class 'pandas.core.frame.DataFrame'>\n",
      "RangeIndex: 9914 entries, 0 to 9913\n",
      "Data columns (total 6 columns):\n",
      "pickup_datetime      9914 non-null datetime64[ns, UTC]\n",
      "pickup_longitude     9914 non-null float64\n",
      "pickup_latitude      9914 non-null float64\n",
      "dropoff_longitude    9914 non-null float64\n",
      "dropoff_latitude     9914 non-null float64\n",
      "passenger_count      9914 non-null int64\n",
      "dtypes: datetime64[ns, UTC](1), float64(4), int64(1)\n",
      "memory usage: 464.8 KB\n"
     ]
    }
   ],
   "source": [
    "test.info()"
   ]
  },
  {
   "cell_type": "code",
   "execution_count": 9,
   "metadata": {},
   "outputs": [
    {
     "data": {
      "text/html": [
       "<div>\n",
       "<style scoped>\n",
       "    .dataframe tbody tr th:only-of-type {\n",
       "        vertical-align: middle;\n",
       "    }\n",
       "\n",
       "    .dataframe tbody tr th {\n",
       "        vertical-align: top;\n",
       "    }\n",
       "\n",
       "    .dataframe thead th {\n",
       "        text-align: right;\n",
       "    }\n",
       "</style>\n",
       "<table border=\"1\" class=\"dataframe\">\n",
       "  <thead>\n",
       "    <tr style=\"text-align: right;\">\n",
       "      <th></th>\n",
       "      <th>fare_amount</th>\n",
       "      <th>pickup_longitude</th>\n",
       "      <th>pickup_latitude</th>\n",
       "      <th>dropoff_longitude</th>\n",
       "      <th>dropoff_latitude</th>\n",
       "      <th>passenger_count</th>\n",
       "    </tr>\n",
       "  </thead>\n",
       "  <tbody>\n",
       "    <tr>\n",
       "      <th>count</th>\n",
       "      <td>16042.000000</td>\n",
       "      <td>16067.000000</td>\n",
       "      <td>16067.000000</td>\n",
       "      <td>16067.000000</td>\n",
       "      <td>16067.000000</td>\n",
       "      <td>16012.000000</td>\n",
       "    </tr>\n",
       "    <tr>\n",
       "      <th>mean</th>\n",
       "      <td>15.015004</td>\n",
       "      <td>-72.462787</td>\n",
       "      <td>39.914725</td>\n",
       "      <td>-72.462328</td>\n",
       "      <td>39.897906</td>\n",
       "      <td>2.625070</td>\n",
       "    </tr>\n",
       "    <tr>\n",
       "      <th>std</th>\n",
       "      <td>430.460945</td>\n",
       "      <td>10.578384</td>\n",
       "      <td>6.826587</td>\n",
       "      <td>10.575062</td>\n",
       "      <td>6.187087</td>\n",
       "      <td>60.844122</td>\n",
       "    </tr>\n",
       "    <tr>\n",
       "      <th>min</th>\n",
       "      <td>-3.000000</td>\n",
       "      <td>-74.438233</td>\n",
       "      <td>-74.006893</td>\n",
       "      <td>-74.429332</td>\n",
       "      <td>-74.006377</td>\n",
       "      <td>0.000000</td>\n",
       "    </tr>\n",
       "    <tr>\n",
       "      <th>25%</th>\n",
       "      <td>6.000000</td>\n",
       "      <td>-73.992156</td>\n",
       "      <td>40.734927</td>\n",
       "      <td>-73.991182</td>\n",
       "      <td>40.734651</td>\n",
       "      <td>1.000000</td>\n",
       "    </tr>\n",
       "    <tr>\n",
       "      <th>50%</th>\n",
       "      <td>8.500000</td>\n",
       "      <td>-73.981698</td>\n",
       "      <td>40.752603</td>\n",
       "      <td>-73.980172</td>\n",
       "      <td>40.753567</td>\n",
       "      <td>1.000000</td>\n",
       "    </tr>\n",
       "    <tr>\n",
       "      <th>75%</th>\n",
       "      <td>12.500000</td>\n",
       "      <td>-73.966838</td>\n",
       "      <td>40.767381</td>\n",
       "      <td>-73.963643</td>\n",
       "      <td>40.768013</td>\n",
       "      <td>2.000000</td>\n",
       "    </tr>\n",
       "    <tr>\n",
       "      <th>max</th>\n",
       "      <td>54343.000000</td>\n",
       "      <td>40.766125</td>\n",
       "      <td>401.083332</td>\n",
       "      <td>40.802437</td>\n",
       "      <td>41.366138</td>\n",
       "      <td>5345.000000</td>\n",
       "    </tr>\n",
       "  </tbody>\n",
       "</table>\n",
       "</div>"
      ],
      "text/plain": [
       "        fare_amount  pickup_longitude  pickup_latitude  dropoff_longitude  \\\n",
       "count  16042.000000      16067.000000     16067.000000       16067.000000   \n",
       "mean      15.015004        -72.462787        39.914725         -72.462328   \n",
       "std      430.460945         10.578384         6.826587          10.575062   \n",
       "min       -3.000000        -74.438233       -74.006893         -74.429332   \n",
       "25%        6.000000        -73.992156        40.734927         -73.991182   \n",
       "50%        8.500000        -73.981698        40.752603         -73.980172   \n",
       "75%       12.500000        -73.966838        40.767381         -73.963643   \n",
       "max    54343.000000         40.766125       401.083332          40.802437   \n",
       "\n",
       "       dropoff_latitude  passenger_count  \n",
       "count      16067.000000     16012.000000  \n",
       "mean          39.897906         2.625070  \n",
       "std            6.187087        60.844122  \n",
       "min          -74.006377         0.000000  \n",
       "25%           40.734651         1.000000  \n",
       "50%           40.753567         1.000000  \n",
       "75%           40.768013         2.000000  \n",
       "max           41.366138      5345.000000  "
      ]
     },
     "execution_count": 9,
     "metadata": {},
     "output_type": "execute_result"
    }
   ],
   "source": [
    "train.describe()"
   ]
  },
  {
   "cell_type": "code",
   "execution_count": 10,
   "metadata": {},
   "outputs": [
    {
     "data": {
      "text/html": [
       "<div>\n",
       "<style scoped>\n",
       "    .dataframe tbody tr th:only-of-type {\n",
       "        vertical-align: middle;\n",
       "    }\n",
       "\n",
       "    .dataframe tbody tr th {\n",
       "        vertical-align: top;\n",
       "    }\n",
       "\n",
       "    .dataframe thead th {\n",
       "        text-align: right;\n",
       "    }\n",
       "</style>\n",
       "<table border=\"1\" class=\"dataframe\">\n",
       "  <thead>\n",
       "    <tr style=\"text-align: right;\">\n",
       "      <th></th>\n",
       "      <th>pickup_longitude</th>\n",
       "      <th>pickup_latitude</th>\n",
       "      <th>dropoff_longitude</th>\n",
       "      <th>dropoff_latitude</th>\n",
       "      <th>passenger_count</th>\n",
       "    </tr>\n",
       "  </thead>\n",
       "  <tbody>\n",
       "    <tr>\n",
       "      <th>count</th>\n",
       "      <td>9914.000000</td>\n",
       "      <td>9914.000000</td>\n",
       "      <td>9914.000000</td>\n",
       "      <td>9914.000000</td>\n",
       "      <td>9914.000000</td>\n",
       "    </tr>\n",
       "    <tr>\n",
       "      <th>mean</th>\n",
       "      <td>-73.974722</td>\n",
       "      <td>40.751041</td>\n",
       "      <td>-73.973657</td>\n",
       "      <td>40.751743</td>\n",
       "      <td>1.671273</td>\n",
       "    </tr>\n",
       "    <tr>\n",
       "      <th>std</th>\n",
       "      <td>0.042774</td>\n",
       "      <td>0.033541</td>\n",
       "      <td>0.039072</td>\n",
       "      <td>0.035435</td>\n",
       "      <td>1.278747</td>\n",
       "    </tr>\n",
       "    <tr>\n",
       "      <th>min</th>\n",
       "      <td>-74.252193</td>\n",
       "      <td>40.573143</td>\n",
       "      <td>-74.263242</td>\n",
       "      <td>40.568973</td>\n",
       "      <td>1.000000</td>\n",
       "    </tr>\n",
       "    <tr>\n",
       "      <th>25%</th>\n",
       "      <td>-73.992501</td>\n",
       "      <td>40.736125</td>\n",
       "      <td>-73.991247</td>\n",
       "      <td>40.735254</td>\n",
       "      <td>1.000000</td>\n",
       "    </tr>\n",
       "    <tr>\n",
       "      <th>50%</th>\n",
       "      <td>-73.982326</td>\n",
       "      <td>40.753051</td>\n",
       "      <td>-73.980015</td>\n",
       "      <td>40.754065</td>\n",
       "      <td>1.000000</td>\n",
       "    </tr>\n",
       "    <tr>\n",
       "      <th>75%</th>\n",
       "      <td>-73.968013</td>\n",
       "      <td>40.767113</td>\n",
       "      <td>-73.964059</td>\n",
       "      <td>40.768757</td>\n",
       "      <td>2.000000</td>\n",
       "    </tr>\n",
       "    <tr>\n",
       "      <th>max</th>\n",
       "      <td>-72.986532</td>\n",
       "      <td>41.709555</td>\n",
       "      <td>-72.990963</td>\n",
       "      <td>41.696683</td>\n",
       "      <td>6.000000</td>\n",
       "    </tr>\n",
       "  </tbody>\n",
       "</table>\n",
       "</div>"
      ],
      "text/plain": [
       "       pickup_longitude  pickup_latitude  dropoff_longitude  dropoff_latitude  \\\n",
       "count       9914.000000      9914.000000        9914.000000       9914.000000   \n",
       "mean         -73.974722        40.751041         -73.973657         40.751743   \n",
       "std            0.042774         0.033541           0.039072          0.035435   \n",
       "min          -74.252193        40.573143         -74.263242         40.568973   \n",
       "25%          -73.992501        40.736125         -73.991247         40.735254   \n",
       "50%          -73.982326        40.753051         -73.980015         40.754065   \n",
       "75%          -73.968013        40.767113         -73.964059         40.768757   \n",
       "max          -72.986532        41.709555         -72.990963         41.696683   \n",
       "\n",
       "       passenger_count  \n",
       "count      9914.000000  \n",
       "mean          1.671273  \n",
       "std           1.278747  \n",
       "min           1.000000  \n",
       "25%           1.000000  \n",
       "50%           1.000000  \n",
       "75%           2.000000  \n",
       "max           6.000000  "
      ]
     },
     "execution_count": 10,
     "metadata": {},
     "output_type": "execute_result"
    }
   ],
   "source": [
    "test.describe()"
   ]
  },
  {
   "cell_type": "markdown",
   "metadata": {},
   "source": [
    "# Exploratory Data Analysis"
   ]
  },
  {
   "cell_type": "code",
   "execution_count": 11,
   "metadata": {},
   "outputs": [
    {
     "data": {
      "text/plain": [
       "array([1.000e+00, 2.000e+00, 3.000e+00,       nan, 6.000e+00, 5.000e+00,\n",
       "       4.000e+00, 2.360e+02, 4.560e+02, 5.334e+03, 0.000e+00, 5.350e+02,\n",
       "       3.540e+02, 5.500e+01, 5.540e+02, 5.300e+01, 3.500e+01, 3.450e+02,\n",
       "       5.345e+03, 5.360e+02, 4.300e+01, 5.800e+01, 5.370e+02, 8.700e+01,\n",
       "       5.312e+02, 1.300e+00, 1.200e-01, 5.570e+02])"
      ]
     },
     "execution_count": 11,
     "metadata": {},
     "output_type": "execute_result"
    }
   ],
   "source": [
    "train['passenger_count'].unique()"
   ]
  },
  {
   "cell_type": "code",
   "execution_count": 12,
   "metadata": {},
   "outputs": [],
   "source": [
    "#We observe there are some undesired values and outliers in the passenger_count. We will remove them."
   ]
  },
  {
   "cell_type": "code",
   "execution_count": 13,
   "metadata": {},
   "outputs": [
    {
     "name": "stdout",
     "output_type": "stream",
     "text": [
      "passenger_count above4=1367\n",
      "passenger_count above5=322\n",
      "passenger_count above6=20\n",
      "passenger_count above7=20\n",
      "passenger_count above8=20\n",
      "passenger_count above9=20\n",
      "passenger_count above10=20\n"
     ]
    }
   ],
   "source": [
    "for i in range(4,11):\n",
    "    print('passenger_count above' +str(i)+'={}'.format(sum(train['passenger_count']>i)))"
   ]
  },
  {
   "cell_type": "code",
   "execution_count": 14,
   "metadata": {},
   "outputs": [],
   "source": [
    "#So, there are 20 observations in passenger_count which are constatntly above 6. Let's have a look at them."
   ]
  },
  {
   "cell_type": "code",
   "execution_count": 15,
   "metadata": {},
   "outputs": [
    {
     "data": {
      "text/html": [
       "<div>\n",
       "<style scoped>\n",
       "    .dataframe tbody tr th:only-of-type {\n",
       "        vertical-align: middle;\n",
       "    }\n",
       "\n",
       "    .dataframe tbody tr th {\n",
       "        vertical-align: top;\n",
       "    }\n",
       "\n",
       "    .dataframe thead th {\n",
       "        text-align: right;\n",
       "    }\n",
       "</style>\n",
       "<table border=\"1\" class=\"dataframe\">\n",
       "  <thead>\n",
       "    <tr style=\"text-align: right;\">\n",
       "      <th></th>\n",
       "      <th>fare_amount</th>\n",
       "      <th>pickup_datetime</th>\n",
       "      <th>pickup_longitude</th>\n",
       "      <th>pickup_latitude</th>\n",
       "      <th>dropoff_longitude</th>\n",
       "      <th>dropoff_latitude</th>\n",
       "      <th>passenger_count</th>\n",
       "    </tr>\n",
       "  </thead>\n",
       "  <tbody>\n",
       "    <tr>\n",
       "      <th>233</th>\n",
       "      <td>8.5</td>\n",
       "      <td>2011-07-24 01:14:35+00:00</td>\n",
       "      <td>0.000000</td>\n",
       "      <td>0.000000</td>\n",
       "      <td>0.000000</td>\n",
       "      <td>0.000000</td>\n",
       "      <td>236.0</td>\n",
       "    </tr>\n",
       "    <tr>\n",
       "      <th>263</th>\n",
       "      <td>4.9</td>\n",
       "      <td>2010-07-12 09:44:33+00:00</td>\n",
       "      <td>-73.983249</td>\n",
       "      <td>40.734655</td>\n",
       "      <td>-73.991278</td>\n",
       "      <td>40.738918</td>\n",
       "      <td>456.0</td>\n",
       "    </tr>\n",
       "    <tr>\n",
       "      <th>293</th>\n",
       "      <td>6.1</td>\n",
       "      <td>2011-01-18 23:48:00+00:00</td>\n",
       "      <td>-74.006642</td>\n",
       "      <td>40.738927</td>\n",
       "      <td>-74.010828</td>\n",
       "      <td>40.717907</td>\n",
       "      <td>5334.0</td>\n",
       "    </tr>\n",
       "    <tr>\n",
       "      <th>356</th>\n",
       "      <td>8.5</td>\n",
       "      <td>2013-06-18 10:27:05+00:00</td>\n",
       "      <td>-73.992108</td>\n",
       "      <td>40.764203</td>\n",
       "      <td>-73.973000</td>\n",
       "      <td>40.762695</td>\n",
       "      <td>535.0</td>\n",
       "    </tr>\n",
       "    <tr>\n",
       "      <th>386</th>\n",
       "      <td>8.1</td>\n",
       "      <td>2009-08-21 19:35:05+00:00</td>\n",
       "      <td>-73.960853</td>\n",
       "      <td>40.761557</td>\n",
       "      <td>-73.976335</td>\n",
       "      <td>40.748361</td>\n",
       "      <td>354.0</td>\n",
       "    </tr>\n",
       "    <tr>\n",
       "      <th>413</th>\n",
       "      <td>NaN</td>\n",
       "      <td>2013-09-12 11:32:00+00:00</td>\n",
       "      <td>-73.982060</td>\n",
       "      <td>40.772705</td>\n",
       "      <td>-73.956213</td>\n",
       "      <td>40.771777</td>\n",
       "      <td>55.0</td>\n",
       "    </tr>\n",
       "    <tr>\n",
       "      <th>971</th>\n",
       "      <td>10.1</td>\n",
       "      <td>2010-11-21 01:41:00+00:00</td>\n",
       "      <td>-74.004500</td>\n",
       "      <td>40.742143</td>\n",
       "      <td>-73.994330</td>\n",
       "      <td>40.720412</td>\n",
       "      <td>554.0</td>\n",
       "    </tr>\n",
       "    <tr>\n",
       "      <th>1007</th>\n",
       "      <td>3.7</td>\n",
       "      <td>2010-12-14 14:46:00+00:00</td>\n",
       "      <td>-73.969157</td>\n",
       "      <td>40.759000</td>\n",
       "      <td>-73.968763</td>\n",
       "      <td>40.764617</td>\n",
       "      <td>53.0</td>\n",
       "    </tr>\n",
       "    <tr>\n",
       "      <th>1043</th>\n",
       "      <td>5.7</td>\n",
       "      <td>2012-08-22 22:08:29+00:00</td>\n",
       "      <td>-73.973573</td>\n",
       "      <td>40.760184</td>\n",
       "      <td>-73.953564</td>\n",
       "      <td>40.767392</td>\n",
       "      <td>35.0</td>\n",
       "    </tr>\n",
       "    <tr>\n",
       "      <th>1107</th>\n",
       "      <td>4.9</td>\n",
       "      <td>2009-08-08 21:50:50+00:00</td>\n",
       "      <td>-73.988977</td>\n",
       "      <td>40.721068</td>\n",
       "      <td>-73.982368</td>\n",
       "      <td>40.732064</td>\n",
       "      <td>345.0</td>\n",
       "    </tr>\n",
       "    <tr>\n",
       "      <th>1146</th>\n",
       "      <td>8.0</td>\n",
       "      <td>2014-03-27 08:05:01+00:00</td>\n",
       "      <td>-73.991098</td>\n",
       "      <td>40.770655</td>\n",
       "      <td>-73.976933</td>\n",
       "      <td>40.790070</td>\n",
       "      <td>5345.0</td>\n",
       "    </tr>\n",
       "    <tr>\n",
       "      <th>1200</th>\n",
       "      <td>9.7</td>\n",
       "      <td>2011-08-16 09:29:00+00:00</td>\n",
       "      <td>-73.980487</td>\n",
       "      <td>40.741610</td>\n",
       "      <td>-73.980617</td>\n",
       "      <td>40.746868</td>\n",
       "      <td>536.0</td>\n",
       "    </tr>\n",
       "    <tr>\n",
       "      <th>1242</th>\n",
       "      <td>5.3</td>\n",
       "      <td>2011-10-16 00:22:00+00:00</td>\n",
       "      <td>-73.981095</td>\n",
       "      <td>40.738160</td>\n",
       "      <td>-73.990587</td>\n",
       "      <td>40.740105</td>\n",
       "      <td>43.0</td>\n",
       "    </tr>\n",
       "    <tr>\n",
       "      <th>8406</th>\n",
       "      <td>6.9</td>\n",
       "      <td>2010-08-25 11:41:00+00:00</td>\n",
       "      <td>0.000000</td>\n",
       "      <td>0.000000</td>\n",
       "      <td>0.000000</td>\n",
       "      <td>0.000000</td>\n",
       "      <td>53.0</td>\n",
       "    </tr>\n",
       "    <tr>\n",
       "      <th>8445</th>\n",
       "      <td>5.7</td>\n",
       "      <td>2009-03-28 22:00:00+00:00</td>\n",
       "      <td>-73.982413</td>\n",
       "      <td>40.751320</td>\n",
       "      <td>-73.971292</td>\n",
       "      <td>40.748502</td>\n",
       "      <td>58.0</td>\n",
       "    </tr>\n",
       "    <tr>\n",
       "      <th>8506</th>\n",
       "      <td>11.3</td>\n",
       "      <td>2010-05-23 20:06:37+00:00</td>\n",
       "      <td>-73.985424</td>\n",
       "      <td>40.738468</td>\n",
       "      <td>-74.001698</td>\n",
       "      <td>40.707758</td>\n",
       "      <td>537.0</td>\n",
       "    </tr>\n",
       "    <tr>\n",
       "      <th>8571</th>\n",
       "      <td>12.5</td>\n",
       "      <td>2011-12-03 03:21:00+00:00</td>\n",
       "      <td>-73.993718</td>\n",
       "      <td>40.762039</td>\n",
       "      <td>-73.977527</td>\n",
       "      <td>40.734024</td>\n",
       "      <td>87.0</td>\n",
       "    </tr>\n",
       "    <tr>\n",
       "      <th>8631</th>\n",
       "      <td>20.0</td>\n",
       "      <td>2012-12-10 22:28:00+00:00</td>\n",
       "      <td>-73.955445</td>\n",
       "      <td>40.670232</td>\n",
       "      <td>-74.004795</td>\n",
       "      <td>40.731477</td>\n",
       "      <td>43.0</td>\n",
       "    </tr>\n",
       "    <tr>\n",
       "      <th>8715</th>\n",
       "      <td>4.5</td>\n",
       "      <td>2009-09-04 09:14:03+00:00</td>\n",
       "      <td>-73.977518</td>\n",
       "      <td>40.758480</td>\n",
       "      <td>-73.983252</td>\n",
       "      <td>40.749837</td>\n",
       "      <td>531.2</td>\n",
       "    </tr>\n",
       "    <tr>\n",
       "      <th>8985</th>\n",
       "      <td>8.5</td>\n",
       "      <td>2015-01-14 15:10:21+00:00</td>\n",
       "      <td>-73.955444</td>\n",
       "      <td>40.787605</td>\n",
       "      <td>-73.965561</td>\n",
       "      <td>40.798691</td>\n",
       "      <td>557.0</td>\n",
       "    </tr>\n",
       "  </tbody>\n",
       "</table>\n",
       "</div>"
      ],
      "text/plain": [
       "      fare_amount           pickup_datetime  pickup_longitude  \\\n",
       "233           8.5 2011-07-24 01:14:35+00:00          0.000000   \n",
       "263           4.9 2010-07-12 09:44:33+00:00        -73.983249   \n",
       "293           6.1 2011-01-18 23:48:00+00:00        -74.006642   \n",
       "356           8.5 2013-06-18 10:27:05+00:00        -73.992108   \n",
       "386           8.1 2009-08-21 19:35:05+00:00        -73.960853   \n",
       "413           NaN 2013-09-12 11:32:00+00:00        -73.982060   \n",
       "971          10.1 2010-11-21 01:41:00+00:00        -74.004500   \n",
       "1007          3.7 2010-12-14 14:46:00+00:00        -73.969157   \n",
       "1043          5.7 2012-08-22 22:08:29+00:00        -73.973573   \n",
       "1107          4.9 2009-08-08 21:50:50+00:00        -73.988977   \n",
       "1146          8.0 2014-03-27 08:05:01+00:00        -73.991098   \n",
       "1200          9.7 2011-08-16 09:29:00+00:00        -73.980487   \n",
       "1242          5.3 2011-10-16 00:22:00+00:00        -73.981095   \n",
       "8406          6.9 2010-08-25 11:41:00+00:00          0.000000   \n",
       "8445          5.7 2009-03-28 22:00:00+00:00        -73.982413   \n",
       "8506         11.3 2010-05-23 20:06:37+00:00        -73.985424   \n",
       "8571         12.5 2011-12-03 03:21:00+00:00        -73.993718   \n",
       "8631         20.0 2012-12-10 22:28:00+00:00        -73.955445   \n",
       "8715          4.5 2009-09-04 09:14:03+00:00        -73.977518   \n",
       "8985          8.5 2015-01-14 15:10:21+00:00        -73.955444   \n",
       "\n",
       "      pickup_latitude  dropoff_longitude  dropoff_latitude  passenger_count  \n",
       "233          0.000000           0.000000          0.000000            236.0  \n",
       "263         40.734655         -73.991278         40.738918            456.0  \n",
       "293         40.738927         -74.010828         40.717907           5334.0  \n",
       "356         40.764203         -73.973000         40.762695            535.0  \n",
       "386         40.761557         -73.976335         40.748361            354.0  \n",
       "413         40.772705         -73.956213         40.771777             55.0  \n",
       "971         40.742143         -73.994330         40.720412            554.0  \n",
       "1007        40.759000         -73.968763         40.764617             53.0  \n",
       "1043        40.760184         -73.953564         40.767392             35.0  \n",
       "1107        40.721068         -73.982368         40.732064            345.0  \n",
       "1146        40.770655         -73.976933         40.790070           5345.0  \n",
       "1200        40.741610         -73.980617         40.746868            536.0  \n",
       "1242        40.738160         -73.990587         40.740105             43.0  \n",
       "8406         0.000000           0.000000          0.000000             53.0  \n",
       "8445        40.751320         -73.971292         40.748502             58.0  \n",
       "8506        40.738468         -74.001698         40.707758            537.0  \n",
       "8571        40.762039         -73.977527         40.734024             87.0  \n",
       "8631        40.670232         -74.004795         40.731477             43.0  \n",
       "8715        40.758480         -73.983252         40.749837            531.2  \n",
       "8985        40.787605         -73.965561         40.798691            557.0  "
      ]
     },
     "execution_count": 15,
     "metadata": {},
     "output_type": "execute_result"
    }
   ],
   "source": [
    "#Checking passenger_count > 6 because maximum number of passengers in test is 6 and also a cab can't accomodate more than 6 people. \n",
    "train[train['passenger_count']>6] "
   ]
  },
  {
   "cell_type": "code",
   "execution_count": 16,
   "metadata": {},
   "outputs": [],
   "source": [
    "#Let's check if there are any passenger_count values which are < 1."
   ]
  },
  {
   "cell_type": "code",
   "execution_count": 17,
   "metadata": {},
   "outputs": [
    {
     "data": {
      "text/html": [
       "<div>\n",
       "<style scoped>\n",
       "    .dataframe tbody tr th:only-of-type {\n",
       "        vertical-align: middle;\n",
       "    }\n",
       "\n",
       "    .dataframe tbody tr th {\n",
       "        vertical-align: top;\n",
       "    }\n",
       "\n",
       "    .dataframe thead th {\n",
       "        text-align: right;\n",
       "    }\n",
       "</style>\n",
       "<table border=\"1\" class=\"dataframe\">\n",
       "  <thead>\n",
       "    <tr style=\"text-align: right;\">\n",
       "      <th></th>\n",
       "      <th>fare_amount</th>\n",
       "      <th>pickup_datetime</th>\n",
       "      <th>pickup_longitude</th>\n",
       "      <th>pickup_latitude</th>\n",
       "      <th>dropoff_longitude</th>\n",
       "      <th>dropoff_latitude</th>\n",
       "      <th>passenger_count</th>\n",
       "    </tr>\n",
       "  </thead>\n",
       "  <tbody>\n",
       "    <tr>\n",
       "      <th>314</th>\n",
       "      <td>34.0</td>\n",
       "      <td>2015-06-02 23:16:15+00:00</td>\n",
       "      <td>-73.974899</td>\n",
       "      <td>40.751095</td>\n",
       "      <td>-73.908546</td>\n",
       "      <td>40.881878</td>\n",
       "      <td>0.00</td>\n",
       "    </tr>\n",
       "    <tr>\n",
       "      <th>566</th>\n",
       "      <td>4.9</td>\n",
       "      <td>2012-01-28 21:33:18+00:00</td>\n",
       "      <td>-73.955322</td>\n",
       "      <td>40.782840</td>\n",
       "      <td>-73.955797</td>\n",
       "      <td>40.773673</td>\n",
       "      <td>0.00</td>\n",
       "    </tr>\n",
       "    <tr>\n",
       "      <th>678</th>\n",
       "      <td>6.5</td>\n",
       "      <td>2012-02-27 07:24:20+00:00</td>\n",
       "      <td>-73.983397</td>\n",
       "      <td>40.738183</td>\n",
       "      <td>-73.971395</td>\n",
       "      <td>40.758023</td>\n",
       "      <td>0.00</td>\n",
       "    </tr>\n",
       "    <tr>\n",
       "      <th>1160</th>\n",
       "      <td>13.3</td>\n",
       "      <td>2011-05-25 23:58:48+00:00</td>\n",
       "      <td>-73.998360</td>\n",
       "      <td>40.740348</td>\n",
       "      <td>-73.946455</td>\n",
       "      <td>40.777348</td>\n",
       "      <td>0.00</td>\n",
       "    </tr>\n",
       "    <tr>\n",
       "      <th>1935</th>\n",
       "      <td>10.1</td>\n",
       "      <td>2011-10-23 11:09:28+00:00</td>\n",
       "      <td>-73.971400</td>\n",
       "      <td>40.795000</td>\n",
       "      <td>-73.967900</td>\n",
       "      <td>40.768600</td>\n",
       "      <td>0.00</td>\n",
       "    </tr>\n",
       "    <tr>\n",
       "      <th>2200</th>\n",
       "      <td>8.1</td>\n",
       "      <td>2011-05-23 16:54:19+00:00</td>\n",
       "      <td>-73.988008</td>\n",
       "      <td>40.748303</td>\n",
       "      <td>-74.005185</td>\n",
       "      <td>40.738733</td>\n",
       "      <td>0.00</td>\n",
       "    </tr>\n",
       "    <tr>\n",
       "      <th>2425</th>\n",
       "      <td>8.9</td>\n",
       "      <td>2011-11-25 22:47:33+00:00</td>\n",
       "      <td>-73.999900</td>\n",
       "      <td>40.738600</td>\n",
       "      <td>-73.971800</td>\n",
       "      <td>40.746300</td>\n",
       "      <td>0.00</td>\n",
       "    </tr>\n",
       "    <tr>\n",
       "      <th>3034</th>\n",
       "      <td>5.7</td>\n",
       "      <td>2011-03-06 12:03:14+00:00</td>\n",
       "      <td>-73.986557</td>\n",
       "      <td>40.745783</td>\n",
       "      <td>-73.994545</td>\n",
       "      <td>40.729995</td>\n",
       "      <td>0.00</td>\n",
       "    </tr>\n",
       "    <tr>\n",
       "      <th>3413</th>\n",
       "      <td>7.3</td>\n",
       "      <td>2011-02-28 06:39:16+00:00</td>\n",
       "      <td>-73.973413</td>\n",
       "      <td>40.743708</td>\n",
       "      <td>-73.985220</td>\n",
       "      <td>40.741583</td>\n",
       "      <td>0.00</td>\n",
       "    </tr>\n",
       "    <tr>\n",
       "      <th>3481</th>\n",
       "      <td>11.3</td>\n",
       "      <td>2011-11-30 17:23:02+00:00</td>\n",
       "      <td>-73.968100</td>\n",
       "      <td>40.762500</td>\n",
       "      <td>-73.984400</td>\n",
       "      <td>40.760900</td>\n",
       "      <td>0.00</td>\n",
       "    </tr>\n",
       "    <tr>\n",
       "      <th>3489</th>\n",
       "      <td>7.3</td>\n",
       "      <td>2011-10-18 08:18:18+00:00</td>\n",
       "      <td>-73.966100</td>\n",
       "      <td>40.794500</td>\n",
       "      <td>-73.960300</td>\n",
       "      <td>40.779800</td>\n",
       "      <td>0.00</td>\n",
       "    </tr>\n",
       "    <tr>\n",
       "      <th>3599</th>\n",
       "      <td>8.9</td>\n",
       "      <td>2011-03-06 18:24:50+00:00</td>\n",
       "      <td>-73.982657</td>\n",
       "      <td>40.746145</td>\n",
       "      <td>-74.005580</td>\n",
       "      <td>40.724402</td>\n",
       "      <td>0.00</td>\n",
       "    </tr>\n",
       "    <tr>\n",
       "      <th>4114</th>\n",
       "      <td>4.5</td>\n",
       "      <td>2011-07-22 05:51:00+00:00</td>\n",
       "      <td>-73.975500</td>\n",
       "      <td>40.760800</td>\n",
       "      <td>-73.990200</td>\n",
       "      <td>40.760000</td>\n",
       "      <td>0.00</td>\n",
       "    </tr>\n",
       "    <tr>\n",
       "      <th>4248</th>\n",
       "      <td>4.1</td>\n",
       "      <td>2012-02-15 11:19:50+00:00</td>\n",
       "      <td>-73.982112</td>\n",
       "      <td>40.721073</td>\n",
       "      <td>-73.992240</td>\n",
       "      <td>40.725313</td>\n",
       "      <td>0.00</td>\n",
       "    </tr>\n",
       "    <tr>\n",
       "      <th>4344</th>\n",
       "      <td>24.9</td>\n",
       "      <td>2011-05-19 13:28:17+00:00</td>\n",
       "      <td>-73.789230</td>\n",
       "      <td>40.646622</td>\n",
       "      <td>-73.725032</td>\n",
       "      <td>40.614140</td>\n",
       "      <td>0.00</td>\n",
       "    </tr>\n",
       "    <tr>\n",
       "      <th>4354</th>\n",
       "      <td>5.3</td>\n",
       "      <td>2012-01-15 12:06:43+00:00</td>\n",
       "      <td>-73.964400</td>\n",
       "      <td>40.767500</td>\n",
       "      <td>-73.981600</td>\n",
       "      <td>40.774000</td>\n",
       "      <td>0.00</td>\n",
       "    </tr>\n",
       "    <tr>\n",
       "      <th>5058</th>\n",
       "      <td>12.9</td>\n",
       "      <td>2011-11-05 18:29:30+00:00</td>\n",
       "      <td>-74.008900</td>\n",
       "      <td>40.709400</td>\n",
       "      <td>-73.985400</td>\n",
       "      <td>40.756200</td>\n",
       "      <td>0.00</td>\n",
       "    </tr>\n",
       "    <tr>\n",
       "      <th>5150</th>\n",
       "      <td>7.7</td>\n",
       "      <td>2011-11-07 22:07:24+00:00</td>\n",
       "      <td>-73.984900</td>\n",
       "      <td>40.675300</td>\n",
       "      <td>-74.010400</td>\n",
       "      <td>40.655200</td>\n",
       "      <td>0.00</td>\n",
       "    </tr>\n",
       "    <tr>\n",
       "      <th>5161</th>\n",
       "      <td>11.3</td>\n",
       "      <td>2011-12-20 06:59:57+00:00</td>\n",
       "      <td>-73.983700</td>\n",
       "      <td>40.775800</td>\n",
       "      <td>-73.985300</td>\n",
       "      <td>40.741300</td>\n",
       "      <td>0.00</td>\n",
       "    </tr>\n",
       "    <tr>\n",
       "      <th>5277</th>\n",
       "      <td>6.1</td>\n",
       "      <td>2012-04-12 09:35:22+00:00</td>\n",
       "      <td>-73.967003</td>\n",
       "      <td>40.772417</td>\n",
       "      <td>-73.968860</td>\n",
       "      <td>40.761147</td>\n",
       "      <td>0.00</td>\n",
       "    </tr>\n",
       "    <tr>\n",
       "      <th>5517</th>\n",
       "      <td>3.3</td>\n",
       "      <td>2012-07-02 16:11:55+00:00</td>\n",
       "      <td>-74.007110</td>\n",
       "      <td>40.743862</td>\n",
       "      <td>-74.003337</td>\n",
       "      <td>40.748877</td>\n",
       "      <td>0.00</td>\n",
       "    </tr>\n",
       "    <tr>\n",
       "      <th>5557</th>\n",
       "      <td>27.3</td>\n",
       "      <td>2011-02-08 13:31:18+00:00</td>\n",
       "      <td>-73.873318</td>\n",
       "      <td>40.773948</td>\n",
       "      <td>-74.010205</td>\n",
       "      <td>40.711158</td>\n",
       "      <td>0.00</td>\n",
       "    </tr>\n",
       "    <tr>\n",
       "      <th>5688</th>\n",
       "      <td>4.9</td>\n",
       "      <td>2011-09-07 21:50:40+00:00</td>\n",
       "      <td>-73.986700</td>\n",
       "      <td>40.761300</td>\n",
       "      <td>-73.982300</td>\n",
       "      <td>40.773900</td>\n",
       "      <td>0.00</td>\n",
       "    </tr>\n",
       "    <tr>\n",
       "      <th>5914</th>\n",
       "      <td>8.5</td>\n",
       "      <td>2011-12-19 22:44:42+00:00</td>\n",
       "      <td>-73.982000</td>\n",
       "      <td>40.755900</td>\n",
       "      <td>-73.955600</td>\n",
       "      <td>40.769600</td>\n",
       "      <td>0.00</td>\n",
       "    </tr>\n",
       "    <tr>\n",
       "      <th>6036</th>\n",
       "      <td>7.7</td>\n",
       "      <td>2011-02-26 12:41:03+00:00</td>\n",
       "      <td>-73.976715</td>\n",
       "      <td>40.775708</td>\n",
       "      <td>-73.972785</td>\n",
       "      <td>40.764467</td>\n",
       "      <td>0.00</td>\n",
       "    </tr>\n",
       "    <tr>\n",
       "      <th>6575</th>\n",
       "      <td>4.5</td>\n",
       "      <td>2012-04-19 19:44:48+00:00</td>\n",
       "      <td>-73.964598</td>\n",
       "      <td>40.807213</td>\n",
       "      <td>-73.970875</td>\n",
       "      <td>40.797955</td>\n",
       "      <td>0.00</td>\n",
       "    </tr>\n",
       "    <tr>\n",
       "      <th>6713</th>\n",
       "      <td>10.5</td>\n",
       "      <td>2012-03-06 15:35:37+00:00</td>\n",
       "      <td>-73.965115</td>\n",
       "      <td>40.766463</td>\n",
       "      <td>-73.997523</td>\n",
       "      <td>40.744878</td>\n",
       "      <td>0.00</td>\n",
       "    </tr>\n",
       "    <tr>\n",
       "      <th>6881</th>\n",
       "      <td>5.7</td>\n",
       "      <td>2011-06-14 10:12:16+00:00</td>\n",
       "      <td>-73.959000</td>\n",
       "      <td>40.781000</td>\n",
       "      <td>-73.950300</td>\n",
       "      <td>40.775400</td>\n",
       "      <td>0.00</td>\n",
       "    </tr>\n",
       "    <tr>\n",
       "      <th>7279</th>\n",
       "      <td>10.9</td>\n",
       "      <td>2012-04-18 18:44:15+00:00</td>\n",
       "      <td>-73.982930</td>\n",
       "      <td>40.722645</td>\n",
       "      <td>-73.971108</td>\n",
       "      <td>40.760172</td>\n",
       "      <td>0.00</td>\n",
       "    </tr>\n",
       "    <tr>\n",
       "      <th>7520</th>\n",
       "      <td>6.9</td>\n",
       "      <td>2011-06-08 13:11:10+00:00</td>\n",
       "      <td>-73.975100</td>\n",
       "      <td>40.755200</td>\n",
       "      <td>-73.980000</td>\n",
       "      <td>40.765900</td>\n",
       "      <td>0.00</td>\n",
       "    </tr>\n",
       "    <tr>\n",
       "      <th>7640</th>\n",
       "      <td>10.9</td>\n",
       "      <td>2012-01-21 16:17:50+00:00</td>\n",
       "      <td>-73.999505</td>\n",
       "      <td>40.725002</td>\n",
       "      <td>-73.973262</td>\n",
       "      <td>40.763290</td>\n",
       "      <td>0.00</td>\n",
       "    </tr>\n",
       "    <tr>\n",
       "      <th>7909</th>\n",
       "      <td>6.9</td>\n",
       "      <td>2011-03-12 17:03:23+00:00</td>\n",
       "      <td>-73.974793</td>\n",
       "      <td>40.759865</td>\n",
       "      <td>-73.955718</td>\n",
       "      <td>40.772732</td>\n",
       "      <td>0.00</td>\n",
       "    </tr>\n",
       "    <tr>\n",
       "      <th>8321</th>\n",
       "      <td>7.3</td>\n",
       "      <td>2012-02-25 19:19:41+00:00</td>\n",
       "      <td>-74.003725</td>\n",
       "      <td>40.742108</td>\n",
       "      <td>-73.988270</td>\n",
       "      <td>40.759308</td>\n",
       "      <td>0.00</td>\n",
       "    </tr>\n",
       "    <tr>\n",
       "      <th>8661</th>\n",
       "      <td>8.1</td>\n",
       "      <td>2012-01-13 13:47:57+00:00</td>\n",
       "      <td>-73.999700</td>\n",
       "      <td>40.721800</td>\n",
       "      <td>-74.005600</td>\n",
       "      <td>40.741100</td>\n",
       "      <td>0.00</td>\n",
       "    </tr>\n",
       "    <tr>\n",
       "      <th>8862</th>\n",
       "      <td>11.5</td>\n",
       "      <td>2013-05-17 07:15:00+00:00</td>\n",
       "      <td>-73.969835</td>\n",
       "      <td>40.753017</td>\n",
       "      <td>-73.998580</td>\n",
       "      <td>40.712927</td>\n",
       "      <td>0.12</td>\n",
       "    </tr>\n",
       "    <tr>\n",
       "      <th>8916</th>\n",
       "      <td>2.5</td>\n",
       "      <td>2011-09-13 18:45:31+00:00</td>\n",
       "      <td>-73.783300</td>\n",
       "      <td>40.648600</td>\n",
       "      <td>-73.783300</td>\n",
       "      <td>40.648600</td>\n",
       "      <td>0.00</td>\n",
       "    </tr>\n",
       "    <tr>\n",
       "      <th>8971</th>\n",
       "      <td>7.7</td>\n",
       "      <td>2011-10-22 20:50:34+00:00</td>\n",
       "      <td>-73.998600</td>\n",
       "      <td>40.761000</td>\n",
       "      <td>-73.977900</td>\n",
       "      <td>40.777200</td>\n",
       "      <td>0.00</td>\n",
       "    </tr>\n",
       "    <tr>\n",
       "      <th>9159</th>\n",
       "      <td>3.3</td>\n",
       "      <td>2011-06-04 10:38:47+00:00</td>\n",
       "      <td>-73.987300</td>\n",
       "      <td>40.729200</td>\n",
       "      <td>-73.994000</td>\n",
       "      <td>40.732100</td>\n",
       "      <td>0.00</td>\n",
       "    </tr>\n",
       "    <tr>\n",
       "      <th>9965</th>\n",
       "      <td>9.3</td>\n",
       "      <td>2012-01-04 22:04:14+00:00</td>\n",
       "      <td>-73.971000</td>\n",
       "      <td>40.754900</td>\n",
       "      <td>-74.004500</td>\n",
       "      <td>40.736100</td>\n",
       "      <td>0.00</td>\n",
       "    </tr>\n",
       "    <tr>\n",
       "      <th>10642</th>\n",
       "      <td>10.1</td>\n",
       "      <td>2012-03-10 18:21:16+00:00</td>\n",
       "      <td>-73.972272</td>\n",
       "      <td>40.754037</td>\n",
       "      <td>-73.994090</td>\n",
       "      <td>40.734440</td>\n",
       "      <td>0.00</td>\n",
       "    </tr>\n",
       "    <tr>\n",
       "      <th>10663</th>\n",
       "      <td>18.1</td>\n",
       "      <td>2011-05-06 13:38:48+00:00</td>\n",
       "      <td>-73.973818</td>\n",
       "      <td>40.789362</td>\n",
       "      <td>-73.942252</td>\n",
       "      <td>40.754120</td>\n",
       "      <td>0.00</td>\n",
       "    </tr>\n",
       "    <tr>\n",
       "      <th>10711</th>\n",
       "      <td>6.5</td>\n",
       "      <td>2012-03-31 20:16:01+00:00</td>\n",
       "      <td>-74.004323</td>\n",
       "      <td>40.724073</td>\n",
       "      <td>-74.006453</td>\n",
       "      <td>40.738420</td>\n",
       "      <td>0.00</td>\n",
       "    </tr>\n",
       "    <tr>\n",
       "      <th>11462</th>\n",
       "      <td>15.7</td>\n",
       "      <td>2011-10-20 23:09:45+00:00</td>\n",
       "      <td>-73.994800</td>\n",
       "      <td>40.750400</td>\n",
       "      <td>-73.959200</td>\n",
       "      <td>40.710600</td>\n",
       "      <td>0.00</td>\n",
       "    </tr>\n",
       "    <tr>\n",
       "      <th>11803</th>\n",
       "      <td>12.1</td>\n",
       "      <td>2011-06-21 08:58:36+00:00</td>\n",
       "      <td>-73.999000</td>\n",
       "      <td>40.724800</td>\n",
       "      <td>-73.980600</td>\n",
       "      <td>40.754900</td>\n",
       "      <td>0.00</td>\n",
       "    </tr>\n",
       "    <tr>\n",
       "      <th>12216</th>\n",
       "      <td>5.7</td>\n",
       "      <td>2012-03-27 16:06:09+00:00</td>\n",
       "      <td>-73.982017</td>\n",
       "      <td>40.756338</td>\n",
       "      <td>-73.980987</td>\n",
       "      <td>40.745442</td>\n",
       "      <td>0.00</td>\n",
       "    </tr>\n",
       "    <tr>\n",
       "      <th>12611</th>\n",
       "      <td>8.1</td>\n",
       "      <td>2011-07-22 23:13:58+00:00</td>\n",
       "      <td>-73.978000</td>\n",
       "      <td>40.752300</td>\n",
       "      <td>-73.991800</td>\n",
       "      <td>40.763900</td>\n",
       "      <td>0.00</td>\n",
       "    </tr>\n",
       "    <tr>\n",
       "      <th>13029</th>\n",
       "      <td>4.5</td>\n",
       "      <td>2012-02-01 21:18:24+00:00</td>\n",
       "      <td>-73.982117</td>\n",
       "      <td>40.770408</td>\n",
       "      <td>-73.980057</td>\n",
       "      <td>40.762155</td>\n",
       "      <td>0.00</td>\n",
       "    </tr>\n",
       "    <tr>\n",
       "      <th>13227</th>\n",
       "      <td>10.9</td>\n",
       "      <td>2011-04-22 18:13:12+00:00</td>\n",
       "      <td>-73.999512</td>\n",
       "      <td>40.722078</td>\n",
       "      <td>-73.989495</td>\n",
       "      <td>40.747422</td>\n",
       "      <td>0.00</td>\n",
       "    </tr>\n",
       "    <tr>\n",
       "      <th>13379</th>\n",
       "      <td>7.3</td>\n",
       "      <td>2012-03-14 07:20:10+00:00</td>\n",
       "      <td>-73.964512</td>\n",
       "      <td>40.771577</td>\n",
       "      <td>-73.945595</td>\n",
       "      <td>40.778032</td>\n",
       "      <td>0.00</td>\n",
       "    </tr>\n",
       "    <tr>\n",
       "      <th>13714</th>\n",
       "      <td>4.1</td>\n",
       "      <td>2011-12-15 07:05:33+00:00</td>\n",
       "      <td>-73.979400</td>\n",
       "      <td>40.731100</td>\n",
       "      <td>-73.981500</td>\n",
       "      <td>40.724800</td>\n",
       "      <td>0.00</td>\n",
       "    </tr>\n",
       "    <tr>\n",
       "      <th>13742</th>\n",
       "      <td>21.7</td>\n",
       "      <td>2011-04-29 12:51:14+00:00</td>\n",
       "      <td>-74.009472</td>\n",
       "      <td>40.702140</td>\n",
       "      <td>-73.959185</td>\n",
       "      <td>40.783245</td>\n",
       "      <td>0.00</td>\n",
       "    </tr>\n",
       "    <tr>\n",
       "      <th>14196</th>\n",
       "      <td>8.1</td>\n",
       "      <td>2011-10-06 23:31:04+00:00</td>\n",
       "      <td>-73.999400</td>\n",
       "      <td>40.743800</td>\n",
       "      <td>-73.990400</td>\n",
       "      <td>40.724800</td>\n",
       "      <td>0.00</td>\n",
       "    </tr>\n",
       "    <tr>\n",
       "      <th>14308</th>\n",
       "      <td>8.1</td>\n",
       "      <td>2011-11-11 12:03:38+00:00</td>\n",
       "      <td>0.000000</td>\n",
       "      <td>0.000000</td>\n",
       "      <td>-73.990000</td>\n",
       "      <td>40.755400</td>\n",
       "      <td>0.00</td>\n",
       "    </tr>\n",
       "    <tr>\n",
       "      <th>14872</th>\n",
       "      <td>3.3</td>\n",
       "      <td>2011-03-02 19:25:46+00:00</td>\n",
       "      <td>-73.948553</td>\n",
       "      <td>40.773972</td>\n",
       "      <td>-73.945098</td>\n",
       "      <td>40.778413</td>\n",
       "      <td>0.00</td>\n",
       "    </tr>\n",
       "    <tr>\n",
       "      <th>15286</th>\n",
       "      <td>4.9</td>\n",
       "      <td>2012-03-20 22:23:34+00:00</td>\n",
       "      <td>-73.971808</td>\n",
       "      <td>40.760143</td>\n",
       "      <td>-73.962027</td>\n",
       "      <td>40.767677</td>\n",
       "      <td>0.00</td>\n",
       "    </tr>\n",
       "    <tr>\n",
       "      <th>15514</th>\n",
       "      <td>6.5</td>\n",
       "      <td>2012-02-12 02:03:50+00:00</td>\n",
       "      <td>-73.999342</td>\n",
       "      <td>40.718872</td>\n",
       "      <td>-73.984112</td>\n",
       "      <td>40.725242</td>\n",
       "      <td>0.00</td>\n",
       "    </tr>\n",
       "    <tr>\n",
       "      <th>15554</th>\n",
       "      <td>6.5</td>\n",
       "      <td>2011-08-03 08:31:19+00:00</td>\n",
       "      <td>-73.991700</td>\n",
       "      <td>40.750100</td>\n",
       "      <td>-73.981000</td>\n",
       "      <td>40.750900</td>\n",
       "      <td>0.00</td>\n",
       "    </tr>\n",
       "    <tr>\n",
       "      <th>15919</th>\n",
       "      <td>16.5</td>\n",
       "      <td>2011-10-17 08:58:54+00:00</td>\n",
       "      <td>0.000000</td>\n",
       "      <td>0.000000</td>\n",
       "      <td>-73.999700</td>\n",
       "      <td>40.734500</td>\n",
       "      <td>0.00</td>\n",
       "    </tr>\n",
       "  </tbody>\n",
       "</table>\n",
       "</div>"
      ],
      "text/plain": [
       "       fare_amount           pickup_datetime  pickup_longitude  \\\n",
       "314           34.0 2015-06-02 23:16:15+00:00        -73.974899   \n",
       "566            4.9 2012-01-28 21:33:18+00:00        -73.955322   \n",
       "678            6.5 2012-02-27 07:24:20+00:00        -73.983397   \n",
       "1160          13.3 2011-05-25 23:58:48+00:00        -73.998360   \n",
       "1935          10.1 2011-10-23 11:09:28+00:00        -73.971400   \n",
       "2200           8.1 2011-05-23 16:54:19+00:00        -73.988008   \n",
       "2425           8.9 2011-11-25 22:47:33+00:00        -73.999900   \n",
       "3034           5.7 2011-03-06 12:03:14+00:00        -73.986557   \n",
       "3413           7.3 2011-02-28 06:39:16+00:00        -73.973413   \n",
       "3481          11.3 2011-11-30 17:23:02+00:00        -73.968100   \n",
       "3489           7.3 2011-10-18 08:18:18+00:00        -73.966100   \n",
       "3599           8.9 2011-03-06 18:24:50+00:00        -73.982657   \n",
       "4114           4.5 2011-07-22 05:51:00+00:00        -73.975500   \n",
       "4248           4.1 2012-02-15 11:19:50+00:00        -73.982112   \n",
       "4344          24.9 2011-05-19 13:28:17+00:00        -73.789230   \n",
       "4354           5.3 2012-01-15 12:06:43+00:00        -73.964400   \n",
       "5058          12.9 2011-11-05 18:29:30+00:00        -74.008900   \n",
       "5150           7.7 2011-11-07 22:07:24+00:00        -73.984900   \n",
       "5161          11.3 2011-12-20 06:59:57+00:00        -73.983700   \n",
       "5277           6.1 2012-04-12 09:35:22+00:00        -73.967003   \n",
       "5517           3.3 2012-07-02 16:11:55+00:00        -74.007110   \n",
       "5557          27.3 2011-02-08 13:31:18+00:00        -73.873318   \n",
       "5688           4.9 2011-09-07 21:50:40+00:00        -73.986700   \n",
       "5914           8.5 2011-12-19 22:44:42+00:00        -73.982000   \n",
       "6036           7.7 2011-02-26 12:41:03+00:00        -73.976715   \n",
       "6575           4.5 2012-04-19 19:44:48+00:00        -73.964598   \n",
       "6713          10.5 2012-03-06 15:35:37+00:00        -73.965115   \n",
       "6881           5.7 2011-06-14 10:12:16+00:00        -73.959000   \n",
       "7279          10.9 2012-04-18 18:44:15+00:00        -73.982930   \n",
       "7520           6.9 2011-06-08 13:11:10+00:00        -73.975100   \n",
       "7640          10.9 2012-01-21 16:17:50+00:00        -73.999505   \n",
       "7909           6.9 2011-03-12 17:03:23+00:00        -73.974793   \n",
       "8321           7.3 2012-02-25 19:19:41+00:00        -74.003725   \n",
       "8661           8.1 2012-01-13 13:47:57+00:00        -73.999700   \n",
       "8862          11.5 2013-05-17 07:15:00+00:00        -73.969835   \n",
       "8916           2.5 2011-09-13 18:45:31+00:00        -73.783300   \n",
       "8971           7.7 2011-10-22 20:50:34+00:00        -73.998600   \n",
       "9159           3.3 2011-06-04 10:38:47+00:00        -73.987300   \n",
       "9965           9.3 2012-01-04 22:04:14+00:00        -73.971000   \n",
       "10642         10.1 2012-03-10 18:21:16+00:00        -73.972272   \n",
       "10663         18.1 2011-05-06 13:38:48+00:00        -73.973818   \n",
       "10711          6.5 2012-03-31 20:16:01+00:00        -74.004323   \n",
       "11462         15.7 2011-10-20 23:09:45+00:00        -73.994800   \n",
       "11803         12.1 2011-06-21 08:58:36+00:00        -73.999000   \n",
       "12216          5.7 2012-03-27 16:06:09+00:00        -73.982017   \n",
       "12611          8.1 2011-07-22 23:13:58+00:00        -73.978000   \n",
       "13029          4.5 2012-02-01 21:18:24+00:00        -73.982117   \n",
       "13227         10.9 2011-04-22 18:13:12+00:00        -73.999512   \n",
       "13379          7.3 2012-03-14 07:20:10+00:00        -73.964512   \n",
       "13714          4.1 2011-12-15 07:05:33+00:00        -73.979400   \n",
       "13742         21.7 2011-04-29 12:51:14+00:00        -74.009472   \n",
       "14196          8.1 2011-10-06 23:31:04+00:00        -73.999400   \n",
       "14308          8.1 2011-11-11 12:03:38+00:00          0.000000   \n",
       "14872          3.3 2011-03-02 19:25:46+00:00        -73.948553   \n",
       "15286          4.9 2012-03-20 22:23:34+00:00        -73.971808   \n",
       "15514          6.5 2012-02-12 02:03:50+00:00        -73.999342   \n",
       "15554          6.5 2011-08-03 08:31:19+00:00        -73.991700   \n",
       "15919         16.5 2011-10-17 08:58:54+00:00          0.000000   \n",
       "\n",
       "       pickup_latitude  dropoff_longitude  dropoff_latitude  passenger_count  \n",
       "314          40.751095         -73.908546         40.881878             0.00  \n",
       "566          40.782840         -73.955797         40.773673             0.00  \n",
       "678          40.738183         -73.971395         40.758023             0.00  \n",
       "1160         40.740348         -73.946455         40.777348             0.00  \n",
       "1935         40.795000         -73.967900         40.768600             0.00  \n",
       "2200         40.748303         -74.005185         40.738733             0.00  \n",
       "2425         40.738600         -73.971800         40.746300             0.00  \n",
       "3034         40.745783         -73.994545         40.729995             0.00  \n",
       "3413         40.743708         -73.985220         40.741583             0.00  \n",
       "3481         40.762500         -73.984400         40.760900             0.00  \n",
       "3489         40.794500         -73.960300         40.779800             0.00  \n",
       "3599         40.746145         -74.005580         40.724402             0.00  \n",
       "4114         40.760800         -73.990200         40.760000             0.00  \n",
       "4248         40.721073         -73.992240         40.725313             0.00  \n",
       "4344         40.646622         -73.725032         40.614140             0.00  \n",
       "4354         40.767500         -73.981600         40.774000             0.00  \n",
       "5058         40.709400         -73.985400         40.756200             0.00  \n",
       "5150         40.675300         -74.010400         40.655200             0.00  \n",
       "5161         40.775800         -73.985300         40.741300             0.00  \n",
       "5277         40.772417         -73.968860         40.761147             0.00  \n",
       "5517         40.743862         -74.003337         40.748877             0.00  \n",
       "5557         40.773948         -74.010205         40.711158             0.00  \n",
       "5688         40.761300         -73.982300         40.773900             0.00  \n",
       "5914         40.755900         -73.955600         40.769600             0.00  \n",
       "6036         40.775708         -73.972785         40.764467             0.00  \n",
       "6575         40.807213         -73.970875         40.797955             0.00  \n",
       "6713         40.766463         -73.997523         40.744878             0.00  \n",
       "6881         40.781000         -73.950300         40.775400             0.00  \n",
       "7279         40.722645         -73.971108         40.760172             0.00  \n",
       "7520         40.755200         -73.980000         40.765900             0.00  \n",
       "7640         40.725002         -73.973262         40.763290             0.00  \n",
       "7909         40.759865         -73.955718         40.772732             0.00  \n",
       "8321         40.742108         -73.988270         40.759308             0.00  \n",
       "8661         40.721800         -74.005600         40.741100             0.00  \n",
       "8862         40.753017         -73.998580         40.712927             0.12  \n",
       "8916         40.648600         -73.783300         40.648600             0.00  \n",
       "8971         40.761000         -73.977900         40.777200             0.00  \n",
       "9159         40.729200         -73.994000         40.732100             0.00  \n",
       "9965         40.754900         -74.004500         40.736100             0.00  \n",
       "10642        40.754037         -73.994090         40.734440             0.00  \n",
       "10663        40.789362         -73.942252         40.754120             0.00  \n",
       "10711        40.724073         -74.006453         40.738420             0.00  \n",
       "11462        40.750400         -73.959200         40.710600             0.00  \n",
       "11803        40.724800         -73.980600         40.754900             0.00  \n",
       "12216        40.756338         -73.980987         40.745442             0.00  \n",
       "12611        40.752300         -73.991800         40.763900             0.00  \n",
       "13029        40.770408         -73.980057         40.762155             0.00  \n",
       "13227        40.722078         -73.989495         40.747422             0.00  \n",
       "13379        40.771577         -73.945595         40.778032             0.00  \n",
       "13714        40.731100         -73.981500         40.724800             0.00  \n",
       "13742        40.702140         -73.959185         40.783245             0.00  \n",
       "14196        40.743800         -73.990400         40.724800             0.00  \n",
       "14308         0.000000         -73.990000         40.755400             0.00  \n",
       "14872        40.773972         -73.945098         40.778413             0.00  \n",
       "15286        40.760143         -73.962027         40.767677             0.00  \n",
       "15514        40.718872         -73.984112         40.725242             0.00  \n",
       "15554        40.750100         -73.981000         40.750900             0.00  \n",
       "15919         0.000000         -73.999700         40.734500             0.00  "
      ]
     },
     "execution_count": 17,
     "metadata": {},
     "output_type": "execute_result"
    }
   ],
   "source": [
    "#Checking passenger count < 1 because minimum number of passengers in a cab must be 1.\n",
    "train[train['passenger_count']<1]"
   ]
  },
  {
   "cell_type": "code",
   "execution_count": 18,
   "metadata": {},
   "outputs": [
    {
     "data": {
      "text/plain": [
       "58"
      ]
     },
     "execution_count": 18,
     "metadata": {},
     "output_type": "execute_result"
    }
   ],
   "source": [
    "#Let's check how many of these observations are there.\n",
    "len(train[train['passenger_count']<1])"
   ]
  },
  {
   "cell_type": "code",
   "execution_count": 19,
   "metadata": {},
   "outputs": [
    {
     "data": {
      "text/plain": [
       "(16067, 7)"
      ]
     },
     "execution_count": 19,
     "metadata": {},
     "output_type": "execute_result"
    }
   ],
   "source": [
    "#Now, we will remove passenger_count > 6 and passenger_count < 1. So, we will remove 20 + 58 = 78 rows.\n",
    "train.shape"
   ]
  },
  {
   "cell_type": "code",
   "execution_count": 20,
   "metadata": {},
   "outputs": [],
   "source": [
    "#Removing the undesired observations\n",
    "train = train.drop(train[train['passenger_count']>6].index, axis=0)\n",
    "train = train.drop(train[train['passenger_count']<1].index, axis=0)"
   ]
  },
  {
   "cell_type": "code",
   "execution_count": 21,
   "metadata": {},
   "outputs": [
    {
     "data": {
      "text/plain": [
       "(15989, 7)"
      ]
     },
     "execution_count": 21,
     "metadata": {},
     "output_type": "execute_result"
    }
   ],
   "source": [
    "train.shape #As we can see, we have succesfully removed the observations."
   ]
  },
  {
   "cell_type": "code",
   "execution_count": 22,
   "metadata": {},
   "outputs": [
    {
     "data": {
      "text/plain": [
       "5"
      ]
     },
     "execution_count": 22,
     "metadata": {},
     "output_type": "execute_result"
    }
   ],
   "source": [
    "#We have observed that there are some negative values in fare_amount. Also, fare_amount cannot be 0. So, we will remove such observations.\n",
    "#First, we need to change the datatype of fare_amount:\n",
    "train['fare_amount'] = train['fare_amount'].astype('float')\n",
    "sum(train['fare_amount']<1)"
   ]
  },
  {
   "cell_type": "code",
   "execution_count": 23,
   "metadata": {},
   "outputs": [
    {
     "data": {
      "text/html": [
       "<div>\n",
       "<style scoped>\n",
       "    .dataframe tbody tr th:only-of-type {\n",
       "        vertical-align: middle;\n",
       "    }\n",
       "\n",
       "    .dataframe tbody tr th {\n",
       "        vertical-align: top;\n",
       "    }\n",
       "\n",
       "    .dataframe thead th {\n",
       "        text-align: right;\n",
       "    }\n",
       "</style>\n",
       "<table border=\"1\" class=\"dataframe\">\n",
       "  <thead>\n",
       "    <tr style=\"text-align: right;\">\n",
       "      <th></th>\n",
       "      <th>fare_amount</th>\n",
       "      <th>pickup_datetime</th>\n",
       "      <th>pickup_longitude</th>\n",
       "      <th>pickup_latitude</th>\n",
       "      <th>dropoff_longitude</th>\n",
       "      <th>dropoff_latitude</th>\n",
       "      <th>passenger_count</th>\n",
       "    </tr>\n",
       "  </thead>\n",
       "  <tbody>\n",
       "    <tr>\n",
       "      <th>2039</th>\n",
       "      <td>-2.90</td>\n",
       "      <td>2010-03-09 23:37:10+00:00</td>\n",
       "      <td>-73.789450</td>\n",
       "      <td>40.643498</td>\n",
       "      <td>-73.788665</td>\n",
       "      <td>40.641952</td>\n",
       "      <td>1.0</td>\n",
       "    </tr>\n",
       "    <tr>\n",
       "      <th>2486</th>\n",
       "      <td>-2.50</td>\n",
       "      <td>2015-03-22 05:14:27+00:00</td>\n",
       "      <td>-74.000031</td>\n",
       "      <td>40.720631</td>\n",
       "      <td>-73.999809</td>\n",
       "      <td>40.720539</td>\n",
       "      <td>1.0</td>\n",
       "    </tr>\n",
       "    <tr>\n",
       "      <th>2780</th>\n",
       "      <td>0.01</td>\n",
       "      <td>2015-05-01 15:38:41+00:00</td>\n",
       "      <td>-73.939041</td>\n",
       "      <td>40.713963</td>\n",
       "      <td>-73.941673</td>\n",
       "      <td>40.713997</td>\n",
       "      <td>1.0</td>\n",
       "    </tr>\n",
       "    <tr>\n",
       "      <th>10002</th>\n",
       "      <td>0.00</td>\n",
       "      <td>2010-02-15 14:26:01+00:00</td>\n",
       "      <td>-73.987115</td>\n",
       "      <td>40.738808</td>\n",
       "      <td>-74.005911</td>\n",
       "      <td>40.713960</td>\n",
       "      <td>1.0</td>\n",
       "    </tr>\n",
       "    <tr>\n",
       "      <th>13032</th>\n",
       "      <td>-3.00</td>\n",
       "      <td>2013-08-30 08:57:10+00:00</td>\n",
       "      <td>-73.995062</td>\n",
       "      <td>40.740755</td>\n",
       "      <td>-73.995885</td>\n",
       "      <td>40.741357</td>\n",
       "      <td>4.0</td>\n",
       "    </tr>\n",
       "  </tbody>\n",
       "</table>\n",
       "</div>"
      ],
      "text/plain": [
       "       fare_amount           pickup_datetime  pickup_longitude  \\\n",
       "2039         -2.90 2010-03-09 23:37:10+00:00        -73.789450   \n",
       "2486         -2.50 2015-03-22 05:14:27+00:00        -74.000031   \n",
       "2780          0.01 2015-05-01 15:38:41+00:00        -73.939041   \n",
       "10002         0.00 2010-02-15 14:26:01+00:00        -73.987115   \n",
       "13032        -3.00 2013-08-30 08:57:10+00:00        -73.995062   \n",
       "\n",
       "       pickup_latitude  dropoff_longitude  dropoff_latitude  passenger_count  \n",
       "2039         40.643498         -73.788665         40.641952              1.0  \n",
       "2486         40.720631         -73.999809         40.720539              1.0  \n",
       "2780         40.713963         -73.941673         40.713997              1.0  \n",
       "10002        40.738808         -74.005911         40.713960              1.0  \n",
       "13032        40.740755         -73.995885         40.741357              4.0  "
      ]
     },
     "execution_count": 23,
     "metadata": {},
     "output_type": "execute_result"
    }
   ],
   "source": [
    "#Let's chechk these observations\n",
    "train[train['fare_amount']<1]"
   ]
  },
  {
   "cell_type": "code",
   "execution_count": 24,
   "metadata": {},
   "outputs": [
    {
     "data": {
      "text/plain": [
       "(15989, 7)"
      ]
     },
     "execution_count": 24,
     "metadata": {},
     "output_type": "execute_result"
    }
   ],
   "source": [
    "train.shape"
   ]
  },
  {
   "cell_type": "code",
   "execution_count": 25,
   "metadata": {},
   "outputs": [],
   "source": [
    "#Let's remove such observations\n",
    "train = train.drop(train[train['fare_amount']<1].index, axis=0)"
   ]
  },
  {
   "cell_type": "code",
   "execution_count": 26,
   "metadata": {},
   "outputs": [
    {
     "data": {
      "text/plain": [
       "(15984, 7)"
      ]
     },
     "execution_count": 26,
     "metadata": {},
     "output_type": "execute_result"
    }
   ],
   "source": [
    "train.shape #We have succesfully removed the observations."
   ]
  },
  {
   "cell_type": "code",
   "execution_count": 27,
   "metadata": {},
   "outputs": [
    {
     "name": "stdout",
     "output_type": "stream",
     "text": [
      "pickup_longitude above 180=0\n",
      "pickup_longitude below -180=0\n",
      "pickup_latitude above 90=1\n",
      "pickup_latitude below -90=0\n",
      "dropoff_longitude above 180=0\n",
      "dropoff_longitude below -180=0\n",
      "dropoff_latitude below -90=0\n",
      "dropoff_latitude above 90=0\n"
     ]
    }
   ],
   "source": [
    "#Our basic knowledge tells us that latitudes range from -90 to +90 and longitudes range from -180 to +180.\n",
    "#We'll check for values which do not satisfy those conditions:\n",
    "print('pickup_longitude above 180={}'.format(sum(train['pickup_longitude']>180)))\n",
    "print('pickup_longitude below -180={}'.format(sum(train['pickup_longitude']<-180)))\n",
    "print('pickup_latitude above 90={}'.format(sum(train['pickup_latitude']>90)))\n",
    "print('pickup_latitude below -90={}'.format(sum(train['pickup_latitude']<-90)))\n",
    "print('dropoff_longitude above 180={}'.format(sum(train['dropoff_longitude']>180)))\n",
    "print('dropoff_longitude below -180={}'.format(sum(train['dropoff_longitude']<-180)))\n",
    "print('dropoff_latitude below -90={}'.format(sum(train['dropoff_latitude']<-90)))\n",
    "print('dropoff_latitude above 90={}'.format(sum(train['dropoff_latitude']>90)))"
   ]
  },
  {
   "cell_type": "code",
   "execution_count": 28,
   "metadata": {},
   "outputs": [
    {
     "name": "stdout",
     "output_type": "stream",
     "text": [
      "pickup_longitude equal to 0=311\n",
      "pickup_latitude equal to 0=311\n",
      "dropoff_longitude equal to 0=312\n",
      "dropoff_latitude equal to 0=310\n"
     ]
    }
   ],
   "source": [
    "#There's only one outlier which is in variable pickup_latitude and we will remove it.\n",
    "#Also we will see if there are any values equal to 0.\n",
    "for i in ['pickup_longitude','pickup_latitude','dropoff_longitude','dropoff_latitude']:\n",
    "    print(i,'equal to 0={}'.format(sum(train[i]==0)))"
   ]
  },
  {
   "cell_type": "code",
   "execution_count": 29,
   "metadata": {},
   "outputs": [
    {
     "data": {
      "text/plain": [
       "(15984, 7)"
      ]
     },
     "execution_count": 29,
     "metadata": {},
     "output_type": "execute_result"
    }
   ],
   "source": [
    "train.shape\n"
   ]
  },
  {
   "cell_type": "code",
   "execution_count": 30,
   "metadata": {},
   "outputs": [],
   "source": [
    "# there are values which are equal to 0. we will remove them.\n",
    "#We will also remove the one value in pickup_latitude variable.\n",
    "train = train.drop(train[train['pickup_latitude']>90].index, axis=0)\n",
    "for i in ['pickup_longitude','pickup_latitude','dropoff_longitude','dropoff_latitude']:\n",
    "    train = train.drop(train[train[i]==0].index, axis=0)"
   ]
  },
  {
   "cell_type": "code",
   "execution_count": 31,
   "metadata": {},
   "outputs": [
    {
     "data": {
      "text/plain": [
       "(15661, 7)"
      ]
     },
     "execution_count": 31,
     "metadata": {},
     "output_type": "execute_result"
    }
   ],
   "source": [
    "train.shape"
   ]
  },
  {
   "cell_type": "code",
   "execution_count": 32,
   "metadata": {},
   "outputs": [],
   "source": [
    "#Making a copy of train in an object df\n",
    "df=train.copy()"
   ]
  },
  {
   "cell_type": "markdown",
   "metadata": {},
   "source": [
    "# MISSING VALUE ANALYSIS"
   ]
  },
  {
   "cell_type": "code",
   "execution_count": 33,
   "metadata": {},
   "outputs": [
    {
     "data": {
      "text/html": [
       "<div>\n",
       "<style scoped>\n",
       "    .dataframe tbody tr th:only-of-type {\n",
       "        vertical-align: middle;\n",
       "    }\n",
       "\n",
       "    .dataframe tbody tr th {\n",
       "        vertical-align: top;\n",
       "    }\n",
       "\n",
       "    .dataframe thead th {\n",
       "        text-align: right;\n",
       "    }\n",
       "</style>\n",
       "<table border=\"1\" class=\"dataframe\">\n",
       "  <thead>\n",
       "    <tr style=\"text-align: right;\">\n",
       "      <th></th>\n",
       "      <th>0</th>\n",
       "    </tr>\n",
       "  </thead>\n",
       "  <tbody>\n",
       "    <tr>\n",
       "      <th>fare_amount</th>\n",
       "      <td>22</td>\n",
       "    </tr>\n",
       "    <tr>\n",
       "      <th>pickup_datetime</th>\n",
       "      <td>1</td>\n",
       "    </tr>\n",
       "    <tr>\n",
       "      <th>pickup_longitude</th>\n",
       "      <td>0</td>\n",
       "    </tr>\n",
       "    <tr>\n",
       "      <th>pickup_latitude</th>\n",
       "      <td>0</td>\n",
       "    </tr>\n",
       "    <tr>\n",
       "      <th>dropoff_longitude</th>\n",
       "      <td>0</td>\n",
       "    </tr>\n",
       "    <tr>\n",
       "      <th>dropoff_latitude</th>\n",
       "      <td>0</td>\n",
       "    </tr>\n",
       "    <tr>\n",
       "      <th>passenger_count</th>\n",
       "      <td>55</td>\n",
       "    </tr>\n",
       "  </tbody>\n",
       "</table>\n",
       "</div>"
      ],
      "text/plain": [
       "                    0\n",
       "fare_amount        22\n",
       "pickup_datetime     1\n",
       "pickup_longitude    0\n",
       "pickup_latitude     0\n",
       "dropoff_longitude   0\n",
       "dropoff_latitude    0\n",
       "passenger_count    55"
      ]
     },
     "execution_count": 33,
     "metadata": {},
     "output_type": "execute_result"
    }
   ],
   "source": [
    "#Create dataframe with missing percentage\n",
    "missing_val = pd.DataFrame(train.isnull().sum())\n",
    "\n",
    "missing_val"
   ]
  },
  {
   "cell_type": "code",
   "execution_count": 34,
   "metadata": {},
   "outputs": [
    {
     "data": {
      "text/html": [
       "<div>\n",
       "<style scoped>\n",
       "    .dataframe tbody tr th:only-of-type {\n",
       "        vertical-align: middle;\n",
       "    }\n",
       "\n",
       "    .dataframe tbody tr th {\n",
       "        vertical-align: top;\n",
       "    }\n",
       "\n",
       "    .dataframe thead th {\n",
       "        text-align: right;\n",
       "    }\n",
       "</style>\n",
       "<table border=\"1\" class=\"dataframe\">\n",
       "  <thead>\n",
       "    <tr style=\"text-align: right;\">\n",
       "      <th></th>\n",
       "      <th>index</th>\n",
       "      <th>0</th>\n",
       "    </tr>\n",
       "  </thead>\n",
       "  <tbody>\n",
       "    <tr>\n",
       "      <th>0</th>\n",
       "      <td>fare_amount</td>\n",
       "      <td>22</td>\n",
       "    </tr>\n",
       "    <tr>\n",
       "      <th>1</th>\n",
       "      <td>pickup_datetime</td>\n",
       "      <td>1</td>\n",
       "    </tr>\n",
       "    <tr>\n",
       "      <th>2</th>\n",
       "      <td>pickup_longitude</td>\n",
       "      <td>0</td>\n",
       "    </tr>\n",
       "    <tr>\n",
       "      <th>3</th>\n",
       "      <td>pickup_latitude</td>\n",
       "      <td>0</td>\n",
       "    </tr>\n",
       "    <tr>\n",
       "      <th>4</th>\n",
       "      <td>dropoff_longitude</td>\n",
       "      <td>0</td>\n",
       "    </tr>\n",
       "    <tr>\n",
       "      <th>5</th>\n",
       "      <td>dropoff_latitude</td>\n",
       "      <td>0</td>\n",
       "    </tr>\n",
       "    <tr>\n",
       "      <th>6</th>\n",
       "      <td>passenger_count</td>\n",
       "      <td>55</td>\n",
       "    </tr>\n",
       "  </tbody>\n",
       "</table>\n",
       "</div>"
      ],
      "text/plain": [
       "               index   0\n",
       "0        fare_amount  22\n",
       "1    pickup_datetime   1\n",
       "2   pickup_longitude   0\n",
       "3    pickup_latitude   0\n",
       "4  dropoff_longitude   0\n",
       "5   dropoff_latitude   0\n",
       "6    passenger_count  55"
      ]
     },
     "execution_count": 34,
     "metadata": {},
     "output_type": "execute_result"
    }
   ],
   "source": [
    "#Reset index\n",
    "missing_val = missing_val.reset_index()\n",
    "\n",
    "missing_val"
   ]
  },
  {
   "cell_type": "code",
   "execution_count": 35,
   "metadata": {},
   "outputs": [
    {
     "data": {
      "text/html": [
       "<div>\n",
       "<style scoped>\n",
       "    .dataframe tbody tr th:only-of-type {\n",
       "        vertical-align: middle;\n",
       "    }\n",
       "\n",
       "    .dataframe tbody tr th {\n",
       "        vertical-align: top;\n",
       "    }\n",
       "\n",
       "    .dataframe thead th {\n",
       "        text-align: right;\n",
       "    }\n",
       "</style>\n",
       "<table border=\"1\" class=\"dataframe\">\n",
       "  <thead>\n",
       "    <tr style=\"text-align: right;\">\n",
       "      <th></th>\n",
       "      <th>Variables</th>\n",
       "      <th>Missing_percentage</th>\n",
       "    </tr>\n",
       "  </thead>\n",
       "  <tbody>\n",
       "    <tr>\n",
       "      <th>0</th>\n",
       "      <td>fare_amount</td>\n",
       "      <td>22</td>\n",
       "    </tr>\n",
       "    <tr>\n",
       "      <th>1</th>\n",
       "      <td>pickup_datetime</td>\n",
       "      <td>1</td>\n",
       "    </tr>\n",
       "    <tr>\n",
       "      <th>2</th>\n",
       "      <td>pickup_longitude</td>\n",
       "      <td>0</td>\n",
       "    </tr>\n",
       "    <tr>\n",
       "      <th>3</th>\n",
       "      <td>pickup_latitude</td>\n",
       "      <td>0</td>\n",
       "    </tr>\n",
       "    <tr>\n",
       "      <th>4</th>\n",
       "      <td>dropoff_longitude</td>\n",
       "      <td>0</td>\n",
       "    </tr>\n",
       "    <tr>\n",
       "      <th>5</th>\n",
       "      <td>dropoff_latitude</td>\n",
       "      <td>0</td>\n",
       "    </tr>\n",
       "    <tr>\n",
       "      <th>6</th>\n",
       "      <td>passenger_count</td>\n",
       "      <td>55</td>\n",
       "    </tr>\n",
       "  </tbody>\n",
       "</table>\n",
       "</div>"
      ],
      "text/plain": [
       "           Variables  Missing_percentage\n",
       "0        fare_amount                  22\n",
       "1    pickup_datetime                   1\n",
       "2   pickup_longitude                   0\n",
       "3    pickup_latitude                   0\n",
       "4  dropoff_longitude                   0\n",
       "5   dropoff_latitude                   0\n",
       "6    passenger_count                  55"
      ]
     },
     "execution_count": 35,
     "metadata": {},
     "output_type": "execute_result"
    }
   ],
   "source": [
    "#Rename variable\n",
    "missing_val = missing_val.rename(columns = {'index': 'Variables', 0: 'Missing_percentage'})\n",
    "\n",
    "missing_val"
   ]
  },
  {
   "cell_type": "code",
   "execution_count": 36,
   "metadata": {},
   "outputs": [
    {
     "data": {
      "text/html": [
       "<div>\n",
       "<style scoped>\n",
       "    .dataframe tbody tr th:only-of-type {\n",
       "        vertical-align: middle;\n",
       "    }\n",
       "\n",
       "    .dataframe tbody tr th {\n",
       "        vertical-align: top;\n",
       "    }\n",
       "\n",
       "    .dataframe thead th {\n",
       "        text-align: right;\n",
       "    }\n",
       "</style>\n",
       "<table border=\"1\" class=\"dataframe\">\n",
       "  <thead>\n",
       "    <tr style=\"text-align: right;\">\n",
       "      <th></th>\n",
       "      <th>Variables</th>\n",
       "      <th>Missing_percentage</th>\n",
       "    </tr>\n",
       "  </thead>\n",
       "  <tbody>\n",
       "    <tr>\n",
       "      <th>0</th>\n",
       "      <td>fare_amount</td>\n",
       "      <td>0.140476</td>\n",
       "    </tr>\n",
       "    <tr>\n",
       "      <th>1</th>\n",
       "      <td>pickup_datetime</td>\n",
       "      <td>0.006385</td>\n",
       "    </tr>\n",
       "    <tr>\n",
       "      <th>2</th>\n",
       "      <td>pickup_longitude</td>\n",
       "      <td>0.000000</td>\n",
       "    </tr>\n",
       "    <tr>\n",
       "      <th>3</th>\n",
       "      <td>pickup_latitude</td>\n",
       "      <td>0.000000</td>\n",
       "    </tr>\n",
       "    <tr>\n",
       "      <th>4</th>\n",
       "      <td>dropoff_longitude</td>\n",
       "      <td>0.000000</td>\n",
       "    </tr>\n",
       "    <tr>\n",
       "      <th>5</th>\n",
       "      <td>dropoff_latitude</td>\n",
       "      <td>0.000000</td>\n",
       "    </tr>\n",
       "    <tr>\n",
       "      <th>6</th>\n",
       "      <td>passenger_count</td>\n",
       "      <td>0.351191</td>\n",
       "    </tr>\n",
       "  </tbody>\n",
       "</table>\n",
       "</div>"
      ],
      "text/plain": [
       "           Variables  Missing_percentage\n",
       "0        fare_amount            0.140476\n",
       "1    pickup_datetime            0.006385\n",
       "2   pickup_longitude            0.000000\n",
       "3    pickup_latitude            0.000000\n",
       "4  dropoff_longitude            0.000000\n",
       "5   dropoff_latitude            0.000000\n",
       "6    passenger_count            0.351191"
      ]
     },
     "execution_count": 36,
     "metadata": {},
     "output_type": "execute_result"
    }
   ],
   "source": [
    "#Calculate percentage\n",
    "missing_val['Missing_percentage'] = (missing_val['Missing_percentage']/len(train))*100\n",
    "missing_val"
   ]
  },
  {
   "cell_type": "code",
   "execution_count": 37,
   "metadata": {},
   "outputs": [
    {
     "data": {
      "text/html": [
       "<div>\n",
       "<style scoped>\n",
       "    .dataframe tbody tr th:only-of-type {\n",
       "        vertical-align: middle;\n",
       "    }\n",
       "\n",
       "    .dataframe tbody tr th {\n",
       "        vertical-align: top;\n",
       "    }\n",
       "\n",
       "    .dataframe thead th {\n",
       "        text-align: right;\n",
       "    }\n",
       "</style>\n",
       "<table border=\"1\" class=\"dataframe\">\n",
       "  <thead>\n",
       "    <tr style=\"text-align: right;\">\n",
       "      <th></th>\n",
       "      <th>Variables</th>\n",
       "      <th>Missing_percentage</th>\n",
       "    </tr>\n",
       "  </thead>\n",
       "  <tbody>\n",
       "    <tr>\n",
       "      <th>0</th>\n",
       "      <td>passenger_count</td>\n",
       "      <td>0.351191</td>\n",
       "    </tr>\n",
       "    <tr>\n",
       "      <th>1</th>\n",
       "      <td>fare_amount</td>\n",
       "      <td>0.140476</td>\n",
       "    </tr>\n",
       "    <tr>\n",
       "      <th>2</th>\n",
       "      <td>pickup_datetime</td>\n",
       "      <td>0.006385</td>\n",
       "    </tr>\n",
       "    <tr>\n",
       "      <th>3</th>\n",
       "      <td>pickup_longitude</td>\n",
       "      <td>0.000000</td>\n",
       "    </tr>\n",
       "    <tr>\n",
       "      <th>4</th>\n",
       "      <td>pickup_latitude</td>\n",
       "      <td>0.000000</td>\n",
       "    </tr>\n",
       "    <tr>\n",
       "      <th>5</th>\n",
       "      <td>dropoff_longitude</td>\n",
       "      <td>0.000000</td>\n",
       "    </tr>\n",
       "    <tr>\n",
       "      <th>6</th>\n",
       "      <td>dropoff_latitude</td>\n",
       "      <td>0.000000</td>\n",
       "    </tr>\n",
       "  </tbody>\n",
       "</table>\n",
       "</div>"
      ],
      "text/plain": [
       "           Variables  Missing_percentage\n",
       "0    passenger_count            0.351191\n",
       "1        fare_amount            0.140476\n",
       "2    pickup_datetime            0.006385\n",
       "3   pickup_longitude            0.000000\n",
       "4    pickup_latitude            0.000000\n",
       "5  dropoff_longitude            0.000000\n",
       "6   dropoff_latitude            0.000000"
      ]
     },
     "execution_count": 37,
     "metadata": {},
     "output_type": "execute_result"
    }
   ],
   "source": [
    "#descending order\n",
    "missing_val = missing_val.sort_values('Missing_percentage', ascending = False).reset_index(drop = True)\n",
    "missing_val"
   ]
  },
  {
   "cell_type": "code",
   "execution_count": 38,
   "metadata": {},
   "outputs": [],
   "source": [
    "#save output results \n",
    "missing_val.to_csv(\"Miising_perc_python.csv\", index = False)"
   ]
  },
  {
   "cell_type": "code",
   "execution_count": 39,
   "metadata": {},
   "outputs": [
    {
     "name": "stderr",
     "output_type": "stream",
     "text": [
      "E:\\Anaconda\\lib\\site-packages\\pandas\\core\\indexing.py:190: SettingWithCopyWarning: \n",
      "A value is trying to be set on a copy of a slice from a DataFrame\n",
      "\n",
      "See the caveats in the documentation: http://pandas.pydata.org/pandas-docs/stable/indexing.html#indexing-view-versus-copy\n",
      "  self._setitem_with_indexer(indexer, value)\n"
     ]
    }
   ],
   "source": [
    "#For passenger_count[500]:\n",
    "#Actual Value =1\n",
    "#Mode = 1.0\n",
    "#KNN with 3 = 1.28\n",
    "\n",
    "train['passenger_count'].loc[500] = np.nan\n",
    "\n"
   ]
  },
  {
   "cell_type": "code",
   "execution_count": 40,
   "metadata": {},
   "outputs": [],
   "source": [
    "#Imputing with mode:\n",
    "#train['passenger_count'] = train['passenger_count'].fillna(train['passenger_count'].mode()[0]).loc[500]"
   ]
  },
  {
   "cell_type": "code",
   "execution_count": 41,
   "metadata": {},
   "outputs": [],
   "source": [
    "#We will first seperate pickup_datetime from the other variables in order to use KNN\n",
    "columns=['fare_amount', 'pickup_longitude', 'pickup_latitude','dropoff_longitude', 'dropoff_latitude', 'passenger_count']\n",
    "#We will merge the seperated pickup_datetime dataframe later with train\n",
    "pickup_datetime=pd.DataFrame(train['pickup_datetime'])"
   ]
  },
  {
   "cell_type": "code",
   "execution_count": 42,
   "metadata": {},
   "outputs": [],
   "source": [
    "#Imputing with KNN. Not running the knn here as we will run it later when we impute the missing values of fare_amount.\n",
    "#train = pd.DataFrame(KNN(k = 3).fit_transform(train.drop('pickup_datetime',axis=1)),columns=columns, index=train.index)"
   ]
  },
  {
   "cell_type": "code",
   "execution_count": 43,
   "metadata": {},
   "outputs": [],
   "source": [
    "#We can't use the mode method since this data is heavily biased towards passenger_count=1. So, we will use knn method here."
   ]
  },
  {
   "cell_type": "code",
   "execution_count": 44,
   "metadata": {},
   "outputs": [],
   "source": [
    "#For fare_amount[500]:\n",
    "#Actual Value = 6.0\n",
    "#Mean Method = 15.118\n",
    "#Median Method = 8.5\n",
    "#KNN Method with 3 = 5.5\n",
    "\n",
    "train['fare_amount'].loc[500] =np.nan"
   ]
  },
  {
   "cell_type": "code",
   "execution_count": 45,
   "metadata": {},
   "outputs": [],
   "source": [
    "#Imputing with Mean Method:\n",
    "#train['fare_amount'] = train['fare_amount'].fillna(train['fare_amount']).mean()"
   ]
  },
  {
   "cell_type": "code",
   "execution_count": 46,
   "metadata": {},
   "outputs": [],
   "source": [
    "#Imputing with Median Method:\n",
    "#train['fare_amount'] = train['fare_amount'].fillna(train['fare_amount']).median()"
   ]
  },
  {
   "cell_type": "code",
   "execution_count": 47,
   "metadata": {},
   "outputs": [
    {
     "name": "stdout",
     "output_type": "stream",
     "text": [
      "Imputing row 1/15661 with 0 missing, elapsed time: 34.869\n",
      "Imputing row 101/15661 with 0 missing, elapsed time: 34.870\n",
      "Imputing row 201/15661 with 0 missing, elapsed time: 34.871\n",
      "Imputing row 301/15661 with 0 missing, elapsed time: 34.872\n",
      "Imputing row 401/15661 with 0 missing, elapsed time: 34.873\n",
      "Imputing row 501/15661 with 0 missing, elapsed time: 34.873\n",
      "Imputing row 601/15661 with 0 missing, elapsed time: 34.874\n",
      "Imputing row 701/15661 with 0 missing, elapsed time: 34.875\n",
      "Imputing row 801/15661 with 0 missing, elapsed time: 34.876\n",
      "Imputing row 901/15661 with 0 missing, elapsed time: 34.877\n",
      "Imputing row 1001/15661 with 0 missing, elapsed time: 34.877\n",
      "Imputing row 1101/15661 with 0 missing, elapsed time: 34.877\n",
      "Imputing row 1201/15661 with 0 missing, elapsed time: 34.878\n",
      "Imputing row 1301/15661 with 0 missing, elapsed time: 34.878\n",
      "Imputing row 1401/15661 with 0 missing, elapsed time: 34.879\n",
      "Imputing row 1501/15661 with 0 missing, elapsed time: 34.879\n",
      "Imputing row 1601/15661 with 0 missing, elapsed time: 34.880\n",
      "Imputing row 1701/15661 with 0 missing, elapsed time: 34.880\n",
      "Imputing row 1801/15661 with 0 missing, elapsed time: 34.881\n",
      "Imputing row 1901/15661 with 0 missing, elapsed time: 34.881\n",
      "Imputing row 2001/15661 with 0 missing, elapsed time: 34.882\n",
      "Imputing row 2101/15661 with 0 missing, elapsed time: 34.883\n",
      "Imputing row 2201/15661 with 0 missing, elapsed time: 34.883\n",
      "Imputing row 2301/15661 with 0 missing, elapsed time: 34.883\n",
      "Imputing row 2401/15661 with 0 missing, elapsed time: 34.884\n",
      "Imputing row 2501/15661 with 0 missing, elapsed time: 34.884\n",
      "Imputing row 2601/15661 with 0 missing, elapsed time: 34.885\n",
      "Imputing row 2701/15661 with 0 missing, elapsed time: 34.885\n",
      "Imputing row 2801/15661 with 0 missing, elapsed time: 34.886\n",
      "Imputing row 2901/15661 with 0 missing, elapsed time: 34.886\n",
      "Imputing row 3001/15661 with 0 missing, elapsed time: 34.886\n",
      "Imputing row 3101/15661 with 0 missing, elapsed time: 34.887\n",
      "Imputing row 3201/15661 with 0 missing, elapsed time: 34.887\n",
      "Imputing row 3301/15661 with 0 missing, elapsed time: 34.887\n",
      "Imputing row 3401/15661 with 0 missing, elapsed time: 34.888\n",
      "Imputing row 3501/15661 with 0 missing, elapsed time: 34.888\n",
      "Imputing row 3601/15661 with 0 missing, elapsed time: 34.889\n",
      "Imputing row 3701/15661 with 0 missing, elapsed time: 34.889\n",
      "Imputing row 3801/15661 with 0 missing, elapsed time: 34.889\n",
      "Imputing row 3901/15661 with 0 missing, elapsed time: 34.890\n",
      "Imputing row 4001/15661 with 0 missing, elapsed time: 34.890\n",
      "Imputing row 4101/15661 with 0 missing, elapsed time: 34.890\n",
      "Imputing row 4201/15661 with 0 missing, elapsed time: 34.891\n",
      "Imputing row 4301/15661 with 0 missing, elapsed time: 34.891\n",
      "Imputing row 4401/15661 with 0 missing, elapsed time: 34.892\n",
      "Imputing row 4501/15661 with 0 missing, elapsed time: 34.892\n",
      "Imputing row 4601/15661 with 0 missing, elapsed time: 34.892\n",
      "Imputing row 4701/15661 with 0 missing, elapsed time: 34.893\n",
      "Imputing row 4801/15661 with 0 missing, elapsed time: 34.893\n",
      "Imputing row 4901/15661 with 0 missing, elapsed time: 34.893\n",
      "Imputing row 5001/15661 with 0 missing, elapsed time: 34.894\n",
      "Imputing row 5101/15661 with 0 missing, elapsed time: 34.894\n",
      "Imputing row 5201/15661 with 0 missing, elapsed time: 34.895\n",
      "Imputing row 5301/15661 with 0 missing, elapsed time: 34.895\n",
      "Imputing row 5401/15661 with 0 missing, elapsed time: 34.895\n",
      "Imputing row 5501/15661 with 0 missing, elapsed time: 34.896\n",
      "Imputing row 5601/15661 with 0 missing, elapsed time: 34.896\n",
      "Imputing row 5701/15661 with 0 missing, elapsed time: 34.896\n",
      "Imputing row 5801/15661 with 0 missing, elapsed time: 34.897\n",
      "Imputing row 5901/15661 with 0 missing, elapsed time: 34.897\n",
      "Imputing row 6001/15661 with 0 missing, elapsed time: 34.897\n",
      "Imputing row 6101/15661 with 0 missing, elapsed time: 34.898\n",
      "Imputing row 6201/15661 with 0 missing, elapsed time: 34.898\n",
      "Imputing row 6301/15661 with 0 missing, elapsed time: 34.899\n",
      "Imputing row 6401/15661 with 0 missing, elapsed time: 34.899\n",
      "Imputing row 6501/15661 with 0 missing, elapsed time: 34.899\n",
      "Imputing row 6601/15661 with 0 missing, elapsed time: 34.900\n",
      "Imputing row 6701/15661 with 0 missing, elapsed time: 34.900\n",
      "Imputing row 6801/15661 with 0 missing, elapsed time: 34.900\n",
      "Imputing row 6901/15661 with 0 missing, elapsed time: 34.901\n",
      "Imputing row 7001/15661 with 0 missing, elapsed time: 34.901\n",
      "Imputing row 7101/15661 with 0 missing, elapsed time: 34.902\n",
      "Imputing row 7201/15661 with 0 missing, elapsed time: 34.902\n",
      "Imputing row 7301/15661 with 0 missing, elapsed time: 34.902\n",
      "Imputing row 7401/15661 with 0 missing, elapsed time: 34.903\n",
      "Imputing row 7501/15661 with 0 missing, elapsed time: 34.903\n",
      "Imputing row 7601/15661 with 0 missing, elapsed time: 34.904\n",
      "Imputing row 7701/15661 with 0 missing, elapsed time: 34.904\n",
      "Imputing row 7801/15661 with 0 missing, elapsed time: 34.905\n",
      "Imputing row 7901/15661 with 0 missing, elapsed time: 34.905\n",
      "Imputing row 8001/15661 with 0 missing, elapsed time: 34.906\n",
      "Imputing row 8101/15661 with 0 missing, elapsed time: 34.907\n",
      "Imputing row 8201/15661 with 0 missing, elapsed time: 34.907\n",
      "Imputing row 8301/15661 with 0 missing, elapsed time: 34.907\n",
      "Imputing row 8401/15661 with 0 missing, elapsed time: 34.908\n",
      "Imputing row 8501/15661 with 0 missing, elapsed time: 34.908\n",
      "Imputing row 8601/15661 with 0 missing, elapsed time: 34.908\n",
      "Imputing row 8701/15661 with 0 missing, elapsed time: 34.909\n",
      "Imputing row 8801/15661 with 0 missing, elapsed time: 34.909\n",
      "Imputing row 8901/15661 with 0 missing, elapsed time: 34.910\n",
      "Imputing row 9001/15661 with 0 missing, elapsed time: 34.910\n",
      "Imputing row 9101/15661 with 0 missing, elapsed time: 34.910\n",
      "Imputing row 9201/15661 with 0 missing, elapsed time: 34.911\n",
      "Imputing row 9301/15661 with 0 missing, elapsed time: 34.911\n",
      "Imputing row 9401/15661 with 0 missing, elapsed time: 34.911\n",
      "Imputing row 9501/15661 with 0 missing, elapsed time: 34.912\n",
      "Imputing row 9601/15661 with 0 missing, elapsed time: 34.912\n",
      "Imputing row 9701/15661 with 0 missing, elapsed time: 34.912\n",
      "Imputing row 9801/15661 with 0 missing, elapsed time: 34.913\n",
      "Imputing row 9901/15661 with 0 missing, elapsed time: 34.913\n",
      "Imputing row 10001/15661 with 0 missing, elapsed time: 34.914\n",
      "Imputing row 10101/15661 with 0 missing, elapsed time: 34.914\n",
      "Imputing row 10201/15661 with 0 missing, elapsed time: 34.914\n",
      "Imputing row 10301/15661 with 0 missing, elapsed time: 34.915\n",
      "Imputing row 10401/15661 with 0 missing, elapsed time: 34.915\n",
      "Imputing row 10501/15661 with 0 missing, elapsed time: 34.915\n",
      "Imputing row 10601/15661 with 0 missing, elapsed time: 34.916\n",
      "Imputing row 10701/15661 with 0 missing, elapsed time: 34.916\n",
      "Imputing row 10801/15661 with 0 missing, elapsed time: 34.917\n",
      "Imputing row 10901/15661 with 0 missing, elapsed time: 34.917\n",
      "Imputing row 11001/15661 with 0 missing, elapsed time: 34.917\n",
      "Imputing row 11101/15661 with 0 missing, elapsed time: 34.918\n",
      "Imputing row 11201/15661 with 0 missing, elapsed time: 34.918\n",
      "Imputing row 11301/15661 with 0 missing, elapsed time: 34.918\n",
      "Imputing row 11401/15661 with 0 missing, elapsed time: 34.919\n",
      "Imputing row 11501/15661 with 0 missing, elapsed time: 34.919\n",
      "Imputing row 11601/15661 with 0 missing, elapsed time: 34.919\n",
      "Imputing row 11701/15661 with 0 missing, elapsed time: 34.920\n",
      "Imputing row 11801/15661 with 0 missing, elapsed time: 34.920\n",
      "Imputing row 11901/15661 with 0 missing, elapsed time: 34.921\n",
      "Imputing row 12001/15661 with 0 missing, elapsed time: 34.921\n",
      "Imputing row 12101/15661 with 0 missing, elapsed time: 34.921\n",
      "Imputing row 12201/15661 with 0 missing, elapsed time: 34.922\n",
      "Imputing row 12301/15661 with 0 missing, elapsed time: 34.922\n",
      "Imputing row 12401/15661 with 0 missing, elapsed time: 34.922\n",
      "Imputing row 12501/15661 with 0 missing, elapsed time: 34.923\n",
      "Imputing row 12601/15661 with 0 missing, elapsed time: 34.923\n",
      "Imputing row 12701/15661 with 0 missing, elapsed time: 34.923\n",
      "Imputing row 12801/15661 with 0 missing, elapsed time: 34.924\n",
      "Imputing row 12901/15661 with 0 missing, elapsed time: 34.924\n",
      "Imputing row 13001/15661 with 0 missing, elapsed time: 34.925\n",
      "Imputing row 13101/15661 with 0 missing, elapsed time: 34.925\n",
      "Imputing row 13201/15661 with 0 missing, elapsed time: 34.925\n",
      "Imputing row 13301/15661 with 0 missing, elapsed time: 34.926\n",
      "Imputing row 13401/15661 with 0 missing, elapsed time: 34.926\n",
      "Imputing row 13501/15661 with 0 missing, elapsed time: 34.926\n",
      "Imputing row 13601/15661 with 0 missing, elapsed time: 34.927\n",
      "Imputing row 13701/15661 with 0 missing, elapsed time: 34.927\n",
      "Imputing row 13801/15661 with 0 missing, elapsed time: 34.927\n",
      "Imputing row 13901/15661 with 0 missing, elapsed time: 34.928\n",
      "Imputing row 14001/15661 with 0 missing, elapsed time: 34.928\n",
      "Imputing row 14101/15661 with 0 missing, elapsed time: 34.929\n",
      "Imputing row 14201/15661 with 0 missing, elapsed time: 34.929\n",
      "Imputing row 14301/15661 with 0 missing, elapsed time: 34.929\n",
      "Imputing row 14401/15661 with 0 missing, elapsed time: 34.930\n",
      "Imputing row 14501/15661 with 0 missing, elapsed time: 34.930\n",
      "Imputing row 14601/15661 with 0 missing, elapsed time: 34.930\n",
      "Imputing row 14701/15661 with 0 missing, elapsed time: 34.930\n",
      "Imputing row 14801/15661 with 0 missing, elapsed time: 34.931\n",
      "Imputing row 14901/15661 with 0 missing, elapsed time: 34.931\n",
      "Imputing row 15001/15661 with 0 missing, elapsed time: 34.931\n",
      "Imputing row 15101/15661 with 0 missing, elapsed time: 34.931\n",
      "Imputing row 15201/15661 with 0 missing, elapsed time: 34.931\n",
      "Imputing row 15301/15661 with 0 missing, elapsed time: 34.932\n",
      "Imputing row 15401/15661 with 0 missing, elapsed time: 34.932\n",
      "Imputing row 15501/15661 with 0 missing, elapsed time: 34.932\n",
      "Imputing row 15601/15661 with 0 missing, elapsed time: 34.932\n"
     ]
    }
   ],
   "source": [
    "#KNN Method:\n",
    "train = pd.DataFrame(KNN(k = 3).fit_transform(train.drop('pickup_datetime',axis=1)),columns=columns)"
   ]
  },
  {
   "cell_type": "code",
   "execution_count": 48,
   "metadata": {},
   "outputs": [
    {
     "data": {
      "text/plain": [
       "fare_amount          435.662022\n",
       "pickup_longitude       2.659050\n",
       "pickup_latitude        2.613305\n",
       "dropoff_longitude      2.710835\n",
       "dropoff_latitude       2.632400\n",
       "passenger_count        1.265172\n",
       "dtype: float64"
      ]
     },
     "execution_count": 48,
     "metadata": {},
     "output_type": "execute_result"
    }
   ],
   "source": [
    "train.std()"
   ]
  },
  {
   "cell_type": "code",
   "execution_count": 49,
   "metadata": {},
   "outputs": [
    {
     "data": {
      "text/plain": [
       "0    1.0\n",
       "1    1.0\n",
       "2    2.0\n",
       "3    1.0\n",
       "4    1.0\n",
       "Name: passenger_count, dtype: float64"
      ]
     },
     "execution_count": 49,
     "metadata": {},
     "output_type": "execute_result"
    }
   ],
   "source": [
    "train['passenger_count'].head()"
   ]
  },
  {
   "cell_type": "code",
   "execution_count": 50,
   "metadata": {},
   "outputs": [
    {
     "data": {
      "text/plain": [
       "fare_amount           8.500000\n",
       "pickup_longitude    -73.953710\n",
       "pickup_latitude      40.790813\n",
       "dropoff_longitude   -73.957015\n",
       "dropoff_latitude     40.777676\n",
       "passenger_count       1.000000\n",
       "Name: 79, dtype: float64"
      ]
     },
     "execution_count": 50,
     "metadata": {},
     "output_type": "execute_result"
    }
   ],
   "source": [
    "train.loc[79]"
   ]
  },
  {
   "cell_type": "code",
   "execution_count": 51,
   "metadata": {},
   "outputs": [
    {
     "data": {
      "text/plain": [
       "fare_amount           9.000000\n",
       "pickup_longitude    -73.984977\n",
       "pickup_latitude      40.752122\n",
       "dropoff_longitude   -74.000925\n",
       "dropoff_latitude     40.757982\n",
       "passenger_count       1.000000\n",
       "Name: 94, dtype: float64"
      ]
     },
     "execution_count": 51,
     "metadata": {},
     "output_type": "execute_result"
    }
   ],
   "source": [
    "train.loc[94]"
   ]
  },
  {
   "cell_type": "code",
   "execution_count": 52,
   "metadata": {},
   "outputs": [
    {
     "data": {
      "text/plain": [
       "fare_amount          11.300000\n",
       "pickup_longitude    -73.993973\n",
       "pickup_latitude      40.746577\n",
       "dropoff_longitude   -74.005060\n",
       "dropoff_latitude     40.709365\n",
       "passenger_count       1.000000\n",
       "Name: 198, dtype: float64"
      ]
     },
     "execution_count": 52,
     "metadata": {},
     "output_type": "execute_result"
    }
   ],
   "source": [
    "train.loc[198]"
   ]
  },
  {
   "cell_type": "code",
   "execution_count": 53,
   "metadata": {},
   "outputs": [
    {
     "data": {
      "text/plain": [
       "fare_amount          12.500000\n",
       "pickup_longitude    -73.991753\n",
       "pickup_latitude      40.731875\n",
       "dropoff_longitude   -73.967462\n",
       "dropoff_latitude     40.760708\n",
       "passenger_count       1.000000\n",
       "Name: 1317, dtype: float64"
      ]
     },
     "execution_count": 53,
     "metadata": {},
     "output_type": "execute_result"
    }
   ],
   "source": [
    "train.loc[1317]"
   ]
  },
  {
   "cell_type": "code",
   "execution_count": 54,
   "metadata": {},
   "outputs": [
    {
     "data": {
      "text/plain": [
       "fare_amount           6.607108\n",
       "pickup_longitude    -74.000405\n",
       "pickup_latitude      40.718570\n",
       "dropoff_longitude   -74.000040\n",
       "dropoff_latitude     40.726592\n",
       "passenger_count       1.000000\n",
       "Name: 482, dtype: float64"
      ]
     },
     "execution_count": 54,
     "metadata": {},
     "output_type": "execute_result"
    }
   ],
   "source": [
    "train.loc[482]"
   ]
  },
  {
   "cell_type": "code",
   "execution_count": 55,
   "metadata": {},
   "outputs": [],
   "source": [
    "train['passenger_count']=train['passenger_count'].astype('int')\n"
   ]
  },
  {
   "cell_type": "code",
   "execution_count": 56,
   "metadata": {
    "scrolled": true
   },
   "outputs": [
    {
     "data": {
      "text/plain": [
       "fare_amount           8.500000\n",
       "pickup_longitude    -73.953710\n",
       "pickup_latitude      40.790813\n",
       "dropoff_longitude   -73.957015\n",
       "dropoff_latitude     40.777676\n",
       "passenger_count       0.000000\n",
       "Name: 79, dtype: float64"
      ]
     },
     "execution_count": 56,
     "metadata": {},
     "output_type": "execute_result"
    }
   ],
   "source": [
    "train.loc[79]"
   ]
  },
  {
   "cell_type": "code",
   "execution_count": 57,
   "metadata": {},
   "outputs": [
    {
     "data": {
      "text/plain": [
       "fare_amount           9.000000\n",
       "pickup_longitude    -73.984977\n",
       "pickup_latitude      40.752122\n",
       "dropoff_longitude   -74.000925\n",
       "dropoff_latitude     40.757982\n",
       "passenger_count       0.000000\n",
       "Name: 94, dtype: float64"
      ]
     },
     "execution_count": 57,
     "metadata": {},
     "output_type": "execute_result"
    }
   ],
   "source": [
    "train.loc[94]"
   ]
  },
  {
   "cell_type": "code",
   "execution_count": 58,
   "metadata": {},
   "outputs": [
    {
     "data": {
      "text/plain": [
       "fare_amount          11.300000\n",
       "pickup_longitude    -73.993973\n",
       "pickup_latitude      40.746577\n",
       "dropoff_longitude   -74.005060\n",
       "dropoff_latitude     40.709365\n",
       "passenger_count       0.000000\n",
       "Name: 198, dtype: float64"
      ]
     },
     "execution_count": 58,
     "metadata": {},
     "output_type": "execute_result"
    }
   ],
   "source": [
    "train.loc[198]"
   ]
  },
  {
   "cell_type": "code",
   "execution_count": 59,
   "metadata": {},
   "outputs": [
    {
     "data": {
      "text/plain": [
       "fare_amount          12.500000\n",
       "pickup_longitude    -73.991753\n",
       "pickup_latitude      40.731875\n",
       "dropoff_longitude   -73.967462\n",
       "dropoff_latitude     40.760708\n",
       "passenger_count       0.000000\n",
       "Name: 1317, dtype: float64"
      ]
     },
     "execution_count": 59,
     "metadata": {},
     "output_type": "execute_result"
    }
   ],
   "source": [
    "train.loc[1317]"
   ]
  },
  {
   "cell_type": "code",
   "execution_count": 60,
   "metadata": {},
   "outputs": [
    {
     "data": {
      "text/plain": [
       "fare_amount           6.607108\n",
       "pickup_longitude    -74.000405\n",
       "pickup_latitude      40.718570\n",
       "dropoff_longitude   -74.000040\n",
       "dropoff_latitude     40.726592\n",
       "passenger_count       0.000000\n",
       "Name: 482, dtype: float64"
      ]
     },
     "execution_count": 60,
     "metadata": {},
     "output_type": "execute_result"
    }
   ],
   "source": [
    "train.loc[482]"
   ]
  },
  {
   "cell_type": "code",
   "execution_count": 61,
   "metadata": {},
   "outputs": [
    {
     "data": {
      "text/plain": [
       "(15661, 6)"
      ]
     },
     "execution_count": 61,
     "metadata": {},
     "output_type": "execute_result"
    }
   ],
   "source": [
    "#As we can se 5 new observations passenger_count have been rounded off to 0. So, we will delete these observations.\n",
    "train.shape"
   ]
  },
  {
   "cell_type": "code",
   "execution_count": 62,
   "metadata": {},
   "outputs": [
    {
     "data": {
      "text/html": [
       "<div>\n",
       "<style scoped>\n",
       "    .dataframe tbody tr th:only-of-type {\n",
       "        vertical-align: middle;\n",
       "    }\n",
       "\n",
       "    .dataframe tbody tr th {\n",
       "        vertical-align: top;\n",
       "    }\n",
       "\n",
       "    .dataframe thead th {\n",
       "        text-align: right;\n",
       "    }\n",
       "</style>\n",
       "<table border=\"1\" class=\"dataframe\">\n",
       "  <thead>\n",
       "    <tr style=\"text-align: right;\">\n",
       "      <th></th>\n",
       "      <th>fare_amount</th>\n",
       "      <th>pickup_longitude</th>\n",
       "      <th>pickup_latitude</th>\n",
       "      <th>dropoff_longitude</th>\n",
       "      <th>dropoff_latitude</th>\n",
       "      <th>passenger_count</th>\n",
       "    </tr>\n",
       "  </thead>\n",
       "  <tbody>\n",
       "    <tr>\n",
       "      <th>79</th>\n",
       "      <td>8.500000</td>\n",
       "      <td>-73.953710</td>\n",
       "      <td>40.790813</td>\n",
       "      <td>-73.957015</td>\n",
       "      <td>40.777676</td>\n",
       "      <td>0</td>\n",
       "    </tr>\n",
       "    <tr>\n",
       "      <th>94</th>\n",
       "      <td>9.000000</td>\n",
       "      <td>-73.984977</td>\n",
       "      <td>40.752122</td>\n",
       "      <td>-74.000925</td>\n",
       "      <td>40.757982</td>\n",
       "      <td>0</td>\n",
       "    </tr>\n",
       "    <tr>\n",
       "      <th>198</th>\n",
       "      <td>11.300000</td>\n",
       "      <td>-73.993973</td>\n",
       "      <td>40.746577</td>\n",
       "      <td>-74.005060</td>\n",
       "      <td>40.709365</td>\n",
       "      <td>0</td>\n",
       "    </tr>\n",
       "    <tr>\n",
       "      <th>482</th>\n",
       "      <td>6.607108</td>\n",
       "      <td>-74.000405</td>\n",
       "      <td>40.718570</td>\n",
       "      <td>-74.000040</td>\n",
       "      <td>40.726592</td>\n",
       "      <td>0</td>\n",
       "    </tr>\n",
       "    <tr>\n",
       "      <th>1317</th>\n",
       "      <td>12.500000</td>\n",
       "      <td>-73.991753</td>\n",
       "      <td>40.731875</td>\n",
       "      <td>-73.967462</td>\n",
       "      <td>40.760708</td>\n",
       "      <td>0</td>\n",
       "    </tr>\n",
       "  </tbody>\n",
       "</table>\n",
       "</div>"
      ],
      "text/plain": [
       "      fare_amount  pickup_longitude  pickup_latitude  dropoff_longitude  \\\n",
       "79       8.500000        -73.953710        40.790813         -73.957015   \n",
       "94       9.000000        -73.984977        40.752122         -74.000925   \n",
       "198     11.300000        -73.993973        40.746577         -74.005060   \n",
       "482      6.607108        -74.000405        40.718570         -74.000040   \n",
       "1317    12.500000        -73.991753        40.731875         -73.967462   \n",
       "\n",
       "      dropoff_latitude  passenger_count  \n",
       "79           40.777676                0  \n",
       "94           40.757982                0  \n",
       "198          40.709365                0  \n",
       "482          40.726592                0  \n",
       "1317         40.760708                0  "
      ]
     },
     "execution_count": 62,
     "metadata": {},
     "output_type": "execute_result"
    }
   ],
   "source": [
    "train[train['passenger_count']==0]#Noting down the index numbers since we will need to delete the rows from pickup_datetime Dataframe as well.\n",
    "#79,94,198,482,1317"
   ]
  },
  {
   "cell_type": "code",
   "execution_count": 63,
   "metadata": {},
   "outputs": [
    {
     "data": {
      "text/plain": [
       "(15656, 6)"
      ]
     },
     "execution_count": 63,
     "metadata": {},
     "output_type": "execute_result"
    }
   ],
   "source": [
    "train = train.drop(train[train['passenger_count']==0].index, axis=0)\n",
    "train.shape #We have successfully deleted the 4 rows."
   ]
  },
  {
   "cell_type": "code",
   "execution_count": 64,
   "metadata": {},
   "outputs": [
    {
     "data": {
      "text/plain": [
       "(15661, 1)"
      ]
     },
     "execution_count": 64,
     "metadata": {},
     "output_type": "execute_result"
    }
   ],
   "source": [
    "pickup_datetime.shape"
   ]
  },
  {
   "cell_type": "code",
   "execution_count": 65,
   "metadata": {},
   "outputs": [],
   "source": [
    "pickup_datetime = pickup_datetime.drop(pickup_datetime.index[[79,94,198,1317]])"
   ]
  },
  {
   "cell_type": "code",
   "execution_count": 66,
   "metadata": {},
   "outputs": [
    {
     "data": {
      "text/plain": [
       "(15657, 1)"
      ]
     },
     "execution_count": 66,
     "metadata": {},
     "output_type": "execute_result"
    }
   ],
   "source": [
    "pickup_datetime.shape"
   ]
  },
  {
   "cell_type": "code",
   "execution_count": 67,
   "metadata": {},
   "outputs": [
    {
     "data": {
      "text/plain": [
       "array([1, 2, 3, 6, 5, 4], dtype=int64)"
      ]
     },
     "execution_count": 67,
     "metadata": {},
     "output_type": "execute_result"
    }
   ],
   "source": [
    "train['passenger_count'].unique()"
   ]
  },
  {
   "cell_type": "code",
   "execution_count": 68,
   "metadata": {},
   "outputs": [
    {
     "name": "stderr",
     "output_type": "stream",
     "text": [
      "E:\\Anaconda\\lib\\site-packages\\IPython\\core\\interactiveshell.py:3325: FutureWarning: specifying 'categories' or 'ordered' in .astype() is deprecated; pass a CategoricalDtype instead\n",
      "  exec(code_obj, self.user_global_ns, self.user_ns)\n"
     ]
    }
   ],
   "source": [
    "train['passenger_count']=train['passenger_count'].round().astype('object').astype('category',ordered=True)"
   ]
  },
  {
   "cell_type": "code",
   "execution_count": 69,
   "metadata": {},
   "outputs": [
    {
     "data": {
      "text/plain": [
       "[1, 2, 3, 6, 5, 4]\n",
       "Categories (6, int64): [1 < 2 < 3 < 4 < 5 < 6]"
      ]
     },
     "execution_count": 69,
     "metadata": {},
     "output_type": "execute_result"
    }
   ],
   "source": [
    "train['passenger_count'].unique()"
   ]
  },
  {
   "cell_type": "code",
   "execution_count": 70,
   "metadata": {},
   "outputs": [
    {
     "data": {
      "text/html": [
       "<div>\n",
       "<style scoped>\n",
       "    .dataframe tbody tr th:only-of-type {\n",
       "        vertical-align: middle;\n",
       "    }\n",
       "\n",
       "    .dataframe tbody tr th {\n",
       "        vertical-align: top;\n",
       "    }\n",
       "\n",
       "    .dataframe thead th {\n",
       "        text-align: right;\n",
       "    }\n",
       "</style>\n",
       "<table border=\"1\" class=\"dataframe\">\n",
       "  <thead>\n",
       "    <tr style=\"text-align: right;\">\n",
       "      <th></th>\n",
       "      <th>index</th>\n",
       "      <th>0</th>\n",
       "    </tr>\n",
       "  </thead>\n",
       "  <tbody>\n",
       "    <tr>\n",
       "      <th>0</th>\n",
       "      <td>pickup_datetime</td>\n",
       "      <td>1</td>\n",
       "    </tr>\n",
       "  </tbody>\n",
       "</table>\n",
       "</div>"
      ],
      "text/plain": [
       "             index  0\n",
       "0  pickup_datetime  1"
      ]
     },
     "execution_count": 70,
     "metadata": {},
     "output_type": "execute_result"
    }
   ],
   "source": [
    "#Now, we have one missing value in pickup_datetime\n",
    "#Creating dataframe with missing percentage\n",
    "missing_val = pd.DataFrame(pickup_datetime.isnull().sum())\n",
    "#Reset index\n",
    "missing_val = missing_val.reset_index()\n",
    "missing_val"
   ]
  },
  {
   "cell_type": "code",
   "execution_count": 71,
   "metadata": {},
   "outputs": [
    {
     "data": {
      "text/plain": [
       "(15657, 1)"
      ]
     },
     "execution_count": 71,
     "metadata": {},
     "output_type": "execute_result"
    }
   ],
   "source": [
    "pickup_datetime.shape"
   ]
  },
  {
   "cell_type": "code",
   "execution_count": 72,
   "metadata": {},
   "outputs": [
    {
     "data": {
      "text/plain": [
       "(15656, 6)"
      ]
     },
     "execution_count": 72,
     "metadata": {},
     "output_type": "execute_result"
    }
   ],
   "source": [
    "train.shape"
   ]
  },
  {
   "cell_type": "code",
   "execution_count": 73,
   "metadata": {},
   "outputs": [],
   "source": [
    "#We will drop 1 row which has missing value for pickup_datetime variable after completing the Feature Engineering stage because if we drop now, pickup_datetime Dataframe will have one lesser row than train Datframe, then if we merge these 2 dataframes then pickup_datetime variable will gain 1 missing value.\n",
    "#And if we were to merge and then drop now then we would need to require to split again before outlier analysis and then merge again in the final Dat Pre-Porcessing stage.\n",
    "#So, we would drop the mssing value later."
   ]
  },
  {
   "cell_type": "code",
   "execution_count": 74,
   "metadata": {},
   "outputs": [],
   "source": [
    "df1 = train.copy()\n",
    "train=df1.copy()"
   ]
  },
  {
   "cell_type": "code",
   "execution_count": 75,
   "metadata": {},
   "outputs": [
    {
     "data": {
      "text/plain": [
       "(15656, 6)"
      ]
     },
     "execution_count": 75,
     "metadata": {},
     "output_type": "execute_result"
    }
   ],
   "source": [
    "train.shape"
   ]
  },
  {
   "cell_type": "code",
   "execution_count": 76,
   "metadata": {},
   "outputs": [
    {
     "data": {
      "text/plain": [
       "count     15656\n",
       "unique        6\n",
       "top           1\n",
       "freq      11050\n",
       "Name: passenger_count, dtype: int64"
      ]
     },
     "execution_count": 76,
     "metadata": {},
     "output_type": "execute_result"
    }
   ],
   "source": [
    "train['passenger_count'].describe()"
   ]
  },
  {
   "cell_type": "code",
   "execution_count": 77,
   "metadata": {},
   "outputs": [
    {
     "data": {
      "text/html": [
       "<div>\n",
       "<style scoped>\n",
       "    .dataframe tbody tr th:only-of-type {\n",
       "        vertical-align: middle;\n",
       "    }\n",
       "\n",
       "    .dataframe tbody tr th {\n",
       "        vertical-align: top;\n",
       "    }\n",
       "\n",
       "    .dataframe thead th {\n",
       "        text-align: right;\n",
       "    }\n",
       "</style>\n",
       "<table border=\"1\" class=\"dataframe\">\n",
       "  <thead>\n",
       "    <tr style=\"text-align: right;\">\n",
       "      <th></th>\n",
       "      <th>fare_amount</th>\n",
       "      <th>pickup_longitude</th>\n",
       "      <th>pickup_latitude</th>\n",
       "      <th>dropoff_longitude</th>\n",
       "      <th>dropoff_latitude</th>\n",
       "    </tr>\n",
       "  </thead>\n",
       "  <tbody>\n",
       "    <tr>\n",
       "      <th>count</th>\n",
       "      <td>15656.000000</td>\n",
       "      <td>15656.000000</td>\n",
       "      <td>15656.000000</td>\n",
       "      <td>15656.000000</td>\n",
       "      <td>15656.000000</td>\n",
       "    </tr>\n",
       "    <tr>\n",
       "      <th>mean</th>\n",
       "      <td>15.113589</td>\n",
       "      <td>-73.911490</td>\n",
       "      <td>40.689694</td>\n",
       "      <td>-73.906290</td>\n",
       "      <td>40.687636</td>\n",
       "    </tr>\n",
       "    <tr>\n",
       "      <th>std</th>\n",
       "      <td>435.731576</td>\n",
       "      <td>2.659475</td>\n",
       "      <td>2.613723</td>\n",
       "      <td>2.711268</td>\n",
       "      <td>2.632820</td>\n",
       "    </tr>\n",
       "    <tr>\n",
       "      <th>min</th>\n",
       "      <td>1.140000</td>\n",
       "      <td>-74.438233</td>\n",
       "      <td>-74.006893</td>\n",
       "      <td>-74.429332</td>\n",
       "      <td>-74.006377</td>\n",
       "    </tr>\n",
       "    <tr>\n",
       "      <th>25%</th>\n",
       "      <td>6.000000</td>\n",
       "      <td>-73.992389</td>\n",
       "      <td>40.736543</td>\n",
       "      <td>-73.991364</td>\n",
       "      <td>40.736294</td>\n",
       "    </tr>\n",
       "    <tr>\n",
       "      <th>50%</th>\n",
       "      <td>8.500000</td>\n",
       "      <td>-73.982047</td>\n",
       "      <td>40.753312</td>\n",
       "      <td>-73.980552</td>\n",
       "      <td>40.754238</td>\n",
       "    </tr>\n",
       "    <tr>\n",
       "      <th>75%</th>\n",
       "      <td>12.500000</td>\n",
       "      <td>-73.968079</td>\n",
       "      <td>40.767805</td>\n",
       "      <td>-73.965359</td>\n",
       "      <td>40.768313</td>\n",
       "    </tr>\n",
       "    <tr>\n",
       "      <th>max</th>\n",
       "      <td>54343.000000</td>\n",
       "      <td>40.766125</td>\n",
       "      <td>41.366138</td>\n",
       "      <td>40.802437</td>\n",
       "      <td>41.366138</td>\n",
       "    </tr>\n",
       "  </tbody>\n",
       "</table>\n",
       "</div>"
      ],
      "text/plain": [
       "        fare_amount  pickup_longitude  pickup_latitude  dropoff_longitude  \\\n",
       "count  15656.000000      15656.000000     15656.000000       15656.000000   \n",
       "mean      15.113589        -73.911490        40.689694         -73.906290   \n",
       "std      435.731576          2.659475         2.613723           2.711268   \n",
       "min        1.140000        -74.438233       -74.006893         -74.429332   \n",
       "25%        6.000000        -73.992389        40.736543         -73.991364   \n",
       "50%        8.500000        -73.982047        40.753312         -73.980552   \n",
       "75%       12.500000        -73.968079        40.767805         -73.965359   \n",
       "max    54343.000000         40.766125        41.366138          40.802437   \n",
       "\n",
       "       dropoff_latitude  \n",
       "count      15656.000000  \n",
       "mean          40.687636  \n",
       "std            2.632820  \n",
       "min          -74.006377  \n",
       "25%           40.736294  \n",
       "50%           40.754238  \n",
       "75%           40.768313  \n",
       "max           41.366138  "
      ]
     },
     "execution_count": 77,
     "metadata": {},
     "output_type": "execute_result"
    }
   ],
   "source": [
    "train.describe()"
   ]
  },
  {
   "cell_type": "markdown",
   "metadata": {},
   "source": [
    "# OUTLIER ANALYSIS"
   ]
  },
  {
   "cell_type": "code",
   "execution_count": 78,
   "metadata": {},
   "outputs": [],
   "source": [
    "#We will do the Outlier Analysis only on fare_amount now."
   ]
  },
  {
   "cell_type": "code",
   "execution_count": 79,
   "metadata": {},
   "outputs": [
    {
     "data": {
      "image/png": "[encoded data removed]",
      "text/plain": [
       "<Figure size 1440x360 with 1 Axes>"
      ]
     },
     "metadata": {
      "needs_background": "light"
     },
     "output_type": "display_data"
    }
   ],
   "source": [
    "#Boxplot for fare_amount\n",
    "   \n",
    "plt.figure(figsize=(20,5)) \n",
    "plt.xlim(0,100)\n",
    "sns.boxplot(x=train['fare_amount'],data=train,orient='h')\n",
    "plt.title('Boxplot of fare_amount')\n",
    "plt.savefig('bp of fare_amount.png')\n",
    "plt.show()"
   ]
  },
  {
   "cell_type": "code",
   "execution_count": 80,
   "metadata": {},
   "outputs": [
    {
     "data": {
      "image/png": "[encoded data removed]",
      "text/plain": [
       "<Figure size 1440x720 with 1 Axes>"
      ]
     },
     "metadata": {
      "needs_background": "light"
     },
     "output_type": "display_data"
    }
   ],
   "source": [
    "#BoxPlot of fare_amount vs passenger_count\n",
    "plt.figure(figsize=(20,10))\n",
    "plt.xlim(0,100)\n",
    "_ = sns.boxplot(x=train['fare_amount'],y=train['passenger_count'],data=train,orient='h')\n",
    "plt.title('Boxplot of fare_amount w.r.t passenger_count')\n",
    "plt.savefig('Boxplot of fare_amount w.r.t passenger_count.png')\n",
    "plt.show()"
   ]
  },
  {
   "cell_type": "code",
   "execution_count": 81,
   "metadata": {},
   "outputs": [
    {
     "name": "stdout",
     "output_type": "stream",
     "text": [
      "-3.75\n",
      "22.25\n"
     ]
    }
   ],
   "source": [
    "#We can see there are a lot of outliers.\n",
    "#Let's treat the outliers by replacing them with NAs\n",
    "\n",
    "q75,q25 = np.percentile(train['fare_amount'],[75,25])\n",
    "iqr = q75-q25\n",
    "\n",
    "min = q25 - (iqr*1.5)\n",
    "max = q75 + (iqr*1.5)\n",
    "\n",
    "print(min)\n",
    "print(max)\n",
    "\n",
    "\n",
    "# #Replace with NA\n",
    "# marketing_train.loc[marketing_train['custAge'] < minimum,:'custAge'] = np.nan\n",
    "# marketing_train.loc[marketing_train['custAge'] > maximum,:'custAge'] = np.nan\n",
    "train.loc[train['fare_amount'] < min,:'fare_amount'] = np.nan\n",
    "train.loc[train['fare_amount'] > max,:'fare_amount'] = np.nan"
   ]
  },
  {
   "cell_type": "code",
   "execution_count": 82,
   "metadata": {},
   "outputs": [
    {
     "data": {
      "text/plain": [
       "(15656, 6)"
      ]
     },
     "execution_count": 82,
     "metadata": {},
     "output_type": "execute_result"
    }
   ],
   "source": [
    "train.shape"
   ]
  },
  {
   "cell_type": "code",
   "execution_count": 83,
   "metadata": {},
   "outputs": [
    {
     "data": {
      "text/html": [
       "<div>\n",
       "<style scoped>\n",
       "    .dataframe tbody tr th:only-of-type {\n",
       "        vertical-align: middle;\n",
       "    }\n",
       "\n",
       "    .dataframe tbody tr th {\n",
       "        vertical-align: top;\n",
       "    }\n",
       "\n",
       "    .dataframe thead th {\n",
       "        text-align: right;\n",
       "    }\n",
       "</style>\n",
       "<table border=\"1\" class=\"dataframe\">\n",
       "  <thead>\n",
       "    <tr style=\"text-align: right;\">\n",
       "      <th></th>\n",
       "      <th>0</th>\n",
       "    </tr>\n",
       "  </thead>\n",
       "  <tbody>\n",
       "    <tr>\n",
       "      <th>fare_amount</th>\n",
       "      <td>1360</td>\n",
       "    </tr>\n",
       "    <tr>\n",
       "      <th>pickup_longitude</th>\n",
       "      <td>0</td>\n",
       "    </tr>\n",
       "    <tr>\n",
       "      <th>pickup_latitude</th>\n",
       "      <td>0</td>\n",
       "    </tr>\n",
       "    <tr>\n",
       "      <th>dropoff_longitude</th>\n",
       "      <td>0</td>\n",
       "    </tr>\n",
       "    <tr>\n",
       "      <th>dropoff_latitude</th>\n",
       "      <td>0</td>\n",
       "    </tr>\n",
       "    <tr>\n",
       "      <th>passenger_count</th>\n",
       "      <td>0</td>\n",
       "    </tr>\n",
       "  </tbody>\n",
       "</table>\n",
       "</div>"
      ],
      "text/plain": [
       "                      0\n",
       "fare_amount        1360\n",
       "pickup_longitude      0\n",
       "pickup_latitude       0\n",
       "dropoff_longitude     0\n",
       "dropoff_latitude      0\n",
       "passenger_count       0"
      ]
     },
     "execution_count": 83,
     "metadata": {},
     "output_type": "execute_result"
    }
   ],
   "source": [
    "pd.DataFrame(train.isnull().sum())"
   ]
  },
  {
   "cell_type": "code",
   "execution_count": 84,
   "metadata": {},
   "outputs": [
    {
     "data": {
      "text/plain": [
       "fare_amount          4.136625\n",
       "pickup_longitude     2.659475\n",
       "pickup_latitude      2.613723\n",
       "dropoff_longitude    2.711268\n",
       "dropoff_latitude     2.632820\n",
       "passenger_count      1.264935\n",
       "dtype: float64"
      ]
     },
     "execution_count": 84,
     "metadata": {},
     "output_type": "execute_result"
    }
   ],
   "source": [
    "train.std()"
   ]
  },
  {
   "cell_type": "code",
   "execution_count": 85,
   "metadata": {},
   "outputs": [
    {
     "name": "stdout",
     "output_type": "stream",
     "text": [
      "Imputing row 1/15656 with 0 missing, elapsed time: 36.391\n",
      "Imputing row 101/15656 with 1 missing, elapsed time: 36.395\n",
      "Imputing row 201/15656 with 0 missing, elapsed time: 36.398\n",
      "Imputing row 301/15656 with 0 missing, elapsed time: 36.399\n",
      "Imputing row 401/15656 with 0 missing, elapsed time: 36.401\n",
      "Imputing row 501/15656 with 0 missing, elapsed time: 36.403\n",
      "Imputing row 601/15656 with 0 missing, elapsed time: 36.405\n",
      "Imputing row 701/15656 with 0 missing, elapsed time: 36.407\n",
      "Imputing row 801/15656 with 0 missing, elapsed time: 36.409\n",
      "Imputing row 901/15656 with 0 missing, elapsed time: 36.414\n",
      "Imputing row 1001/15656 with 0 missing, elapsed time: 36.416\n",
      "Imputing row 1101/15656 with 0 missing, elapsed time: 36.417\n",
      "Imputing row 1201/15656 with 0 missing, elapsed time: 36.419\n",
      "Imputing row 1301/15656 with 1 missing, elapsed time: 36.421\n",
      "Imputing row 1401/15656 with 0 missing, elapsed time: 36.422\n",
      "Imputing row 1501/15656 with 0 missing, elapsed time: 36.424\n",
      "Imputing row 1601/15656 with 0 missing, elapsed time: 36.427\n",
      "Imputing row 1701/15656 with 0 missing, elapsed time: 36.428\n",
      "Imputing row 1801/15656 with 0 missing, elapsed time: 36.434\n",
      "Imputing row 1901/15656 with 0 missing, elapsed time: 36.436\n",
      "Imputing row 2001/15656 with 0 missing, elapsed time: 36.438\n",
      "Imputing row 2101/15656 with 1 missing, elapsed time: 36.440\n",
      "Imputing row 2201/15656 with 0 missing, elapsed time: 36.442\n",
      "Imputing row 2301/15656 with 0 missing, elapsed time: 36.443\n",
      "Imputing row 2401/15656 with 0 missing, elapsed time: 36.444\n",
      "Imputing row 2501/15656 with 0 missing, elapsed time: 36.446\n",
      "Imputing row 2601/15656 with 0 missing, elapsed time: 36.448\n",
      "Imputing row 2701/15656 with 0 missing, elapsed time: 36.451\n",
      "Imputing row 2801/15656 with 0 missing, elapsed time: 36.452\n",
      "Imputing row 2901/15656 with 0 missing, elapsed time: 36.454\n",
      "Imputing row 3001/15656 with 0 missing, elapsed time: 36.456\n",
      "Imputing row 3101/15656 with 0 missing, elapsed time: 36.458\n",
      "Imputing row 3201/15656 with 0 missing, elapsed time: 36.459\n",
      "Imputing row 3301/15656 with 1 missing, elapsed time: 36.461\n",
      "Imputing row 3401/15656 with 0 missing, elapsed time: 36.463\n",
      "Imputing row 3501/15656 with 0 missing, elapsed time: 36.465\n",
      "Imputing row 3601/15656 with 0 missing, elapsed time: 36.466\n",
      "Imputing row 3701/15656 with 0 missing, elapsed time: 36.468\n",
      "Imputing row 3801/15656 with 0 missing, elapsed time: 36.474\n",
      "Imputing row 3901/15656 with 0 missing, elapsed time: 36.475\n",
      "Imputing row 4001/15656 with 0 missing, elapsed time: 36.477\n",
      "Imputing row 4101/15656 with 0 missing, elapsed time: 36.479\n",
      "Imputing row 4201/15656 with 0 missing, elapsed time: 36.481\n",
      "Imputing row 4301/15656 with 0 missing, elapsed time: 36.483\n",
      "Imputing row 4401/15656 with 0 missing, elapsed time: 36.485\n",
      "Imputing row 4501/15656 with 0 missing, elapsed time: 36.488\n",
      "Imputing row 4601/15656 with 0 missing, elapsed time: 36.492\n",
      "Imputing row 4701/15656 with 0 missing, elapsed time: 36.494\n",
      "Imputing row 4801/15656 with 0 missing, elapsed time: 36.495\n",
      "Imputing row 4901/15656 with 0 missing, elapsed time: 36.497\n",
      "Imputing row 5001/15656 with 0 missing, elapsed time: 36.499\n",
      "Imputing row 5101/15656 with 0 missing, elapsed time: 36.501\n",
      "Imputing row 5201/15656 with 0 missing, elapsed time: 36.502\n",
      "Imputing row 5301/15656 with 0 missing, elapsed time: 36.503\n",
      "Imputing row 5401/15656 with 0 missing, elapsed time: 36.505\n",
      "Imputing row 5501/15656 with 0 missing, elapsed time: 36.507\n",
      "Imputing row 5601/15656 with 0 missing, elapsed time: 36.509\n",
      "Imputing row 5701/15656 with 0 missing, elapsed time: 36.511\n",
      "Imputing row 5801/15656 with 0 missing, elapsed time: 36.515\n",
      "Imputing row 5901/15656 with 0 missing, elapsed time: 36.517\n",
      "Imputing row 6001/15656 with 0 missing, elapsed time: 36.519\n",
      "Imputing row 6101/15656 with 0 missing, elapsed time: 36.522\n",
      "Imputing row 6201/15656 with 0 missing, elapsed time: 36.524\n",
      "Imputing row 6301/15656 with 0 missing, elapsed time: 36.526\n",
      "Imputing row 6401/15656 with 0 missing, elapsed time: 36.528\n",
      "Imputing row 6501/15656 with 0 missing, elapsed time: 36.530\n",
      "Imputing row 6601/15656 with 0 missing, elapsed time: 36.532\n",
      "Imputing row 6701/15656 with 0 missing, elapsed time: 36.534\n",
      "Imputing row 6801/15656 with 0 missing, elapsed time: 36.537\n",
      "Imputing row 6901/15656 with 0 missing, elapsed time: 36.539\n",
      "Imputing row 7001/15656 with 0 missing, elapsed time: 36.540\n",
      "Imputing row 7101/15656 with 0 missing, elapsed time: 36.541\n",
      "Imputing row 7201/15656 with 0 missing, elapsed time: 36.542\n",
      "Imputing row 7301/15656 with 0 missing, elapsed time: 36.543\n",
      "Imputing row 7401/15656 with 0 missing, elapsed time: 36.545\n",
      "Imputing row 7501/15656 with 0 missing, elapsed time: 36.547\n",
      "Imputing row 7601/15656 with 0 missing, elapsed time: 36.550\n",
      "Imputing row 7701/15656 with 0 missing, elapsed time: 36.551\n",
      "Imputing row 7801/15656 with 0 missing, elapsed time: 36.553\n",
      "Imputing row 7901/15656 with 0 missing, elapsed time: 36.555\n",
      "Imputing row 8001/15656 with 0 missing, elapsed time: 36.557\n",
      "Imputing row 8101/15656 with 0 missing, elapsed time: 36.559\n",
      "Imputing row 8201/15656 with 0 missing, elapsed time: 36.561\n",
      "Imputing row 8301/15656 with 0 missing, elapsed time: 36.563\n",
      "Imputing row 8401/15656 with 0 missing, elapsed time: 36.565\n",
      "Imputing row 8501/15656 with 1 missing, elapsed time: 36.566\n",
      "Imputing row 8601/15656 with 0 missing, elapsed time: 36.568\n",
      "Imputing row 8701/15656 with 0 missing, elapsed time: 36.569\n",
      "Imputing row 8801/15656 with 0 missing, elapsed time: 36.572\n",
      "Imputing row 8901/15656 with 0 missing, elapsed time: 36.573\n",
      "Imputing row 9001/15656 with 0 missing, elapsed time: 36.575\n",
      "Imputing row 9101/15656 with 0 missing, elapsed time: 36.576\n",
      "Imputing row 9201/15656 with 0 missing, elapsed time: 36.578\n",
      "Imputing row 9301/15656 with 0 missing, elapsed time: 36.579\n",
      "Imputing row 9401/15656 with 0 missing, elapsed time: 36.581\n",
      "Imputing row 9501/15656 with 0 missing, elapsed time: 36.582\n",
      "Imputing row 9601/15656 with 0 missing, elapsed time: 36.585\n",
      "Imputing row 9701/15656 with 0 missing, elapsed time: 36.587\n",
      "Imputing row 9801/15656 with 0 missing, elapsed time: 36.589\n",
      "Imputing row 9901/15656 with 0 missing, elapsed time: 36.591\n",
      "Imputing row 10001/15656 with 1 missing, elapsed time: 36.593\n",
      "Imputing row 10101/15656 with 0 missing, elapsed time: 36.595\n",
      "Imputing row 10201/15656 with 0 missing, elapsed time: 36.596\n",
      "Imputing row 10301/15656 with 0 missing, elapsed time: 36.598\n",
      "Imputing row 10401/15656 with 0 missing, elapsed time: 36.601\n",
      "Imputing row 10501/15656 with 0 missing, elapsed time: 36.602\n",
      "Imputing row 10601/15656 with 0 missing, elapsed time: 36.604\n",
      "Imputing row 10701/15656 with 0 missing, elapsed time: 36.605\n",
      "Imputing row 10801/15656 with 0 missing, elapsed time: 36.607\n",
      "Imputing row 10901/15656 with 0 missing, elapsed time: 36.608\n",
      "Imputing row 11001/15656 with 0 missing, elapsed time: 36.610\n",
      "Imputing row 11101/15656 with 0 missing, elapsed time: 36.612\n",
      "Imputing row 11201/15656 with 0 missing, elapsed time: 36.614\n",
      "Imputing row 11301/15656 with 0 missing, elapsed time: 36.616\n",
      "Imputing row 11401/15656 with 0 missing, elapsed time: 36.618\n",
      "Imputing row 11501/15656 with 1 missing, elapsed time: 36.620\n",
      "Imputing row 11601/15656 with 0 missing, elapsed time: 36.621\n",
      "Imputing row 11701/15656 with 0 missing, elapsed time: 36.624\n",
      "Imputing row 11801/15656 with 0 missing, elapsed time: 36.626\n",
      "Imputing row 11901/15656 with 0 missing, elapsed time: 36.628\n",
      "Imputing row 12001/15656 with 0 missing, elapsed time: 36.630\n",
      "Imputing row 12101/15656 with 0 missing, elapsed time: 36.632\n",
      "Imputing row 12201/15656 with 0 missing, elapsed time: 36.634\n",
      "Imputing row 12301/15656 with 1 missing, elapsed time: 36.636\n",
      "Imputing row 12401/15656 with 0 missing, elapsed time: 36.637\n",
      "Imputing row 12501/15656 with 1 missing, elapsed time: 36.639\n",
      "Imputing row 12601/15656 with 0 missing, elapsed time: 36.641\n",
      "Imputing row 12701/15656 with 0 missing, elapsed time: 36.643\n",
      "Imputing row 12801/15656 with 0 missing, elapsed time: 36.645\n",
      "Imputing row 12901/15656 with 0 missing, elapsed time: 36.647\n",
      "Imputing row 13001/15656 with 0 missing, elapsed time: 36.649\n",
      "Imputing row 13101/15656 with 0 missing, elapsed time: 36.652\n",
      "Imputing row 13201/15656 with 0 missing, elapsed time: 36.655\n",
      "Imputing row 13301/15656 with 0 missing, elapsed time: 36.657\n",
      "Imputing row 13401/15656 with 0 missing, elapsed time: 36.659\n",
      "Imputing row 13501/15656 with 0 missing, elapsed time: 36.661\n",
      "Imputing row 13601/15656 with 0 missing, elapsed time: 36.664\n",
      "Imputing row 13701/15656 with 0 missing, elapsed time: 36.666\n",
      "Imputing row 13801/15656 with 0 missing, elapsed time: 36.668\n",
      "Imputing row 13901/15656 with 0 missing, elapsed time: 36.669\n",
      "Imputing row 14001/15656 with 1 missing, elapsed time: 36.672\n",
      "Imputing row 14101/15656 with 0 missing, elapsed time: 36.676\n",
      "Imputing row 14201/15656 with 0 missing, elapsed time: 36.678\n",
      "Imputing row 14301/15656 with 0 missing, elapsed time: 36.680\n",
      "Imputing row 14401/15656 with 0 missing, elapsed time: 36.682\n",
      "Imputing row 14501/15656 with 0 missing, elapsed time: 36.683\n",
      "Imputing row 14601/15656 with 1 missing, elapsed time: 36.685\n",
      "Imputing row 14701/15656 with 0 missing, elapsed time: 36.687\n",
      "Imputing row 14801/15656 with 0 missing, elapsed time: 36.689\n",
      "Imputing row 14901/15656 with 0 missing, elapsed time: 36.690\n",
      "Imputing row 15001/15656 with 0 missing, elapsed time: 36.692\n",
      "Imputing row 15101/15656 with 0 missing, elapsed time: 36.694\n",
      "Imputing row 15201/15656 with 1 missing, elapsed time: 36.697\n",
      "Imputing row 15301/15656 with 0 missing, elapsed time: 36.699\n",
      "Imputing row 15401/15656 with 0 missing, elapsed time: 36.701\n",
      "Imputing row 15501/15656 with 0 missing, elapsed time: 36.703\n",
      "Imputing row 15601/15656 with 0 missing, elapsed time: 36.705\n"
     ]
    }
   ],
   "source": [
    "#Imputing with missing values using KNN\n",
    "train = pd.DataFrame(KNN(k = 3).fit_transform(train), columns = train.columns, index=train.index)"
   ]
  },
  {
   "cell_type": "code",
   "execution_count": 86,
   "metadata": {},
   "outputs": [
    {
     "data": {
      "text/html": [
       "<div>\n",
       "<style scoped>\n",
       "    .dataframe tbody tr th:only-of-type {\n",
       "        vertical-align: middle;\n",
       "    }\n",
       "\n",
       "    .dataframe tbody tr th {\n",
       "        vertical-align: top;\n",
       "    }\n",
       "\n",
       "    .dataframe thead th {\n",
       "        text-align: right;\n",
       "    }\n",
       "</style>\n",
       "<table border=\"1\" class=\"dataframe\">\n",
       "  <thead>\n",
       "    <tr style=\"text-align: right;\">\n",
       "      <th></th>\n",
       "      <th>0</th>\n",
       "    </tr>\n",
       "  </thead>\n",
       "  <tbody>\n",
       "    <tr>\n",
       "      <th>fare_amount</th>\n",
       "      <td>0</td>\n",
       "    </tr>\n",
       "    <tr>\n",
       "      <th>pickup_longitude</th>\n",
       "      <td>0</td>\n",
       "    </tr>\n",
       "    <tr>\n",
       "      <th>pickup_latitude</th>\n",
       "      <td>0</td>\n",
       "    </tr>\n",
       "    <tr>\n",
       "      <th>dropoff_longitude</th>\n",
       "      <td>0</td>\n",
       "    </tr>\n",
       "    <tr>\n",
       "      <th>dropoff_latitude</th>\n",
       "      <td>0</td>\n",
       "    </tr>\n",
       "    <tr>\n",
       "      <th>passenger_count</th>\n",
       "      <td>0</td>\n",
       "    </tr>\n",
       "  </tbody>\n",
       "</table>\n",
       "</div>"
      ],
      "text/plain": [
       "                   0\n",
       "fare_amount        0\n",
       "pickup_longitude   0\n",
       "pickup_latitude    0\n",
       "dropoff_longitude  0\n",
       "dropoff_latitude   0\n",
       "passenger_count    0"
      ]
     },
     "execution_count": 86,
     "metadata": {},
     "output_type": "execute_result"
    }
   ],
   "source": [
    "pd.DataFrame(train.isnull().sum()) #We have succesfully imputed all the NA values."
   ]
  },
  {
   "cell_type": "code",
   "execution_count": 87,
   "metadata": {},
   "outputs": [
    {
     "data": {
      "text/plain": [
       "fare_amount          4.477959\n",
       "pickup_longitude     2.659475\n",
       "pickup_latitude      2.613723\n",
       "dropoff_longitude    2.711268\n",
       "dropoff_latitude     2.632820\n",
       "passenger_count      1.264935\n",
       "dtype: float64"
      ]
     },
     "execution_count": 87,
     "metadata": {},
     "output_type": "execute_result"
    }
   ],
   "source": [
    "train.std()"
   ]
  },
  {
   "cell_type": "code",
   "execution_count": 88,
   "metadata": {},
   "outputs": [
    {
     "data": {
      "text/plain": [
       "count    15656.000000\n",
       "mean         1.650166\n",
       "std          1.264935\n",
       "min          1.000000\n",
       "25%          1.000000\n",
       "50%          1.000000\n",
       "75%          2.000000\n",
       "max          6.000000\n",
       "Name: passenger_count, dtype: float64"
      ]
     },
     "execution_count": 88,
     "metadata": {},
     "output_type": "execute_result"
    }
   ],
   "source": [
    "train['passenger_count'].describe()"
   ]
  },
  {
   "cell_type": "code",
   "execution_count": 89,
   "metadata": {},
   "outputs": [
    {
     "data": {
      "text/plain": [
       "(15656, 6)"
      ]
     },
     "execution_count": 89,
     "metadata": {},
     "output_type": "execute_result"
    }
   ],
   "source": [
    "train.shape"
   ]
  },
  {
   "cell_type": "code",
   "execution_count": 90,
   "metadata": {},
   "outputs": [
    {
     "data": {
      "text/plain": [
       "(15657, 1)"
      ]
     },
     "execution_count": 90,
     "metadata": {},
     "output_type": "execute_result"
    }
   ],
   "source": [
    "pickup_datetime.shape"
   ]
  },
  {
   "cell_type": "code",
   "execution_count": 91,
   "metadata": {
    "scrolled": true
   },
   "outputs": [],
   "source": [
    "#Let's merge the two Dataframes:\n",
    "# we will Join 2 Dataframes pickup_datetime and train\n",
    "train = pd.concat([pickup_datetime.reset_index(drop=True),train],axis=1)\n",
    "\n",
    "\n"
   ]
  },
  {
   "cell_type": "code",
   "execution_count": 92,
   "metadata": {},
   "outputs": [
    {
     "data": {
      "text/html": [
       "<div>\n",
       "<style scoped>\n",
       "    .dataframe tbody tr th:only-of-type {\n",
       "        vertical-align: middle;\n",
       "    }\n",
       "\n",
       "    .dataframe tbody tr th {\n",
       "        vertical-align: top;\n",
       "    }\n",
       "\n",
       "    .dataframe thead th {\n",
       "        text-align: right;\n",
       "    }\n",
       "</style>\n",
       "<table border=\"1\" class=\"dataframe\">\n",
       "  <thead>\n",
       "    <tr style=\"text-align: right;\">\n",
       "      <th></th>\n",
       "      <th>0</th>\n",
       "    </tr>\n",
       "  </thead>\n",
       "  <tbody>\n",
       "    <tr>\n",
       "      <th>pickup_datetime</th>\n",
       "      <td>5</td>\n",
       "    </tr>\n",
       "    <tr>\n",
       "      <th>fare_amount</th>\n",
       "      <td>5</td>\n",
       "    </tr>\n",
       "    <tr>\n",
       "      <th>pickup_longitude</th>\n",
       "      <td>5</td>\n",
       "    </tr>\n",
       "    <tr>\n",
       "      <th>pickup_latitude</th>\n",
       "      <td>5</td>\n",
       "    </tr>\n",
       "    <tr>\n",
       "      <th>dropoff_longitude</th>\n",
       "      <td>5</td>\n",
       "    </tr>\n",
       "    <tr>\n",
       "      <th>dropoff_latitude</th>\n",
       "      <td>5</td>\n",
       "    </tr>\n",
       "    <tr>\n",
       "      <th>passenger_count</th>\n",
       "      <td>5</td>\n",
       "    </tr>\n",
       "  </tbody>\n",
       "</table>\n",
       "</div>"
      ],
      "text/plain": [
       "                   0\n",
       "pickup_datetime    5\n",
       "fare_amount        5\n",
       "pickup_longitude   5\n",
       "pickup_latitude    5\n",
       "dropoff_longitude  5\n",
       "dropoff_latitude   5\n",
       "passenger_count    5"
      ]
     },
     "execution_count": 92,
     "metadata": {},
     "output_type": "execute_result"
    }
   ],
   "source": [
    "pd.DataFrame(train.isnull().sum()) #We are expecting some NA values now since we have merged them."
   ]
  },
  {
   "cell_type": "code",
   "execution_count": 93,
   "metadata": {},
   "outputs": [],
   "source": [
    "#Let's drop these observations.\n",
    "train=train.dropna()"
   ]
  },
  {
   "cell_type": "code",
   "execution_count": 94,
   "metadata": {},
   "outputs": [
    {
     "data": {
      "text/plain": [
       "(15651, 7)"
      ]
     },
     "execution_count": 94,
     "metadata": {},
     "output_type": "execute_result"
    }
   ],
   "source": [
    "train.shape"
   ]
  },
  {
   "cell_type": "code",
   "execution_count": 95,
   "metadata": {},
   "outputs": [
    {
     "data": {
      "text/html": [
       "<div>\n",
       "<style scoped>\n",
       "    .dataframe tbody tr th:only-of-type {\n",
       "        vertical-align: middle;\n",
       "    }\n",
       "\n",
       "    .dataframe tbody tr th {\n",
       "        vertical-align: top;\n",
       "    }\n",
       "\n",
       "    .dataframe thead th {\n",
       "        text-align: right;\n",
       "    }\n",
       "</style>\n",
       "<table border=\"1\" class=\"dataframe\">\n",
       "  <thead>\n",
       "    <tr style=\"text-align: right;\">\n",
       "      <th></th>\n",
       "      <th>0</th>\n",
       "    </tr>\n",
       "  </thead>\n",
       "  <tbody>\n",
       "    <tr>\n",
       "      <th>pickup_datetime</th>\n",
       "      <td>0</td>\n",
       "    </tr>\n",
       "    <tr>\n",
       "      <th>fare_amount</th>\n",
       "      <td>0</td>\n",
       "    </tr>\n",
       "    <tr>\n",
       "      <th>pickup_longitude</th>\n",
       "      <td>0</td>\n",
       "    </tr>\n",
       "    <tr>\n",
       "      <th>pickup_latitude</th>\n",
       "      <td>0</td>\n",
       "    </tr>\n",
       "    <tr>\n",
       "      <th>dropoff_longitude</th>\n",
       "      <td>0</td>\n",
       "    </tr>\n",
       "    <tr>\n",
       "      <th>dropoff_latitude</th>\n",
       "      <td>0</td>\n",
       "    </tr>\n",
       "    <tr>\n",
       "      <th>passenger_count</th>\n",
       "      <td>0</td>\n",
       "    </tr>\n",
       "  </tbody>\n",
       "</table>\n",
       "</div>"
      ],
      "text/plain": [
       "                   0\n",
       "pickup_datetime    0\n",
       "fare_amount        0\n",
       "pickup_longitude   0\n",
       "pickup_latitude    0\n",
       "dropoff_longitude  0\n",
       "dropoff_latitude   0\n",
       "passenger_count    0"
      ]
     },
     "execution_count": 95,
     "metadata": {},
     "output_type": "execute_result"
    }
   ],
   "source": [
    "pd.DataFrame(train.isnull().sum())#We have successfully removed all the NAs"
   ]
  },
  {
   "cell_type": "code",
   "execution_count": 96,
   "metadata": {},
   "outputs": [],
   "source": [
    "train = train.reset_index(drop=True)\n"
   ]
  },
  {
   "cell_type": "code",
   "execution_count": 97,
   "metadata": {},
   "outputs": [],
   "source": [
    "#Removing more observations which are outside of North America:\n",
    "#Minimum and Maximum Latitudes for North America, Min=39.6 and Max=41.4\n",
    "#Minimum and Maximum Longitudes for North America, Min=-73.1 and Max=-74.4"
   ]
  },
  {
   "cell_type": "code",
   "execution_count": 98,
   "metadata": {},
   "outputs": [
    {
     "data": {
      "text/plain": [
       "(15642, 7)"
      ]
     },
     "execution_count": 98,
     "metadata": {},
     "output_type": "execute_result"
    }
   ],
   "source": [
    "#For latitudes of Pickup Data:\n",
    "train[(train['pickup_latitude']<39.6) | (train['pickup_latitude']>41.4)]\n",
    "train = train.drop(train[(train['pickup_latitude']<39.6) | (train['pickup_latitude']>41.4)].index,axis=0)\n",
    "train.shape"
   ]
  },
  {
   "cell_type": "code",
   "execution_count": 99,
   "metadata": {},
   "outputs": [
    {
     "data": {
      "text/plain": [
       "(15640, 7)"
      ]
     },
     "execution_count": 99,
     "metadata": {},
     "output_type": "execute_result"
    }
   ],
   "source": [
    "#For longitudes of Pickup Data:\n",
    "train[(train['pickup_longitude']>-73.1) | (train['pickup_longitude']<-74.4)]\n",
    "train = train.drop(train[(train['pickup_longitude']>-73.1) | (train['pickup_longitude']<-74.4)].index,axis=0)\n",
    "train.shape"
   ]
  },
  {
   "cell_type": "code",
   "execution_count": 100,
   "metadata": {},
   "outputs": [
    {
     "data": {
      "text/plain": [
       "(15639, 7)"
      ]
     },
     "execution_count": 100,
     "metadata": {},
     "output_type": "execute_result"
    }
   ],
   "source": [
    "#For latitudes of Dropoff Data:\n",
    "train[(train['dropoff_latitude']<39.6) | (train['dropoff_latitude']>41.4)]\n",
    "train = train.drop(train[(train['dropoff_latitude']<39.6) | (train['dropoff_latitude']>41.4)].index,axis=0)\n",
    "train.shape"
   ]
  },
  {
   "cell_type": "code",
   "execution_count": 101,
   "metadata": {},
   "outputs": [
    {
     "data": {
      "text/plain": [
       "(15638, 7)"
      ]
     },
     "execution_count": 101,
     "metadata": {},
     "output_type": "execute_result"
    }
   ],
   "source": [
    "#For longitudes of Dropoff Data:\n",
    "train[(train['dropoff_longitude']>-73.1) | (train['dropoff_longitude']<-74.4)]\n",
    "train = train.drop(train[(train['dropoff_longitude']>-73.1) | (train['dropoff_longitude']<-74.4)].index,axis=0)\n",
    "train.shape"
   ]
  },
  {
   "cell_type": "code",
   "execution_count": 102,
   "metadata": {},
   "outputs": [
    {
     "data": {
      "text/plain": [
       "count    15638.000000\n",
       "mean         1.649891\n",
       "std          1.264733\n",
       "min          1.000000\n",
       "25%          1.000000\n",
       "50%          1.000000\n",
       "75%          2.000000\n",
       "max          6.000000\n",
       "Name: passenger_count, dtype: float64"
      ]
     },
     "execution_count": 102,
     "metadata": {},
     "output_type": "execute_result"
    }
   ],
   "source": [
    "train['passenger_count'].describe()"
   ]
  },
  {
   "cell_type": "code",
   "execution_count": 103,
   "metadata": {},
   "outputs": [],
   "source": [
    "train['passenger_count']=train['passenger_count'].astype('int').round().astype('object').astype('category')"
   ]
  },
  {
   "cell_type": "code",
   "execution_count": 104,
   "metadata": {},
   "outputs": [
    {
     "data": {
      "text/plain": [
       "count     15638\n",
       "unique        6\n",
       "top           1\n",
       "freq      11040\n",
       "Name: passenger_count, dtype: int64"
      ]
     },
     "execution_count": 104,
     "metadata": {},
     "output_type": "execute_result"
    }
   ],
   "source": [
    "train['passenger_count'].describe()"
   ]
  },
  {
   "cell_type": "code",
   "execution_count": 105,
   "metadata": {},
   "outputs": [
    {
     "data": {
      "text/plain": [
       "(15638, 7)"
      ]
     },
     "execution_count": 105,
     "metadata": {},
     "output_type": "execute_result"
    }
   ],
   "source": [
    "train.shape"
   ]
  },
  {
   "cell_type": "code",
   "execution_count": 106,
   "metadata": {},
   "outputs": [
    {
     "data": {
      "text/html": [
       "<div>\n",
       "<style scoped>\n",
       "    .dataframe tbody tr th:only-of-type {\n",
       "        vertical-align: middle;\n",
       "    }\n",
       "\n",
       "    .dataframe tbody tr th {\n",
       "        vertical-align: top;\n",
       "    }\n",
       "\n",
       "    .dataframe thead th {\n",
       "        text-align: right;\n",
       "    }\n",
       "</style>\n",
       "<table border=\"1\" class=\"dataframe\">\n",
       "  <thead>\n",
       "    <tr style=\"text-align: right;\">\n",
       "      <th></th>\n",
       "      <th>fare_amount</th>\n",
       "      <th>pickup_longitude</th>\n",
       "      <th>pickup_latitude</th>\n",
       "      <th>dropoff_longitude</th>\n",
       "      <th>dropoff_latitude</th>\n",
       "    </tr>\n",
       "  </thead>\n",
       "  <tbody>\n",
       "    <tr>\n",
       "      <th>count</th>\n",
       "      <td>15638.000000</td>\n",
       "      <td>15638.000000</td>\n",
       "      <td>15638.000000</td>\n",
       "      <td>15638.000000</td>\n",
       "      <td>15638.000000</td>\n",
       "    </tr>\n",
       "    <tr>\n",
       "      <th>mean</th>\n",
       "      <td>9.404902</td>\n",
       "      <td>-73.974773</td>\n",
       "      <td>40.750927</td>\n",
       "      <td>-73.973804</td>\n",
       "      <td>40.751437</td>\n",
       "    </tr>\n",
       "    <tr>\n",
       "      <th>std</th>\n",
       "      <td>4.478916</td>\n",
       "      <td>0.041194</td>\n",
       "      <td>0.037894</td>\n",
       "      <td>0.039145</td>\n",
       "      <td>0.039605</td>\n",
       "    </tr>\n",
       "    <tr>\n",
       "      <th>min</th>\n",
       "      <td>1.140000</td>\n",
       "      <td>-74.229138</td>\n",
       "      <td>39.603178</td>\n",
       "      <td>-74.227047</td>\n",
       "      <td>39.604972</td>\n",
       "    </tr>\n",
       "    <tr>\n",
       "      <th>25%</th>\n",
       "      <td>6.000000</td>\n",
       "      <td>-73.992387</td>\n",
       "      <td>40.736587</td>\n",
       "      <td>-73.991363</td>\n",
       "      <td>40.736339</td>\n",
       "    </tr>\n",
       "    <tr>\n",
       "      <th>50%</th>\n",
       "      <td>8.200000</td>\n",
       "      <td>-73.982051</td>\n",
       "      <td>40.753345</td>\n",
       "      <td>-73.980559</td>\n",
       "      <td>40.754254</td>\n",
       "    </tr>\n",
       "    <tr>\n",
       "      <th>75%</th>\n",
       "      <td>11.798730</td>\n",
       "      <td>-73.968104</td>\n",
       "      <td>40.767809</td>\n",
       "      <td>-73.965386</td>\n",
       "      <td>40.768336</td>\n",
       "    </tr>\n",
       "    <tr>\n",
       "      <th>max</th>\n",
       "      <td>22.100000</td>\n",
       "      <td>-73.137393</td>\n",
       "      <td>41.366138</td>\n",
       "      <td>-73.137393</td>\n",
       "      <td>41.366138</td>\n",
       "    </tr>\n",
       "  </tbody>\n",
       "</table>\n",
       "</div>"
      ],
      "text/plain": [
       "        fare_amount  pickup_longitude  pickup_latitude  dropoff_longitude  \\\n",
       "count  15638.000000      15638.000000     15638.000000       15638.000000   \n",
       "mean       9.404902        -73.974773        40.750927         -73.973804   \n",
       "std        4.478916          0.041194         0.037894           0.039145   \n",
       "min        1.140000        -74.229138        39.603178         -74.227047   \n",
       "25%        6.000000        -73.992387        40.736587         -73.991363   \n",
       "50%        8.200000        -73.982051        40.753345         -73.980559   \n",
       "75%       11.798730        -73.968104        40.767809         -73.965386   \n",
       "max       22.100000        -73.137393        41.366138         -73.137393   \n",
       "\n",
       "       dropoff_latitude  \n",
       "count      15638.000000  \n",
       "mean          40.751437  \n",
       "std            0.039605  \n",
       "min           39.604972  \n",
       "25%           40.736339  \n",
       "50%           40.754254  \n",
       "75%           40.768336  \n",
       "max           41.366138  "
      ]
     },
     "execution_count": 106,
     "metadata": {},
     "output_type": "execute_result"
    }
   ],
   "source": [
    "train.describe()"
   ]
  },
  {
   "cell_type": "code",
   "execution_count": 107,
   "metadata": {},
   "outputs": [
    {
     "data": {
      "text/html": [
       "<div>\n",
       "<style scoped>\n",
       "    .dataframe tbody tr th:only-of-type {\n",
       "        vertical-align: middle;\n",
       "    }\n",
       "\n",
       "    .dataframe tbody tr th {\n",
       "        vertical-align: top;\n",
       "    }\n",
       "\n",
       "    .dataframe thead th {\n",
       "        text-align: right;\n",
       "    }\n",
       "</style>\n",
       "<table border=\"1\" class=\"dataframe\">\n",
       "  <thead>\n",
       "    <tr style=\"text-align: right;\">\n",
       "      <th></th>\n",
       "      <th>pickup_datetime</th>\n",
       "      <th>fare_amount</th>\n",
       "      <th>pickup_longitude</th>\n",
       "      <th>pickup_latitude</th>\n",
       "      <th>dropoff_longitude</th>\n",
       "      <th>dropoff_latitude</th>\n",
       "      <th>passenger_count</th>\n",
       "    </tr>\n",
       "  </thead>\n",
       "  <tbody>\n",
       "    <tr>\n",
       "      <th>0</th>\n",
       "      <td>2009-06-15 17:26:21+00:00</td>\n",
       "      <td>4.5</td>\n",
       "      <td>-73.844311</td>\n",
       "      <td>40.721319</td>\n",
       "      <td>-73.841610</td>\n",
       "      <td>40.712278</td>\n",
       "      <td>1</td>\n",
       "    </tr>\n",
       "    <tr>\n",
       "      <th>1</th>\n",
       "      <td>2010-01-05 16:52:16+00:00</td>\n",
       "      <td>16.9</td>\n",
       "      <td>-74.016048</td>\n",
       "      <td>40.711303</td>\n",
       "      <td>-73.979268</td>\n",
       "      <td>40.782004</td>\n",
       "      <td>1</td>\n",
       "    </tr>\n",
       "    <tr>\n",
       "      <th>2</th>\n",
       "      <td>2011-08-18 00:35:00+00:00</td>\n",
       "      <td>5.7</td>\n",
       "      <td>-73.982738</td>\n",
       "      <td>40.761270</td>\n",
       "      <td>-73.991242</td>\n",
       "      <td>40.750562</td>\n",
       "      <td>2</td>\n",
       "    </tr>\n",
       "    <tr>\n",
       "      <th>3</th>\n",
       "      <td>2012-04-21 04:30:42+00:00</td>\n",
       "      <td>7.7</td>\n",
       "      <td>-73.987130</td>\n",
       "      <td>40.733143</td>\n",
       "      <td>-73.991567</td>\n",
       "      <td>40.758092</td>\n",
       "      <td>1</td>\n",
       "    </tr>\n",
       "    <tr>\n",
       "      <th>4</th>\n",
       "      <td>2010-03-09 07:51:00+00:00</td>\n",
       "      <td>5.3</td>\n",
       "      <td>-73.968095</td>\n",
       "      <td>40.768008</td>\n",
       "      <td>-73.956655</td>\n",
       "      <td>40.783762</td>\n",
       "      <td>1</td>\n",
       "    </tr>\n",
       "  </tbody>\n",
       "</table>\n",
       "</div>"
      ],
      "text/plain": [
       "            pickup_datetime  fare_amount  pickup_longitude  pickup_latitude  \\\n",
       "0 2009-06-15 17:26:21+00:00          4.5        -73.844311        40.721319   \n",
       "1 2010-01-05 16:52:16+00:00         16.9        -74.016048        40.711303   \n",
       "2 2011-08-18 00:35:00+00:00          5.7        -73.982738        40.761270   \n",
       "3 2012-04-21 04:30:42+00:00          7.7        -73.987130        40.733143   \n",
       "4 2010-03-09 07:51:00+00:00          5.3        -73.968095        40.768008   \n",
       "\n",
       "   dropoff_longitude  dropoff_latitude passenger_count  \n",
       "0         -73.841610         40.712278               1  \n",
       "1         -73.979268         40.782004               1  \n",
       "2         -73.991242         40.750562               2  \n",
       "3         -73.991567         40.758092               1  \n",
       "4         -73.956655         40.783762               1  "
      ]
     },
     "execution_count": 107,
     "metadata": {},
     "output_type": "execute_result"
    }
   ],
   "source": [
    "train.head()"
   ]
  },
  {
   "cell_type": "code",
   "execution_count": 108,
   "metadata": {},
   "outputs": [
    {
     "data": {
      "text/plain": [
       "(15638, 7)"
      ]
     },
     "execution_count": 108,
     "metadata": {},
     "output_type": "execute_result"
    }
   ],
   "source": [
    "df2=train.copy()\n",
    "train=df2.copy()\n",
    "train.shape"
   ]
  },
  {
   "cell_type": "markdown",
   "metadata": {},
   "source": [
    "# FEATURE ENGINEERING"
   ]
  },
  {
   "cell_type": "code",
   "execution_count": 109,
   "metadata": {},
   "outputs": [],
   "source": [
    "# We will segregate pickup_datetime variable to derive new features/variables namely year,month,day of the week and hour.\n",
    "train['pickup_date'] = train[\"pickup_datetime\"].apply(lambda row: row.date)\n",
    "train['pickup_year'] = train[\"pickup_datetime\"].apply(lambda row: row.year)\n",
    "train['pickup_month'] = train[\"pickup_datetime\"].apply(lambda row: row.month)\n",
    "train['pickup_weekday'] = train[\"pickup_datetime\"].apply(lambda row: row.dayofweek)\n",
    "train['pickup_hour'] = train[\"pickup_datetime\"].apply(lambda row: row.hour)\n"
   ]
  },
  {
   "cell_type": "code",
   "execution_count": 110,
   "metadata": {},
   "outputs": [
    {
     "data": {
      "text/html": [
       "<div>\n",
       "<style scoped>\n",
       "    .dataframe tbody tr th:only-of-type {\n",
       "        vertical-align: middle;\n",
       "    }\n",
       "\n",
       "    .dataframe tbody tr th {\n",
       "        vertical-align: top;\n",
       "    }\n",
       "\n",
       "    .dataframe thead th {\n",
       "        text-align: right;\n",
       "    }\n",
       "</style>\n",
       "<table border=\"1\" class=\"dataframe\">\n",
       "  <thead>\n",
       "    <tr style=\"text-align: right;\">\n",
       "      <th></th>\n",
       "      <th>pickup_datetime</th>\n",
       "      <th>fare_amount</th>\n",
       "      <th>pickup_longitude</th>\n",
       "      <th>pickup_latitude</th>\n",
       "      <th>dropoff_longitude</th>\n",
       "      <th>dropoff_latitude</th>\n",
       "      <th>passenger_count</th>\n",
       "      <th>pickup_date</th>\n",
       "      <th>pickup_year</th>\n",
       "      <th>pickup_month</th>\n",
       "      <th>pickup_weekday</th>\n",
       "      <th>pickup_hour</th>\n",
       "    </tr>\n",
       "  </thead>\n",
       "  <tbody>\n",
       "    <tr>\n",
       "      <th>0</th>\n",
       "      <td>2009-06-15 17:26:21+00:00</td>\n",
       "      <td>4.5</td>\n",
       "      <td>-73.844311</td>\n",
       "      <td>40.721319</td>\n",
       "      <td>-73.841610</td>\n",
       "      <td>40.712278</td>\n",
       "      <td>1</td>\n",
       "      <td>2009-06-15</td>\n",
       "      <td>2009</td>\n",
       "      <td>6</td>\n",
       "      <td>0</td>\n",
       "      <td>17</td>\n",
       "    </tr>\n",
       "    <tr>\n",
       "      <th>1</th>\n",
       "      <td>2010-01-05 16:52:16+00:00</td>\n",
       "      <td>16.9</td>\n",
       "      <td>-74.016048</td>\n",
       "      <td>40.711303</td>\n",
       "      <td>-73.979268</td>\n",
       "      <td>40.782004</td>\n",
       "      <td>1</td>\n",
       "      <td>2010-01-05</td>\n",
       "      <td>2010</td>\n",
       "      <td>1</td>\n",
       "      <td>1</td>\n",
       "      <td>16</td>\n",
       "    </tr>\n",
       "    <tr>\n",
       "      <th>2</th>\n",
       "      <td>2011-08-18 00:35:00+00:00</td>\n",
       "      <td>5.7</td>\n",
       "      <td>-73.982738</td>\n",
       "      <td>40.761270</td>\n",
       "      <td>-73.991242</td>\n",
       "      <td>40.750562</td>\n",
       "      <td>2</td>\n",
       "      <td>2011-08-18</td>\n",
       "      <td>2011</td>\n",
       "      <td>8</td>\n",
       "      <td>3</td>\n",
       "      <td>0</td>\n",
       "    </tr>\n",
       "    <tr>\n",
       "      <th>3</th>\n",
       "      <td>2012-04-21 04:30:42+00:00</td>\n",
       "      <td>7.7</td>\n",
       "      <td>-73.987130</td>\n",
       "      <td>40.733143</td>\n",
       "      <td>-73.991567</td>\n",
       "      <td>40.758092</td>\n",
       "      <td>1</td>\n",
       "      <td>2012-04-21</td>\n",
       "      <td>2012</td>\n",
       "      <td>4</td>\n",
       "      <td>5</td>\n",
       "      <td>4</td>\n",
       "    </tr>\n",
       "    <tr>\n",
       "      <th>4</th>\n",
       "      <td>2010-03-09 07:51:00+00:00</td>\n",
       "      <td>5.3</td>\n",
       "      <td>-73.968095</td>\n",
       "      <td>40.768008</td>\n",
       "      <td>-73.956655</td>\n",
       "      <td>40.783762</td>\n",
       "      <td>1</td>\n",
       "      <td>2010-03-09</td>\n",
       "      <td>2010</td>\n",
       "      <td>3</td>\n",
       "      <td>1</td>\n",
       "      <td>7</td>\n",
       "    </tr>\n",
       "  </tbody>\n",
       "</table>\n",
       "</div>"
      ],
      "text/plain": [
       "            pickup_datetime  fare_amount  pickup_longitude  pickup_latitude  \\\n",
       "0 2009-06-15 17:26:21+00:00          4.5        -73.844311        40.721319   \n",
       "1 2010-01-05 16:52:16+00:00         16.9        -74.016048        40.711303   \n",
       "2 2011-08-18 00:35:00+00:00          5.7        -73.982738        40.761270   \n",
       "3 2012-04-21 04:30:42+00:00          7.7        -73.987130        40.733143   \n",
       "4 2010-03-09 07:51:00+00:00          5.3        -73.968095        40.768008   \n",
       "\n",
       "   dropoff_longitude  dropoff_latitude passenger_count pickup_date  \\\n",
       "0         -73.841610         40.712278               1  2009-06-15   \n",
       "1         -73.979268         40.782004               1  2010-01-05   \n",
       "2         -73.991242         40.750562               2  2011-08-18   \n",
       "3         -73.991567         40.758092               1  2012-04-21   \n",
       "4         -73.956655         40.783762               1  2010-03-09   \n",
       "\n",
       "   pickup_year  pickup_month  pickup_weekday  pickup_hour  \n",
       "0         2009             6               0           17  \n",
       "1         2010             1               1           16  \n",
       "2         2011             8               3            0  \n",
       "3         2012             4               5            4  \n",
       "4         2010             3               1            7  "
      ]
     },
     "execution_count": 110,
     "metadata": {},
     "output_type": "execute_result"
    }
   ],
   "source": [
    "train.head()"
   ]
  },
  {
   "cell_type": "code",
   "execution_count": 111,
   "metadata": {
    "scrolled": true
   },
   "outputs": [
    {
     "data": {
      "text/plain": [
       "count    15638.000000\n",
       "mean         6.268065\n",
       "std          3.447041\n",
       "min          1.000000\n",
       "25%          3.000000\n",
       "50%          6.000000\n",
       "75%          9.000000\n",
       "max         12.000000\n",
       "Name: pickup_month, dtype: float64"
      ]
     },
     "execution_count": 111,
     "metadata": {},
     "output_type": "execute_result"
    }
   ],
   "source": [
    "train['pickup_month'].describe()"
   ]
  },
  {
   "cell_type": "code",
   "execution_count": 112,
   "metadata": {},
   "outputs": [],
   "source": [
    "#We will add the same features to test data\n",
    "test['pickup_date'] = test[\"pickup_datetime\"].apply(lambda row: row.date)\n",
    "test['pickup_year'] = test[\"pickup_datetime\"].apply(lambda row: row.year)\n",
    "test['pickup_month'] = test[\"pickup_datetime\"].apply(lambda row: row.month)\n",
    "test['pickup_weekday'] = test[\"pickup_datetime\"].apply(lambda row: row.dayofweek)\n",
    "test['pickup_hour'] = test[\"pickup_datetime\"].apply(lambda row: row.hour)"
   ]
  },
  {
   "cell_type": "code",
   "execution_count": 113,
   "metadata": {},
   "outputs": [
    {
     "data": {
      "text/html": [
       "<div>\n",
       "<style scoped>\n",
       "    .dataframe tbody tr th:only-of-type {\n",
       "        vertical-align: middle;\n",
       "    }\n",
       "\n",
       "    .dataframe tbody tr th {\n",
       "        vertical-align: top;\n",
       "    }\n",
       "\n",
       "    .dataframe thead th {\n",
       "        text-align: right;\n",
       "    }\n",
       "</style>\n",
       "<table border=\"1\" class=\"dataframe\">\n",
       "  <thead>\n",
       "    <tr style=\"text-align: right;\">\n",
       "      <th></th>\n",
       "      <th>pickup_datetime</th>\n",
       "      <th>pickup_longitude</th>\n",
       "      <th>pickup_latitude</th>\n",
       "      <th>dropoff_longitude</th>\n",
       "      <th>dropoff_latitude</th>\n",
       "      <th>passenger_count</th>\n",
       "      <th>pickup_date</th>\n",
       "      <th>pickup_year</th>\n",
       "      <th>pickup_month</th>\n",
       "      <th>pickup_weekday</th>\n",
       "      <th>pickup_hour</th>\n",
       "    </tr>\n",
       "  </thead>\n",
       "  <tbody>\n",
       "    <tr>\n",
       "      <th>0</th>\n",
       "      <td>2015-01-27 13:08:24+00:00</td>\n",
       "      <td>-73.973320</td>\n",
       "      <td>40.763805</td>\n",
       "      <td>-73.981430</td>\n",
       "      <td>40.743835</td>\n",
       "      <td>1</td>\n",
       "      <td>2015-01-27</td>\n",
       "      <td>2015</td>\n",
       "      <td>1</td>\n",
       "      <td>1</td>\n",
       "      <td>13</td>\n",
       "    </tr>\n",
       "    <tr>\n",
       "      <th>1</th>\n",
       "      <td>2015-01-27 13:08:24+00:00</td>\n",
       "      <td>-73.986862</td>\n",
       "      <td>40.719383</td>\n",
       "      <td>-73.998886</td>\n",
       "      <td>40.739201</td>\n",
       "      <td>1</td>\n",
       "      <td>2015-01-27</td>\n",
       "      <td>2015</td>\n",
       "      <td>1</td>\n",
       "      <td>1</td>\n",
       "      <td>13</td>\n",
       "    </tr>\n",
       "    <tr>\n",
       "      <th>2</th>\n",
       "      <td>2011-10-08 11:53:44+00:00</td>\n",
       "      <td>-73.982524</td>\n",
       "      <td>40.751260</td>\n",
       "      <td>-73.979654</td>\n",
       "      <td>40.746139</td>\n",
       "      <td>1</td>\n",
       "      <td>2011-10-08</td>\n",
       "      <td>2011</td>\n",
       "      <td>10</td>\n",
       "      <td>5</td>\n",
       "      <td>11</td>\n",
       "    </tr>\n",
       "    <tr>\n",
       "      <th>3</th>\n",
       "      <td>2012-12-01 21:12:12+00:00</td>\n",
       "      <td>-73.981160</td>\n",
       "      <td>40.767807</td>\n",
       "      <td>-73.990448</td>\n",
       "      <td>40.751635</td>\n",
       "      <td>1</td>\n",
       "      <td>2012-12-01</td>\n",
       "      <td>2012</td>\n",
       "      <td>12</td>\n",
       "      <td>5</td>\n",
       "      <td>21</td>\n",
       "    </tr>\n",
       "    <tr>\n",
       "      <th>4</th>\n",
       "      <td>2012-12-01 21:12:12+00:00</td>\n",
       "      <td>-73.966046</td>\n",
       "      <td>40.789775</td>\n",
       "      <td>-73.988565</td>\n",
       "      <td>40.744427</td>\n",
       "      <td>1</td>\n",
       "      <td>2012-12-01</td>\n",
       "      <td>2012</td>\n",
       "      <td>12</td>\n",
       "      <td>5</td>\n",
       "      <td>21</td>\n",
       "    </tr>\n",
       "  </tbody>\n",
       "</table>\n",
       "</div>"
      ],
      "text/plain": [
       "            pickup_datetime  pickup_longitude  pickup_latitude  \\\n",
       "0 2015-01-27 13:08:24+00:00        -73.973320        40.763805   \n",
       "1 2015-01-27 13:08:24+00:00        -73.986862        40.719383   \n",
       "2 2011-10-08 11:53:44+00:00        -73.982524        40.751260   \n",
       "3 2012-12-01 21:12:12+00:00        -73.981160        40.767807   \n",
       "4 2012-12-01 21:12:12+00:00        -73.966046        40.789775   \n",
       "\n",
       "   dropoff_longitude  dropoff_latitude  passenger_count pickup_date  \\\n",
       "0         -73.981430         40.743835                1  2015-01-27   \n",
       "1         -73.998886         40.739201                1  2015-01-27   \n",
       "2         -73.979654         40.746139                1  2011-10-08   \n",
       "3         -73.990448         40.751635                1  2012-12-01   \n",
       "4         -73.988565         40.744427                1  2012-12-01   \n",
       "\n",
       "   pickup_year  pickup_month  pickup_weekday  pickup_hour  \n",
       "0         2015             1               1           13  \n",
       "1         2015             1               1           13  \n",
       "2         2011            10               5           11  \n",
       "3         2012            12               5           21  \n",
       "4         2012            12               5           21  "
      ]
     },
     "execution_count": 113,
     "metadata": {},
     "output_type": "execute_result"
    }
   ],
   "source": [
    "test.head()"
   ]
  },
  {
   "cell_type": "code",
   "execution_count": 114,
   "metadata": {},
   "outputs": [],
   "source": [
    "#Let's remove the unwanted variables.\n",
    "train = train.drop(['pickup_datetime','pickup_date'],axis=1)\n",
    "test = test.drop(['pickup_datetime','pickup_date'],axis=1)"
   ]
  },
  {
   "cell_type": "code",
   "execution_count": 115,
   "metadata": {},
   "outputs": [
    {
     "data": {
      "text/html": [
       "<div>\n",
       "<style scoped>\n",
       "    .dataframe tbody tr th:only-of-type {\n",
       "        vertical-align: middle;\n",
       "    }\n",
       "\n",
       "    .dataframe tbody tr th {\n",
       "        vertical-align: top;\n",
       "    }\n",
       "\n",
       "    .dataframe thead th {\n",
       "        text-align: right;\n",
       "    }\n",
       "</style>\n",
       "<table border=\"1\" class=\"dataframe\">\n",
       "  <thead>\n",
       "    <tr style=\"text-align: right;\">\n",
       "      <th></th>\n",
       "      <th>pickup_longitude</th>\n",
       "      <th>pickup_latitude</th>\n",
       "      <th>dropoff_longitude</th>\n",
       "      <th>dropoff_latitude</th>\n",
       "      <th>passenger_count</th>\n",
       "      <th>pickup_year</th>\n",
       "      <th>pickup_month</th>\n",
       "      <th>pickup_weekday</th>\n",
       "      <th>pickup_hour</th>\n",
       "    </tr>\n",
       "  </thead>\n",
       "  <tbody>\n",
       "    <tr>\n",
       "      <th>0</th>\n",
       "      <td>-73.973320</td>\n",
       "      <td>40.763805</td>\n",
       "      <td>-73.981430</td>\n",
       "      <td>40.743835</td>\n",
       "      <td>1</td>\n",
       "      <td>2015</td>\n",
       "      <td>1</td>\n",
       "      <td>1</td>\n",
       "      <td>13</td>\n",
       "    </tr>\n",
       "    <tr>\n",
       "      <th>1</th>\n",
       "      <td>-73.986862</td>\n",
       "      <td>40.719383</td>\n",
       "      <td>-73.998886</td>\n",
       "      <td>40.739201</td>\n",
       "      <td>1</td>\n",
       "      <td>2015</td>\n",
       "      <td>1</td>\n",
       "      <td>1</td>\n",
       "      <td>13</td>\n",
       "    </tr>\n",
       "    <tr>\n",
       "      <th>2</th>\n",
       "      <td>-73.982524</td>\n",
       "      <td>40.751260</td>\n",
       "      <td>-73.979654</td>\n",
       "      <td>40.746139</td>\n",
       "      <td>1</td>\n",
       "      <td>2011</td>\n",
       "      <td>10</td>\n",
       "      <td>5</td>\n",
       "      <td>11</td>\n",
       "    </tr>\n",
       "    <tr>\n",
       "      <th>3</th>\n",
       "      <td>-73.981160</td>\n",
       "      <td>40.767807</td>\n",
       "      <td>-73.990448</td>\n",
       "      <td>40.751635</td>\n",
       "      <td>1</td>\n",
       "      <td>2012</td>\n",
       "      <td>12</td>\n",
       "      <td>5</td>\n",
       "      <td>21</td>\n",
       "    </tr>\n",
       "    <tr>\n",
       "      <th>4</th>\n",
       "      <td>-73.966046</td>\n",
       "      <td>40.789775</td>\n",
       "      <td>-73.988565</td>\n",
       "      <td>40.744427</td>\n",
       "      <td>1</td>\n",
       "      <td>2012</td>\n",
       "      <td>12</td>\n",
       "      <td>5</td>\n",
       "      <td>21</td>\n",
       "    </tr>\n",
       "  </tbody>\n",
       "</table>\n",
       "</div>"
      ],
      "text/plain": [
       "   pickup_longitude  pickup_latitude  dropoff_longitude  dropoff_latitude  \\\n",
       "0        -73.973320        40.763805         -73.981430         40.743835   \n",
       "1        -73.986862        40.719383         -73.998886         40.739201   \n",
       "2        -73.982524        40.751260         -73.979654         40.746139   \n",
       "3        -73.981160        40.767807         -73.990448         40.751635   \n",
       "4        -73.966046        40.789775         -73.988565         40.744427   \n",
       "\n",
       "   passenger_count  pickup_year  pickup_month  pickup_weekday  pickup_hour  \n",
       "0                1         2015             1               1           13  \n",
       "1                1         2015             1               1           13  \n",
       "2                1         2011            10               5           11  \n",
       "3                1         2012            12               5           21  \n",
       "4                1         2012            12               5           21  "
      ]
     },
     "execution_count": 115,
     "metadata": {},
     "output_type": "execute_result"
    }
   ],
   "source": [
    "train.head()\n",
    "test.head()"
   ]
  },
  {
   "cell_type": "code",
   "execution_count": 116,
   "metadata": {},
   "outputs": [],
   "source": [
    "#Defining the functions to calculate the distance using pickup and dropff coordinates."
   ]
  },
  {
   "cell_type": "code",
   "execution_count": 117,
   "metadata": {},
   "outputs": [
    {
     "data": {
      "text/html": [
       "<div>\n",
       "<style scoped>\n",
       "    .dataframe tbody tr th:only-of-type {\n",
       "        vertical-align: middle;\n",
       "    }\n",
       "\n",
       "    .dataframe tbody tr th {\n",
       "        vertical-align: top;\n",
       "    }\n",
       "\n",
       "    .dataframe thead th {\n",
       "        text-align: right;\n",
       "    }\n",
       "</style>\n",
       "<table border=\"1\" class=\"dataframe\">\n",
       "  <thead>\n",
       "    <tr style=\"text-align: right;\">\n",
       "      <th></th>\n",
       "      <th>0</th>\n",
       "    </tr>\n",
       "  </thead>\n",
       "  <tbody>\n",
       "    <tr>\n",
       "      <th>fare_amount</th>\n",
       "      <td>0</td>\n",
       "    </tr>\n",
       "    <tr>\n",
       "      <th>pickup_longitude</th>\n",
       "      <td>0</td>\n",
       "    </tr>\n",
       "    <tr>\n",
       "      <th>pickup_latitude</th>\n",
       "      <td>0</td>\n",
       "    </tr>\n",
       "    <tr>\n",
       "      <th>dropoff_longitude</th>\n",
       "      <td>0</td>\n",
       "    </tr>\n",
       "    <tr>\n",
       "      <th>dropoff_latitude</th>\n",
       "      <td>0</td>\n",
       "    </tr>\n",
       "    <tr>\n",
       "      <th>passenger_count</th>\n",
       "      <td>0</td>\n",
       "    </tr>\n",
       "    <tr>\n",
       "      <th>pickup_year</th>\n",
       "      <td>0</td>\n",
       "    </tr>\n",
       "    <tr>\n",
       "      <th>pickup_month</th>\n",
       "      <td>0</td>\n",
       "    </tr>\n",
       "    <tr>\n",
       "      <th>pickup_weekday</th>\n",
       "      <td>0</td>\n",
       "    </tr>\n",
       "    <tr>\n",
       "      <th>pickup_hour</th>\n",
       "      <td>0</td>\n",
       "    </tr>\n",
       "  </tbody>\n",
       "</table>\n",
       "</div>"
      ],
      "text/plain": [
       "                   0\n",
       "fare_amount        0\n",
       "pickup_longitude   0\n",
       "pickup_latitude    0\n",
       "dropoff_longitude  0\n",
       "dropoff_latitude   0\n",
       "passenger_count    0\n",
       "pickup_year        0\n",
       "pickup_month       0\n",
       "pickup_weekday     0\n",
       "pickup_hour        0"
      ]
     },
     "execution_count": 117,
     "metadata": {},
     "output_type": "execute_result"
    }
   ],
   "source": [
    "pd.DataFrame(train.isnull().sum())"
   ]
  },
  {
   "cell_type": "code",
   "execution_count": 118,
   "metadata": {},
   "outputs": [],
   "source": [
    "def haversine(long1,lat1,long2,lat2):\n",
    "    data = [train,test]\n",
    "    for i in data:\n",
    "        R = 6371000 #Radius of Earth in meters\n",
    "        phi_1 = np.radians(i[lat1])\n",
    "        phi_2 = np.radians(i[lat2])\n",
    "        delta_phi = np.radians(i[lat2] - i[lat1])\n",
    "        delta_lambda = np.radians(i[long2] - i[long1])\n",
    "        a = np.sin(delta_phi / 2.0) ** 2 + np.cos(phi_1) * np.cos(phi_2) * np.sin(delta_lambda / 2.0) ** 2\n",
    "        c = 2 * np.arctan2(np.sqrt(a), np.sqrt(1 - a))\n",
    "        meters = R * c  # output distance in meters\n",
    "        km = meters / 1000.0  # output distance in kilometers\n",
    "    \n",
    "    return km\n",
    "    \n",
    "    "
   ]
  },
  {
   "cell_type": "code",
   "execution_count": 119,
   "metadata": {},
   "outputs": [],
   "source": [
    "# Using haversine formula to calculate distance for both train and test\n",
    "train['Distance'] =  haversine('pickup_longitude','pickup_latitude','dropoff_longitude','dropoff_latitude')\n",
    "test['Distance'] = haversine('pickup_longitude','pickup_latitude','dropoff_longitude','dropoff_latitude')"
   ]
  },
  {
   "cell_type": "code",
   "execution_count": 120,
   "metadata": {},
   "outputs": [
    {
     "data": {
      "text/html": [
       "<div>\n",
       "<style scoped>\n",
       "    .dataframe tbody tr th:only-of-type {\n",
       "        vertical-align: middle;\n",
       "    }\n",
       "\n",
       "    .dataframe tbody tr th {\n",
       "        vertical-align: top;\n",
       "    }\n",
       "\n",
       "    .dataframe thead th {\n",
       "        text-align: right;\n",
       "    }\n",
       "</style>\n",
       "<table border=\"1\" class=\"dataframe\">\n",
       "  <thead>\n",
       "    <tr style=\"text-align: right;\">\n",
       "      <th></th>\n",
       "      <th>0</th>\n",
       "    </tr>\n",
       "  </thead>\n",
       "  <tbody>\n",
       "    <tr>\n",
       "      <th>fare_amount</th>\n",
       "      <td>0</td>\n",
       "    </tr>\n",
       "    <tr>\n",
       "      <th>pickup_longitude</th>\n",
       "      <td>0</td>\n",
       "    </tr>\n",
       "    <tr>\n",
       "      <th>pickup_latitude</th>\n",
       "      <td>0</td>\n",
       "    </tr>\n",
       "    <tr>\n",
       "      <th>dropoff_longitude</th>\n",
       "      <td>0</td>\n",
       "    </tr>\n",
       "    <tr>\n",
       "      <th>dropoff_latitude</th>\n",
       "      <td>0</td>\n",
       "    </tr>\n",
       "    <tr>\n",
       "      <th>passenger_count</th>\n",
       "      <td>0</td>\n",
       "    </tr>\n",
       "    <tr>\n",
       "      <th>pickup_year</th>\n",
       "      <td>0</td>\n",
       "    </tr>\n",
       "    <tr>\n",
       "      <th>pickup_month</th>\n",
       "      <td>0</td>\n",
       "    </tr>\n",
       "    <tr>\n",
       "      <th>pickup_weekday</th>\n",
       "      <td>0</td>\n",
       "    </tr>\n",
       "    <tr>\n",
       "      <th>pickup_hour</th>\n",
       "      <td>0</td>\n",
       "    </tr>\n",
       "    <tr>\n",
       "      <th>Distance</th>\n",
       "      <td>5737</td>\n",
       "    </tr>\n",
       "  </tbody>\n",
       "</table>\n",
       "</div>"
      ],
      "text/plain": [
       "                      0\n",
       "fare_amount           0\n",
       "pickup_longitude      0\n",
       "pickup_latitude       0\n",
       "dropoff_longitude     0\n",
       "dropoff_latitude      0\n",
       "passenger_count       0\n",
       "pickup_year           0\n",
       "pickup_month          0\n",
       "pickup_weekday        0\n",
       "pickup_hour           0\n",
       "Distance           5737"
      ]
     },
     "execution_count": 120,
     "metadata": {},
     "output_type": "execute_result"
    }
   ],
   "source": [
    "pd.DataFrame(train.isnull().sum())"
   ]
  },
  {
   "cell_type": "code",
   "execution_count": 121,
   "metadata": {},
   "outputs": [
    {
     "name": "stdout",
     "output_type": "stream",
     "text": [
      "Imputing row 1/15638 with 0 missing, elapsed time: 46.578\n",
      "Imputing row 101/15638 with 0 missing, elapsed time: 46.578\n",
      "Imputing row 201/15638 with 0 missing, elapsed time: 46.579\n",
      "Imputing row 301/15638 with 0 missing, elapsed time: 46.579\n",
      "Imputing row 401/15638 with 0 missing, elapsed time: 46.580\n",
      "Imputing row 501/15638 with 0 missing, elapsed time: 46.580\n",
      "Imputing row 601/15638 with 0 missing, elapsed time: 46.580\n",
      "Imputing row 701/15638 with 0 missing, elapsed time: 46.581\n",
      "Imputing row 801/15638 with 0 missing, elapsed time: 46.581\n",
      "Imputing row 901/15638 with 0 missing, elapsed time: 46.582\n",
      "Imputing row 1001/15638 with 0 missing, elapsed time: 46.582\n",
      "Imputing row 1101/15638 with 0 missing, elapsed time: 46.582\n",
      "Imputing row 1201/15638 with 0 missing, elapsed time: 46.583\n",
      "Imputing row 1301/15638 with 0 missing, elapsed time: 46.583\n",
      "Imputing row 1401/15638 with 0 missing, elapsed time: 46.583\n",
      "Imputing row 1501/15638 with 0 missing, elapsed time: 46.584\n",
      "Imputing row 1601/15638 with 0 missing, elapsed time: 46.584\n",
      "Imputing row 1701/15638 with 0 missing, elapsed time: 46.584\n",
      "Imputing row 1801/15638 with 0 missing, elapsed time: 46.585\n",
      "Imputing row 1901/15638 with 0 missing, elapsed time: 46.585\n",
      "Imputing row 2001/15638 with 0 missing, elapsed time: 46.586\n",
      "Imputing row 2101/15638 with 0 missing, elapsed time: 46.586\n",
      "Imputing row 2201/15638 with 0 missing, elapsed time: 46.586\n",
      "Imputing row 2301/15638 with 0 missing, elapsed time: 46.587\n",
      "Imputing row 2401/15638 with 0 missing, elapsed time: 46.587\n",
      "Imputing row 2501/15638 with 0 missing, elapsed time: 46.587\n",
      "Imputing row 2601/15638 with 0 missing, elapsed time: 46.588\n",
      "Imputing row 2701/15638 with 0 missing, elapsed time: 46.588\n",
      "Imputing row 2801/15638 with 0 missing, elapsed time: 46.589\n",
      "Imputing row 2901/15638 with 0 missing, elapsed time: 46.589\n",
      "Imputing row 3001/15638 with 0 missing, elapsed time: 46.589\n",
      "Imputing row 3101/15638 with 0 missing, elapsed time: 46.590\n",
      "Imputing row 3201/15638 with 0 missing, elapsed time: 46.590\n",
      "Imputing row 3301/15638 with 0 missing, elapsed time: 46.590\n",
      "Imputing row 3401/15638 with 0 missing, elapsed time: 46.591\n",
      "Imputing row 3501/15638 with 0 missing, elapsed time: 46.591\n",
      "Imputing row 3601/15638 with 0 missing, elapsed time: 46.592\n",
      "Imputing row 3701/15638 with 0 missing, elapsed time: 46.592\n",
      "Imputing row 3801/15638 with 0 missing, elapsed time: 46.592\n",
      "Imputing row 3901/15638 with 0 missing, elapsed time: 46.593\n",
      "Imputing row 4001/15638 with 0 missing, elapsed time: 46.593\n",
      "Imputing row 4101/15638 with 0 missing, elapsed time: 46.593\n",
      "Imputing row 4201/15638 with 0 missing, elapsed time: 46.594\n",
      "Imputing row 4301/15638 with 0 missing, elapsed time: 46.594\n",
      "Imputing row 4401/15638 with 0 missing, elapsed time: 46.595\n",
      "Imputing row 4501/15638 with 0 missing, elapsed time: 46.595\n",
      "Imputing row 4601/15638 with 0 missing, elapsed time: 46.596\n",
      "Imputing row 4701/15638 with 0 missing, elapsed time: 46.596\n",
      "Imputing row 4801/15638 with 0 missing, elapsed time: 46.596\n",
      "Imputing row 4901/15638 with 0 missing, elapsed time: 46.597\n",
      "Imputing row 5001/15638 with 0 missing, elapsed time: 46.597\n",
      "Imputing row 5101/15638 with 0 missing, elapsed time: 46.597\n",
      "Imputing row 5201/15638 with 0 missing, elapsed time: 46.598\n",
      "Imputing row 5301/15638 with 0 missing, elapsed time: 46.598\n",
      "Imputing row 5401/15638 with 0 missing, elapsed time: 46.599\n",
      "Imputing row 5501/15638 with 0 missing, elapsed time: 46.599\n",
      "Imputing row 5601/15638 with 0 missing, elapsed time: 46.599\n",
      "Imputing row 5701/15638 with 0 missing, elapsed time: 46.600\n",
      "Imputing row 5801/15638 with 0 missing, elapsed time: 46.600\n",
      "Imputing row 5901/15638 with 0 missing, elapsed time: 46.600\n",
      "Imputing row 6001/15638 with 0 missing, elapsed time: 46.601\n",
      "Imputing row 6101/15638 with 0 missing, elapsed time: 46.601\n",
      "Imputing row 6201/15638 with 0 missing, elapsed time: 46.602\n",
      "Imputing row 6301/15638 with 0 missing, elapsed time: 46.602\n",
      "Imputing row 6401/15638 with 0 missing, elapsed time: 46.602\n",
      "Imputing row 6501/15638 with 0 missing, elapsed time: 46.603\n",
      "Imputing row 6601/15638 with 0 missing, elapsed time: 46.603\n",
      "Imputing row 6701/15638 with 0 missing, elapsed time: 46.603\n",
      "Imputing row 6801/15638 with 0 missing, elapsed time: 46.604\n",
      "Imputing row 6901/15638 with 0 missing, elapsed time: 46.604\n",
      "Imputing row 7001/15638 with 0 missing, elapsed time: 46.605\n",
      "Imputing row 7101/15638 with 0 missing, elapsed time: 46.605\n",
      "Imputing row 7201/15638 with 0 missing, elapsed time: 46.605\n",
      "Imputing row 7301/15638 with 0 missing, elapsed time: 46.606\n",
      "Imputing row 7401/15638 with 0 missing, elapsed time: 46.606\n",
      "Imputing row 7501/15638 with 0 missing, elapsed time: 46.606\n",
      "Imputing row 7601/15638 with 0 missing, elapsed time: 46.607\n",
      "Imputing row 7701/15638 with 0 missing, elapsed time: 46.607\n",
      "Imputing row 7801/15638 with 0 missing, elapsed time: 46.608\n",
      "Imputing row 7901/15638 with 0 missing, elapsed time: 46.608\n",
      "Imputing row 8001/15638 with 0 missing, elapsed time: 46.608\n",
      "Imputing row 8101/15638 with 0 missing, elapsed time: 46.609\n",
      "Imputing row 8201/15638 with 0 missing, elapsed time: 46.609\n",
      "Imputing row 8301/15638 with 0 missing, elapsed time: 46.610\n",
      "Imputing row 8401/15638 with 0 missing, elapsed time: 46.610\n",
      "Imputing row 8501/15638 with 0 missing, elapsed time: 46.611\n",
      "Imputing row 8601/15638 with 0 missing, elapsed time: 46.611\n",
      "Imputing row 8701/15638 with 0 missing, elapsed time: 46.611\n",
      "Imputing row 8801/15638 with 0 missing, elapsed time: 46.611\n",
      "Imputing row 8901/15638 with 0 missing, elapsed time: 46.612\n",
      "Imputing row 9001/15638 with 0 missing, elapsed time: 46.612\n",
      "Imputing row 9101/15638 with 0 missing, elapsed time: 46.612\n",
      "Imputing row 9201/15638 with 0 missing, elapsed time: 46.612\n",
      "Imputing row 9301/15638 with 0 missing, elapsed time: 46.613\n",
      "Imputing row 9401/15638 with 0 missing, elapsed time: 46.613\n",
      "Imputing row 9501/15638 with 0 missing, elapsed time: 46.613\n",
      "Imputing row 9601/15638 with 0 missing, elapsed time: 46.613\n",
      "Imputing row 9701/15638 with 0 missing, elapsed time: 46.614\n",
      "Imputing row 9801/15638 with 0 missing, elapsed time: 46.614\n",
      "Imputing row 9901/15638 with 0 missing, elapsed time: 46.614\n",
      "Imputing row 10001/15638 with 1 missing, elapsed time: 46.628\n",
      "Imputing row 10101/15638 with 1 missing, elapsed time: 46.643\n",
      "Imputing row 10201/15638 with 1 missing, elapsed time: 46.657\n",
      "Imputing row 10301/15638 with 1 missing, elapsed time: 46.671\n",
      "Imputing row 10401/15638 with 1 missing, elapsed time: 46.685\n",
      "Imputing row 10501/15638 with 1 missing, elapsed time: 46.699\n",
      "Imputing row 10601/15638 with 1 missing, elapsed time: 46.713\n",
      "Imputing row 10701/15638 with 1 missing, elapsed time: 46.730\n",
      "Imputing row 10801/15638 with 1 missing, elapsed time: 46.744\n",
      "Imputing row 10901/15638 with 1 missing, elapsed time: 46.762\n",
      "Imputing row 11001/15638 with 1 missing, elapsed time: 46.779\n",
      "Imputing row 11101/15638 with 1 missing, elapsed time: 46.800\n",
      "Imputing row 11201/15638 with 1 missing, elapsed time: 46.821\n",
      "Imputing row 11301/15638 with 1 missing, elapsed time: 46.842\n",
      "Imputing row 11401/15638 with 1 missing, elapsed time: 46.863\n",
      "Imputing row 11501/15638 with 1 missing, elapsed time: 46.893\n",
      "Imputing row 11601/15638 with 1 missing, elapsed time: 46.913\n",
      "Imputing row 11701/15638 with 1 missing, elapsed time: 46.938\n",
      "Imputing row 11801/15638 with 1 missing, elapsed time: 46.958\n",
      "Imputing row 11901/15638 with 1 missing, elapsed time: 46.979\n",
      "Imputing row 12001/15638 with 1 missing, elapsed time: 46.999\n",
      "Imputing row 12101/15638 with 1 missing, elapsed time: 47.017\n",
      "Imputing row 12201/15638 with 1 missing, elapsed time: 47.033\n",
      "Imputing row 12301/15638 with 1 missing, elapsed time: 47.049\n",
      "Imputing row 12401/15638 with 1 missing, elapsed time: 47.064\n",
      "Imputing row 12501/15638 with 1 missing, elapsed time: 47.079\n",
      "Imputing row 12601/15638 with 1 missing, elapsed time: 47.095\n",
      "Imputing row 12701/15638 with 1 missing, elapsed time: 47.111\n",
      "Imputing row 12801/15638 with 1 missing, elapsed time: 47.125\n",
      "Imputing row 12901/15638 with 1 missing, elapsed time: 47.139\n",
      "Imputing row 13001/15638 with 1 missing, elapsed time: 47.154\n",
      "Imputing row 13101/15638 with 1 missing, elapsed time: 47.173\n",
      "Imputing row 13201/15638 with 1 missing, elapsed time: 47.191\n",
      "Imputing row 13301/15638 with 1 missing, elapsed time: 47.205\n",
      "Imputing row 13401/15638 with 1 missing, elapsed time: 47.218\n",
      "Imputing row 13501/15638 with 1 missing, elapsed time: 47.232\n",
      "Imputing row 13601/15638 with 1 missing, elapsed time: 47.246\n",
      "Imputing row 13701/15638 with 1 missing, elapsed time: 47.260\n",
      "Imputing row 13801/15638 with 1 missing, elapsed time: 47.275\n",
      "Imputing row 13901/15638 with 1 missing, elapsed time: 47.291\n",
      "Imputing row 14001/15638 with 1 missing, elapsed time: 47.308\n",
      "Imputing row 14101/15638 with 1 missing, elapsed time: 47.325\n"
     ]
    },
    {
     "name": "stdout",
     "output_type": "stream",
     "text": [
      "Imputing row 14201/15638 with 1 missing, elapsed time: 47.340\n",
      "Imputing row 14301/15638 with 1 missing, elapsed time: 47.358\n",
      "Imputing row 14401/15638 with 1 missing, elapsed time: 47.376\n",
      "Imputing row 14501/15638 with 1 missing, elapsed time: 47.390\n",
      "Imputing row 14601/15638 with 1 missing, elapsed time: 47.404\n",
      "Imputing row 14701/15638 with 1 missing, elapsed time: 47.418\n",
      "Imputing row 14801/15638 with 1 missing, elapsed time: 47.432\n",
      "Imputing row 14901/15638 with 1 missing, elapsed time: 47.445\n",
      "Imputing row 15001/15638 with 1 missing, elapsed time: 47.459\n",
      "Imputing row 15101/15638 with 1 missing, elapsed time: 47.473\n",
      "Imputing row 15201/15638 with 1 missing, elapsed time: 47.487\n",
      "Imputing row 15301/15638 with 1 missing, elapsed time: 47.501\n",
      "Imputing row 15401/15638 with 1 missing, elapsed time: 47.515\n",
      "Imputing row 15501/15638 with 1 missing, elapsed time: 47.532\n",
      "Imputing row 15601/15638 with 1 missing, elapsed time: 47.551\n"
     ]
    }
   ],
   "source": [
    "#Imputing with missing values using KNN\n",
    "train = pd.DataFrame(KNN(k = 3).fit_transform(train), columns = train.columns, index=train.index)\n"
   ]
  },
  {
   "cell_type": "code",
   "execution_count": 122,
   "metadata": {},
   "outputs": [
    {
     "data": {
      "text/html": [
       "<div>\n",
       "<style scoped>\n",
       "    .dataframe tbody tr th:only-of-type {\n",
       "        vertical-align: middle;\n",
       "    }\n",
       "\n",
       "    .dataframe tbody tr th {\n",
       "        vertical-align: top;\n",
       "    }\n",
       "\n",
       "    .dataframe thead th {\n",
       "        text-align: right;\n",
       "    }\n",
       "</style>\n",
       "<table border=\"1\" class=\"dataframe\">\n",
       "  <thead>\n",
       "    <tr style=\"text-align: right;\">\n",
       "      <th></th>\n",
       "      <th>0</th>\n",
       "    </tr>\n",
       "  </thead>\n",
       "  <tbody>\n",
       "    <tr>\n",
       "      <th>fare_amount</th>\n",
       "      <td>0</td>\n",
       "    </tr>\n",
       "    <tr>\n",
       "      <th>pickup_longitude</th>\n",
       "      <td>0</td>\n",
       "    </tr>\n",
       "    <tr>\n",
       "      <th>pickup_latitude</th>\n",
       "      <td>0</td>\n",
       "    </tr>\n",
       "    <tr>\n",
       "      <th>dropoff_longitude</th>\n",
       "      <td>0</td>\n",
       "    </tr>\n",
       "    <tr>\n",
       "      <th>dropoff_latitude</th>\n",
       "      <td>0</td>\n",
       "    </tr>\n",
       "    <tr>\n",
       "      <th>passenger_count</th>\n",
       "      <td>0</td>\n",
       "    </tr>\n",
       "    <tr>\n",
       "      <th>pickup_year</th>\n",
       "      <td>0</td>\n",
       "    </tr>\n",
       "    <tr>\n",
       "      <th>pickup_month</th>\n",
       "      <td>0</td>\n",
       "    </tr>\n",
       "    <tr>\n",
       "      <th>pickup_weekday</th>\n",
       "      <td>0</td>\n",
       "    </tr>\n",
       "    <tr>\n",
       "      <th>pickup_hour</th>\n",
       "      <td>0</td>\n",
       "    </tr>\n",
       "    <tr>\n",
       "      <th>Distance</th>\n",
       "      <td>0</td>\n",
       "    </tr>\n",
       "  </tbody>\n",
       "</table>\n",
       "</div>"
      ],
      "text/plain": [
       "                   0\n",
       "fare_amount        0\n",
       "pickup_longitude   0\n",
       "pickup_latitude    0\n",
       "dropoff_longitude  0\n",
       "dropoff_latitude   0\n",
       "passenger_count    0\n",
       "pickup_year        0\n",
       "pickup_month       0\n",
       "pickup_weekday     0\n",
       "pickup_hour        0\n",
       "Distance           0"
      ]
     },
     "execution_count": 122,
     "metadata": {},
     "output_type": "execute_result"
    }
   ],
   "source": [
    "pd.DataFrame(train.isnull().sum())"
   ]
  },
  {
   "cell_type": "code",
   "execution_count": 123,
   "metadata": {},
   "outputs": [
    {
     "data": {
      "text/html": [
       "<div>\n",
       "<style scoped>\n",
       "    .dataframe tbody tr th:only-of-type {\n",
       "        vertical-align: middle;\n",
       "    }\n",
       "\n",
       "    .dataframe tbody tr th {\n",
       "        vertical-align: top;\n",
       "    }\n",
       "\n",
       "    .dataframe thead th {\n",
       "        text-align: right;\n",
       "    }\n",
       "</style>\n",
       "<table border=\"1\" class=\"dataframe\">\n",
       "  <thead>\n",
       "    <tr style=\"text-align: right;\">\n",
       "      <th></th>\n",
       "      <th>pickup_longitude</th>\n",
       "      <th>pickup_latitude</th>\n",
       "      <th>dropoff_longitude</th>\n",
       "      <th>dropoff_latitude</th>\n",
       "      <th>passenger_count</th>\n",
       "      <th>pickup_year</th>\n",
       "      <th>pickup_month</th>\n",
       "      <th>pickup_weekday</th>\n",
       "      <th>pickup_hour</th>\n",
       "      <th>Distance</th>\n",
       "    </tr>\n",
       "  </thead>\n",
       "  <tbody>\n",
       "    <tr>\n",
       "      <th>0</th>\n",
       "      <td>-73.973320</td>\n",
       "      <td>40.763805</td>\n",
       "      <td>-73.981430</td>\n",
       "      <td>40.743835</td>\n",
       "      <td>1</td>\n",
       "      <td>2015</td>\n",
       "      <td>1</td>\n",
       "      <td>1</td>\n",
       "      <td>13</td>\n",
       "      <td>2.323259</td>\n",
       "    </tr>\n",
       "    <tr>\n",
       "      <th>1</th>\n",
       "      <td>-73.986862</td>\n",
       "      <td>40.719383</td>\n",
       "      <td>-73.998886</td>\n",
       "      <td>40.739201</td>\n",
       "      <td>1</td>\n",
       "      <td>2015</td>\n",
       "      <td>1</td>\n",
       "      <td>1</td>\n",
       "      <td>13</td>\n",
       "      <td>2.425353</td>\n",
       "    </tr>\n",
       "    <tr>\n",
       "      <th>2</th>\n",
       "      <td>-73.982524</td>\n",
       "      <td>40.751260</td>\n",
       "      <td>-73.979654</td>\n",
       "      <td>40.746139</td>\n",
       "      <td>1</td>\n",
       "      <td>2011</td>\n",
       "      <td>10</td>\n",
       "      <td>5</td>\n",
       "      <td>11</td>\n",
       "      <td>0.618628</td>\n",
       "    </tr>\n",
       "    <tr>\n",
       "      <th>3</th>\n",
       "      <td>-73.981160</td>\n",
       "      <td>40.767807</td>\n",
       "      <td>-73.990448</td>\n",
       "      <td>40.751635</td>\n",
       "      <td>1</td>\n",
       "      <td>2012</td>\n",
       "      <td>12</td>\n",
       "      <td>5</td>\n",
       "      <td>21</td>\n",
       "      <td>1.961033</td>\n",
       "    </tr>\n",
       "    <tr>\n",
       "      <th>4</th>\n",
       "      <td>-73.966046</td>\n",
       "      <td>40.789775</td>\n",
       "      <td>-73.988565</td>\n",
       "      <td>40.744427</td>\n",
       "      <td>1</td>\n",
       "      <td>2012</td>\n",
       "      <td>12</td>\n",
       "      <td>5</td>\n",
       "      <td>21</td>\n",
       "      <td>5.387301</td>\n",
       "    </tr>\n",
       "  </tbody>\n",
       "</table>\n",
       "</div>"
      ],
      "text/plain": [
       "   pickup_longitude  pickup_latitude  dropoff_longitude  dropoff_latitude  \\\n",
       "0        -73.973320        40.763805         -73.981430         40.743835   \n",
       "1        -73.986862        40.719383         -73.998886         40.739201   \n",
       "2        -73.982524        40.751260         -73.979654         40.746139   \n",
       "3        -73.981160        40.767807         -73.990448         40.751635   \n",
       "4        -73.966046        40.789775         -73.988565         40.744427   \n",
       "\n",
       "   passenger_count  pickup_year  pickup_month  pickup_weekday  pickup_hour  \\\n",
       "0                1         2015             1               1           13   \n",
       "1                1         2015             1               1           13   \n",
       "2                1         2011            10               5           11   \n",
       "3                1         2012            12               5           21   \n",
       "4                1         2012            12               5           21   \n",
       "\n",
       "   Distance  \n",
       "0  2.323259  \n",
       "1  2.425353  \n",
       "2  0.618628  \n",
       "3  1.961033  \n",
       "4  5.387301  "
      ]
     },
     "execution_count": 123,
     "metadata": {},
     "output_type": "execute_result"
    }
   ],
   "source": [
    "test.head()"
   ]
  },
  {
   "cell_type": "code",
   "execution_count": 124,
   "metadata": {},
   "outputs": [],
   "source": [
    "#Let's remove the variables which were used to create new variables as they are of no use to us.\n",
    "train = train.drop(['pickup_longitude','pickup_latitude','dropoff_longitude','dropoff_latitude'],axis=1)\n",
    "test = test.drop(['pickup_longitude','pickup_latitude','dropoff_longitude','dropoff_latitude'],axis=1)"
   ]
  },
  {
   "cell_type": "code",
   "execution_count": 125,
   "metadata": {},
   "outputs": [
    {
     "data": {
      "text/html": [
       "<div>\n",
       "<style scoped>\n",
       "    .dataframe tbody tr th:only-of-type {\n",
       "        vertical-align: middle;\n",
       "    }\n",
       "\n",
       "    .dataframe tbody tr th {\n",
       "        vertical-align: top;\n",
       "    }\n",
       "\n",
       "    .dataframe thead th {\n",
       "        text-align: right;\n",
       "    }\n",
       "</style>\n",
       "<table border=\"1\" class=\"dataframe\">\n",
       "  <thead>\n",
       "    <tr style=\"text-align: right;\">\n",
       "      <th></th>\n",
       "      <th>passenger_count</th>\n",
       "      <th>pickup_year</th>\n",
       "      <th>pickup_month</th>\n",
       "      <th>pickup_weekday</th>\n",
       "      <th>pickup_hour</th>\n",
       "      <th>Distance</th>\n",
       "    </tr>\n",
       "  </thead>\n",
       "  <tbody>\n",
       "    <tr>\n",
       "      <th>0</th>\n",
       "      <td>1</td>\n",
       "      <td>2015</td>\n",
       "      <td>1</td>\n",
       "      <td>1</td>\n",
       "      <td>13</td>\n",
       "      <td>2.323259</td>\n",
       "    </tr>\n",
       "    <tr>\n",
       "      <th>1</th>\n",
       "      <td>1</td>\n",
       "      <td>2015</td>\n",
       "      <td>1</td>\n",
       "      <td>1</td>\n",
       "      <td>13</td>\n",
       "      <td>2.425353</td>\n",
       "    </tr>\n",
       "    <tr>\n",
       "      <th>2</th>\n",
       "      <td>1</td>\n",
       "      <td>2011</td>\n",
       "      <td>10</td>\n",
       "      <td>5</td>\n",
       "      <td>11</td>\n",
       "      <td>0.618628</td>\n",
       "    </tr>\n",
       "    <tr>\n",
       "      <th>3</th>\n",
       "      <td>1</td>\n",
       "      <td>2012</td>\n",
       "      <td>12</td>\n",
       "      <td>5</td>\n",
       "      <td>21</td>\n",
       "      <td>1.961033</td>\n",
       "    </tr>\n",
       "    <tr>\n",
       "      <th>4</th>\n",
       "      <td>1</td>\n",
       "      <td>2012</td>\n",
       "      <td>12</td>\n",
       "      <td>5</td>\n",
       "      <td>21</td>\n",
       "      <td>5.387301</td>\n",
       "    </tr>\n",
       "  </tbody>\n",
       "</table>\n",
       "</div>"
      ],
      "text/plain": [
       "   passenger_count  pickup_year  pickup_month  pickup_weekday  pickup_hour  \\\n",
       "0                1         2015             1               1           13   \n",
       "1                1         2015             1               1           13   \n",
       "2                1         2011            10               5           11   \n",
       "3                1         2012            12               5           21   \n",
       "4                1         2012            12               5           21   \n",
       "\n",
       "   Distance  \n",
       "0  2.323259  \n",
       "1  2.425353  \n",
       "2  0.618628  \n",
       "3  1.961033  \n",
       "4  5.387301  "
      ]
     },
     "execution_count": 125,
     "metadata": {},
     "output_type": "execute_result"
    }
   ],
   "source": [
    "train.head()\n",
    "test.head()"
   ]
  },
  {
   "cell_type": "markdown",
   "metadata": {},
   "source": [
    "# FEATURE SELECTION"
   ]
  },
  {
   "cell_type": "code",
   "execution_count": 126,
   "metadata": {},
   "outputs": [
    {
     "name": "stderr",
     "output_type": "stream",
     "text": [
      "E:\\Anaconda\\lib\\site-packages\\pandas\\core\\indexing.py:1494: FutureWarning: \n",
      "Passing list-likes to .loc or [] with any missing label will raise\n",
      "KeyError in the future, you can use .reindex() as an alternative.\n",
      "\n",
      "See the documentation here:\n",
      "https://pandas.pydata.org/pandas-docs/stable/indexing.html#deprecate-loc-reindex-listlike\n",
      "  return self._getitem_tuple(key)\n"
     ]
    }
   ],
   "source": [
    "#Correlation Analysis:\n",
    "cnames= [\"fare_amount\",\"distance\"]\n",
    "#Correlation plot\n",
    "df_corr = train.loc[:,cnames]"
   ]
  },
  {
   "cell_type": "code",
   "execution_count": 127,
   "metadata": {},
   "outputs": [
    {
     "data": {
      "text/plain": [
       "<matplotlib.axes._subplots.AxesSubplot at 0x2c4fe99c18>"
      ]
     },
     "execution_count": 127,
     "metadata": {},
     "output_type": "execute_result"
    },
    {
     "data": {
      "image/png": "[encoded data removed]",
      "text/plain": [
       "<Figure size 504x360 with 2 Axes>"
      ]
     },
     "metadata": {
      "needs_background": "light"
     },
     "output_type": "display_data"
    }
   ],
   "source": [
    "#Set the width and hieght of the plot\n",
    "f, ax = plt.subplots(figsize=(7, 5))\n",
    "\n",
    "#Generate correlation matrix\n",
    "corr = df_corr.corr()\n",
    "\n",
    "#Plot using seaborn library\n",
    "sns.heatmap(corr, mask=np.zeros_like(corr, dtype=np.bool), cmap=sns.diverging_palette(220, 10, as_cmap=True),\n",
    "            square=True, ax=ax)"
   ]
  },
  {
   "cell_type": "code",
   "execution_count": 128,
   "metadata": {},
   "outputs": [],
   "source": [
    "#model_name = ols('outcome_variable ~ group1 + group2 + groupN', data=your_data).fit() \n",
    "model_name = ols('fare_amount ~ C(passenger_count) + C(pickup_year) + C(pickup_month) + C(pickup_weekday) + C(pickup_hour)',data = train).fit()"
   ]
  },
  {
   "cell_type": "code",
   "execution_count": 129,
   "metadata": {},
   "outputs": [],
   "source": [
    "aov_table = sm.stats.anova_lm(model_name)"
   ]
  },
  {
   "cell_type": "code",
   "execution_count": 130,
   "metadata": {},
   "outputs": [
    {
     "data": {
      "text/html": [
       "<div>\n",
       "<style scoped>\n",
       "    .dataframe tbody tr th:only-of-type {\n",
       "        vertical-align: middle;\n",
       "    }\n",
       "\n",
       "    .dataframe tbody tr th {\n",
       "        vertical-align: top;\n",
       "    }\n",
       "\n",
       "    .dataframe thead th {\n",
       "        text-align: right;\n",
       "    }\n",
       "</style>\n",
       "<table border=\"1\" class=\"dataframe\">\n",
       "  <thead>\n",
       "    <tr style=\"text-align: right;\">\n",
       "      <th></th>\n",
       "      <th>df</th>\n",
       "      <th>sum_sq</th>\n",
       "      <th>mean_sq</th>\n",
       "      <th>F</th>\n",
       "      <th>PR(&gt;F)</th>\n",
       "    </tr>\n",
       "  </thead>\n",
       "  <tbody>\n",
       "    <tr>\n",
       "      <th>C(passenger_count)</th>\n",
       "      <td>5.0</td>\n",
       "      <td>261.253408</td>\n",
       "      <td>52.250682</td>\n",
       "      <td>2.609293</td>\n",
       "      <td>0.022986</td>\n",
       "    </tr>\n",
       "    <tr>\n",
       "      <th>C(pickup_year)</th>\n",
       "      <td>6.0</td>\n",
       "      <td>86.196416</td>\n",
       "      <td>14.366069</td>\n",
       "      <td>0.717412</td>\n",
       "      <td>0.635553</td>\n",
       "    </tr>\n",
       "    <tr>\n",
       "      <th>C(pickup_month)</th>\n",
       "      <td>11.0</td>\n",
       "      <td>225.666029</td>\n",
       "      <td>20.515094</td>\n",
       "      <td>1.024482</td>\n",
       "      <td>0.421053</td>\n",
       "    </tr>\n",
       "    <tr>\n",
       "      <th>C(pickup_weekday)</th>\n",
       "      <td>6.0</td>\n",
       "      <td>307.036950</td>\n",
       "      <td>51.172825</td>\n",
       "      <td>2.555467</td>\n",
       "      <td>0.017859</td>\n",
       "    </tr>\n",
       "    <tr>\n",
       "      <th>C(pickup_hour)</th>\n",
       "      <td>23.0</td>\n",
       "      <td>701.587056</td>\n",
       "      <td>30.503785</td>\n",
       "      <td>1.523297</td>\n",
       "      <td>0.051777</td>\n",
       "    </tr>\n",
       "    <tr>\n",
       "      <th>Residual</th>\n",
       "      <td>15586.0</td>\n",
       "      <td>312107.228878</td>\n",
       "      <td>20.024845</td>\n",
       "      <td>NaN</td>\n",
       "      <td>NaN</td>\n",
       "    </tr>\n",
       "  </tbody>\n",
       "</table>\n",
       "</div>"
      ],
      "text/plain": [
       "                         df         sum_sq    mean_sq         F    PR(>F)\n",
       "C(passenger_count)      5.0     261.253408  52.250682  2.609293  0.022986\n",
       "C(pickup_year)          6.0      86.196416  14.366069  0.717412  0.635553\n",
       "C(pickup_month)        11.0     225.666029  20.515094  1.024482  0.421053\n",
       "C(pickup_weekday)       6.0     307.036950  51.172825  2.555467  0.017859\n",
       "C(pickup_hour)         23.0     701.587056  30.503785  1.523297  0.051777\n",
       "Residual            15586.0  312107.228878  20.024845       NaN       NaN"
      ]
     },
     "execution_count": 130,
     "metadata": {},
     "output_type": "execute_result"
    }
   ],
   "source": [
    "aov_table"
   ]
  },
  {
   "cell_type": "code",
   "execution_count": 131,
   "metadata": {},
   "outputs": [],
   "source": [
    "#The p-values of pickup_year and pickup_month are greater than 0.05 so we will reject the alternate hypothesis for them\n",
    "#as these two variables and the target variable are independent of each other.\n",
    "#Also, not removing pickup_hour as its p-value is 0.051 which is only borderline greater than 0.05. Also, we can't remove three variables now becausethen we would only have two categorical variables. "
   ]
  },
  {
   "cell_type": "code",
   "execution_count": 132,
   "metadata": {},
   "outputs": [],
   "source": [
    "train = train.drop(['pickup_year','pickup_month'],axis=1)\n",
    "#train.head()"
   ]
  },
  {
   "cell_type": "code",
   "execution_count": 133,
   "metadata": {
    "scrolled": true
   },
   "outputs": [],
   "source": [
    "#Let's do the same to test data set as well\n",
    "test = test.drop(['pickup_year','pickup_month'],axis=1)\n",
    "#test.head()"
   ]
  },
  {
   "cell_type": "markdown",
   "metadata": {},
   "source": [
    "# FEATURE SCALING"
   ]
  },
  {
   "cell_type": "code",
   "execution_count": 134,
   "metadata": {},
   "outputs": [
    {
     "data": {
      "text/plain": [
       "count    15638.000000\n",
       "mean         9.404902\n",
       "std          4.478916\n",
       "min          1.140000\n",
       "25%          6.000000\n",
       "50%          8.200000\n",
       "75%         11.798730\n",
       "max         22.100000\n",
       "Name: fare_amount, dtype: float64"
      ]
     },
     "execution_count": 134,
     "metadata": {},
     "output_type": "execute_result"
    }
   ],
   "source": [
    "train['fare_amount'].describe()"
   ]
  },
  {
   "cell_type": "code",
   "execution_count": 135,
   "metadata": {},
   "outputs": [
    {
     "data": {
      "text/plain": [
       "count    15638.000000\n",
       "mean         3.429691\n",
       "std          3.461140\n",
       "min          0.000000\n",
       "25%          1.523522\n",
       "50%          2.464666\n",
       "75%          4.124759\n",
       "max         99.996040\n",
       "Name: Distance, dtype: float64"
      ]
     },
     "execution_count": 135,
     "metadata": {},
     "output_type": "execute_result"
    }
   ],
   "source": [
    "train['Distance'].describe()"
   ]
  },
  {
   "cell_type": "code",
   "execution_count": 136,
   "metadata": {},
   "outputs": [
    {
     "data": {
      "text/plain": [
       "4.478915872311411"
      ]
     },
     "execution_count": 136,
     "metadata": {},
     "output_type": "execute_result"
    }
   ],
   "source": [
    "train['fare_amount'].std()"
   ]
  },
  {
   "cell_type": "code",
   "execution_count": 137,
   "metadata": {},
   "outputs": [
    {
     "data": {
      "text/plain": [
       "3.4611395533558755"
      ]
     },
     "execution_count": 137,
     "metadata": {},
     "output_type": "execute_result"
    }
   ],
   "source": [
    "train['Distance'].std()"
   ]
  },
  {
   "cell_type": "code",
   "execution_count": 138,
   "metadata": {},
   "outputs": [
    {
     "data": {
      "text/plain": [
       "20.060687391243093"
      ]
     },
     "execution_count": 138,
     "metadata": {},
     "output_type": "execute_result"
    }
   ],
   "source": [
    "train['fare_amount'].var()"
   ]
  },
  {
   "cell_type": "code",
   "execution_count": 139,
   "metadata": {},
   "outputs": [
    {
     "data": {
      "text/plain": [
       "11.97948700780451"
      ]
     },
     "execution_count": 139,
     "metadata": {},
     "output_type": "execute_result"
    }
   ],
   "source": [
    "train['Distance'].var()"
   ]
  },
  {
   "cell_type": "code",
   "execution_count": 140,
   "metadata": {},
   "outputs": [
    {
     "data": {
      "text/plain": [
       "(array([1.000e+00, 0.000e+00, 5.600e+01, 4.200e+01, 1.470e+02, 2.770e+02,\n",
       "        4.850e+02, 6.660e+02, 7.590e+02, 8.320e+02, 1.277e+03, 7.780e+02,\n",
       "        7.780e+02, 6.880e+02, 3.830e+02, 6.750e+02, 6.380e+02, 8.330e+02,\n",
       "        5.270e+02, 4.780e+02, 4.710e+02, 4.270e+02, 3.650e+02, 3.150e+02,\n",
       "        4.150e+02, 1.430e+02, 2.720e+02, 2.510e+02, 2.020e+02, 1.850e+02,\n",
       "        1.930e+02, 2.260e+02, 1.920e+02, 1.780e+02, 1.590e+02, 1.530e+02,\n",
       "        7.300e+01, 1.280e+02, 1.670e+02, 1.450e+02, 1.430e+02, 1.230e+02,\n",
       "        1.270e+02, 9.900e+01, 1.060e+02, 6.000e+01]),\n",
       " array([ 1.14      ,  1.59565217,  2.05130435,  2.50695652,  2.9626087 ,\n",
       "         3.41826087,  3.87391304,  4.32956522,  4.78521739,  5.24086957,\n",
       "         5.69652174,  6.15217391,  6.60782609,  7.06347826,  7.51913043,\n",
       "         7.97478261,  8.43043478,  8.88608696,  9.34173913,  9.7973913 ,\n",
       "        10.25304348, 10.70869565, 11.16434783, 11.62      , 12.07565217,\n",
       "        12.53130435, 12.98695652, 13.4426087 , 13.89826087, 14.35391304,\n",
       "        14.80956522, 15.26521739, 15.72086957, 16.17652174, 16.63217391,\n",
       "        17.08782609, 17.54347826, 17.99913043, 18.45478261, 18.91043478,\n",
       "        19.36608696, 19.82173913, 20.2773913 , 20.73304348, 21.18869565,\n",
       "        21.64434783, 22.1       ]),\n",
       " <a list of 46 Patch objects>)"
      ]
     },
     "execution_count": 140,
     "metadata": {},
     "output_type": "execute_result"
    },
    {
     "data": {
      "image/png": "[encoded data removed]",
      "text/plain": [
       "<Figure size 432x288 with 1 Axes>"
      ]
     },
     "metadata": {
      "needs_background": "light"
     },
     "output_type": "display_data"
    }
   ],
   "source": [
    "#Normality check\n",
    "%matplotlib inline  \n",
    "plt.hist(train['fare_amount'], bins='auto') #Slightly left-skewed"
   ]
  },
  {
   "cell_type": "code",
   "execution_count": 141,
   "metadata": {},
   "outputs": [
    {
     "data": {
      "text/plain": [
       "(array([161., 122., 320., 500., 676., 930., 888., 964., 924., 887., 792.,\n",
       "        762., 671., 605., 523., 486., 471., 404., 361., 332., 312., 267.,\n",
       "        224., 245., 198., 180., 163., 145., 134., 155., 119.,  95.,  99.,\n",
       "         96.,  76.,  87.,  67.,  68.,  47.,  47.,  58.,  57.,  53.,  41.,\n",
       "         49.,  46.,  52.,  47.,  42.,  33.,  22.,  22.,  29.,  23.,  10.,\n",
       "         20.,  20.,  20.,  11.,   6.,  10.,  17.,   9.,   9.,   5.,  12.,\n",
       "          7.,  13.,  11.,   5.,   5.,   7.,   4.,   7.,   5.,   6.,   8.,\n",
       "          3.,   2.,   7.,   5.,   6.,  11.,   4.,   1.,   3.,   3.,   5.,\n",
       "          6.,   6.,   4.,   4.,   7.,   7.,  10.,   8.,  10.,  13.,   9.,\n",
       "         23.,  11.,  15.,   9.,   9.,   5.,   3.,   4.,   2.,   2.,   0.,\n",
       "          1.,   2.,   1.,   0.,   0.,   0.,   0.,   0.,   0.,   0.,   0.,\n",
       "          0.,   2.,   0.,   0.,   0.,   0.,   0.,   0.,   0.,   1.,   2.,\n",
       "          0.,   1.,   1.,   0.,   0.,   0.,   1.,   0.,   0.,   0.,   0.,\n",
       "          0.,   0.,   0.,   0.,   0.,   0.,   0.,   0.,   0.,   0.,   0.,\n",
       "          0.,   0.,   0.,   0.,   0.,   0.,   0.,   1.,   0.,   0.,   0.,\n",
       "          0.,   0.,   0.,   0.,   0.,   0.,   0.,   0.,   0.,   0.,   0.,\n",
       "          0.,   0.,   0.,   0.,   0.,   0.,   0.,   0.,   0.,   0.,   0.,\n",
       "          0.,   0.,   0.,   0.,   0.,   0.,   0.,   0.,   0.,   0.,   0.,\n",
       "          0.,   0.,   0.,   0.,   0.,   1.,   0.,   0.,   0.,   0.,   0.,\n",
       "          0.,   0.,   0.,   0.,   0.,   0.,   0.,   0.,   0.,   0.,   0.,\n",
       "          0.,   0.,   0.,   0.,   0.,   0.,   0.,   0.,   0.,   0.,   0.,\n",
       "          0.,   0.,   0.,   0.,   0.,   0.,   0.,   0.,   0.,   0.,   0.,\n",
       "          0.,   0.,   0.,   0.,   0.,   0.,   0.,   0.,   0.,   0.,   0.,\n",
       "          0.,   0.,   0.,   0.,   0.,   0.,   0.,   0.,   0.,   0.,   0.,\n",
       "          0.,   0.,   0.,   0.,   0.,   0.,   0.,   0.,   0.,   0.,   0.,\n",
       "          0.,   0.,   0.,   0.,   0.,   0.,   0.,   0.,   0.,   0.,   0.,\n",
       "          0.,   0.,   0.,   0.,   0.,   0.,   0.,   0.,   0.,   0.,   0.,\n",
       "          0.,   0.,   0.,   0.,   0.,   0.,   0.,   0.,   0.,   0.,   0.,\n",
       "          0.,   0.,   0.,   0.,   0.,   0.,   0.,   0.,   0.,   0.,   0.,\n",
       "          0.,   0.,   0.,   0.,   0.,   0.,   0.,   0.,   0.,   0.,   0.,\n",
       "          0.,   0.,   0.,   0.,   0.,   0.,   0.,   0.,   0.,   0.,   0.,\n",
       "          0.,   0.,   0.,   0.,   0.,   0.,   0.,   0.,   0.,   0.,   0.,\n",
       "          0.,   0.,   0.,   0.,   0.,   0.,   0.,   0.,   0.,   0.,   0.,\n",
       "          0.,   0.,   0.,   0.,   0.,   0.,   0.,   0.,   0.,   0.,   0.,\n",
       "          0.,   0.,   0.,   0.,   0.,   0.,   0.,   0.,   0.,   0.,   0.,\n",
       "          0.,   0.,   0.,   0.,   0.,   0.,   0.,   0.,   0.,   0.,   0.,\n",
       "          0.,   0.,   0.,   0.,   0.,   0.,   0.,   0.,   0.,   0.,   0.,\n",
       "          0.,   0.,   0.,   0.,   0.,   0.,   0.,   0.,   0.,   0.,   0.,\n",
       "          0.,   0.,   0.,   0.,   0.,   0.,   0.,   0.,   0.,   0.,   0.,\n",
       "          0.,   0.,   0.,   0.,   0.,   0.,   0.,   0.,   0.,   0.,   0.,\n",
       "          0.,   0.,   0.,   0.,   0.,   0.,   0.,   0.,   0.,   0.,   0.,\n",
       "          0.,   0.,   0.,   0.,   0.,   0.,   0.,   0.,   0.,   0.,   0.,\n",
       "          0.,   0.,   0.,   0.,   0.,   1.,   0.,   0.,   0.,   0.,   1.,\n",
       "          0.,   0.,   0.,   0.,   0.,   0.,   0.,   1.]),\n",
       " array([ 0.        ,  0.20789198,  0.41578395,  0.62367593,  0.8315679 ,\n",
       "         1.03945988,  1.24735185,  1.45524383,  1.66313581,  1.87102778,\n",
       "         2.07891976,  2.28681173,  2.49470371,  2.70259569,  2.91048766,\n",
       "         3.11837964,  3.32627161,  3.53416359,  3.74205556,  3.94994754,\n",
       "         4.15783952,  4.36573149,  4.57362347,  4.78151544,  4.98940742,\n",
       "         5.19729939,  5.40519137,  5.61308335,  5.82097532,  6.0288673 ,\n",
       "         6.23675927,  6.44465125,  6.65254322,  6.8604352 ,  7.06832718,\n",
       "         7.27621915,  7.48411113,  7.6920031 ,  7.89989508,  8.10778706,\n",
       "         8.31567903,  8.52357101,  8.73146298,  8.93935496,  9.14724693,\n",
       "         9.35513891,  9.56303089,  9.77092286,  9.97881484, 10.18670681,\n",
       "        10.39459879, 10.60249076, 10.81038274, 11.01827472, 11.22616669,\n",
       "        11.43405867, 11.64195064, 11.84984262, 12.05773459, 12.26562657,\n",
       "        12.47351855, 12.68141052, 12.8893025 , 13.09719447, 13.30508645,\n",
       "        13.51297843, 13.7208704 , 13.92876238, 14.13665435, 14.34454633,\n",
       "        14.5524383 , 14.76033028, 14.96822226, 15.17611423, 15.38400621,\n",
       "        15.59189818, 15.79979016, 16.00768213, 16.21557411, 16.42346609,\n",
       "        16.63135806, 16.83925004, 17.04714201, 17.25503399, 17.46292596,\n",
       "        17.67081794, 17.87870992, 18.08660189, 18.29449387, 18.50238584,\n",
       "        18.71027782, 18.9181698 , 19.12606177, 19.33395375, 19.54184572,\n",
       "        19.7497377 , 19.95762967, 20.16552165, 20.37341363, 20.5813056 ,\n",
       "        20.78919758, 20.99708955, 21.20498153, 21.4128735 , 21.62076548,\n",
       "        21.82865746, 22.03654943, 22.24444141, 22.45233338, 22.66022536,\n",
       "        22.86811733, 23.07600931, 23.28390129, 23.49179326, 23.69968524,\n",
       "        23.90757721, 24.11546919, 24.32336117, 24.53125314, 24.73914512,\n",
       "        24.94703709, 25.15492907, 25.36282104, 25.57071302, 25.778605  ,\n",
       "        25.98649697, 26.19438895, 26.40228092, 26.6101729 , 26.81806487,\n",
       "        27.02595685, 27.23384883, 27.4417408 , 27.64963278, 27.85752475,\n",
       "        28.06541673, 28.2733087 , 28.48120068, 28.68909266, 28.89698463,\n",
       "        29.10487661, 29.31276858, 29.52066056, 29.72855254, 29.93644451,\n",
       "        30.14433649, 30.35222846, 30.56012044, 30.76801241, 30.97590439,\n",
       "        31.18379637, 31.39168834, 31.59958032, 31.80747229, 32.01536427,\n",
       "        32.22325624, 32.43114822, 32.6390402 , 32.84693217, 33.05482415,\n",
       "        33.26271612, 33.4706081 , 33.67850007, 33.88639205, 34.09428403,\n",
       "        34.302176  , 34.51006798, 34.71795995, 34.92585193, 35.13374391,\n",
       "        35.34163588, 35.54952786, 35.75741983, 35.96531181, 36.17320378,\n",
       "        36.38109576, 36.58898774, 36.79687971, 37.00477169, 37.21266366,\n",
       "        37.42055564, 37.62844761, 37.83633959, 38.04423157, 38.25212354,\n",
       "        38.46001552, 38.66790749, 38.87579947, 39.08369144, 39.29158342,\n",
       "        39.4994754 , 39.70736737, 39.91525935, 40.12315132, 40.3310433 ,\n",
       "        40.53893528, 40.74682725, 40.95471923, 41.1626112 , 41.37050318,\n",
       "        41.57839515, 41.78628713, 41.99417911, 42.20207108, 42.40996306,\n",
       "        42.61785503, 42.82574701, 43.03363898, 43.24153096, 43.44942294,\n",
       "        43.65731491, 43.86520689, 44.07309886, 44.28099084, 44.48888281,\n",
       "        44.69677479, 44.90466677, 45.11255874, 45.32045072, 45.52834269,\n",
       "        45.73623467, 45.94412665, 46.15201862, 46.3599106 , 46.56780257,\n",
       "        46.77569455, 46.98358652, 47.1914785 , 47.39937048, 47.60726245,\n",
       "        47.81515443, 48.0230464 , 48.23093838, 48.43883035, 48.64672233,\n",
       "        48.85461431, 49.06250628, 49.27039826, 49.47829023, 49.68618221,\n",
       "        49.89407418, 50.10196616, 50.30985814, 50.51775011, 50.72564209,\n",
       "        50.93353406, 51.14142604, 51.34931802, 51.55720999, 51.76510197,\n",
       "        51.97299394, 52.18088592, 52.38877789, 52.59666987, 52.80456185,\n",
       "        53.01245382, 53.2203458 , 53.42823777, 53.63612975, 53.84402172,\n",
       "        54.0519137 , 54.25980568, 54.46769765, 54.67558963, 54.8834816 ,\n",
       "        55.09137358, 55.29926555, 55.50715753, 55.71504951, 55.92294148,\n",
       "        56.13083346, 56.33872543, 56.54661741, 56.75450939, 56.96240136,\n",
       "        57.17029334, 57.37818531, 57.58607729, 57.79396926, 58.00186124,\n",
       "        58.20975322, 58.41764519, 58.62553717, 58.83342914, 59.04132112,\n",
       "        59.24921309, 59.45710507, 59.66499705, 59.87288902, 60.080781  ,\n",
       "        60.28867297, 60.49656495, 60.70445692, 60.9123489 , 61.12024088,\n",
       "        61.32813285, 61.53602483, 61.7439168 , 61.95180878, 62.15970076,\n",
       "        62.36759273, 62.57548471, 62.78337668, 62.99126866, 63.19916063,\n",
       "        63.40705261, 63.61494459, 63.82283656, 64.03072854, 64.23862051,\n",
       "        64.44651249, 64.65440446, 64.86229644, 65.07018842, 65.27808039,\n",
       "        65.48597237, 65.69386434, 65.90175632, 66.10964829, 66.31754027,\n",
       "        66.52543225, 66.73332422, 66.9412162 , 67.14910817, 67.35700015,\n",
       "        67.56489213, 67.7727841 , 67.98067608, 68.18856805, 68.39646003,\n",
       "        68.604352  , 68.81224398, 69.02013596, 69.22802793, 69.43591991,\n",
       "        69.64381188, 69.85170386, 70.05959583, 70.26748781, 70.47537979,\n",
       "        70.68327176, 70.89116374, 71.09905571, 71.30694769, 71.51483966,\n",
       "        71.72273164, 71.93062362, 72.13851559, 72.34640757, 72.55429954,\n",
       "        72.76219152, 72.9700835 , 73.17797547, 73.38586745, 73.59375942,\n",
       "        73.8016514 , 74.00954337, 74.21743535, 74.42532733, 74.6332193 ,\n",
       "        74.84111128, 75.04900325, 75.25689523, 75.4647872 , 75.67267918,\n",
       "        75.88057116, 76.08846313, 76.29635511, 76.50424708, 76.71213906,\n",
       "        76.92003103, 77.12792301, 77.33581499, 77.54370696, 77.75159894,\n",
       "        77.95949091, 78.16738289, 78.37527487, 78.58316684, 78.79105882,\n",
       "        78.99895079, 79.20684277, 79.41473474, 79.62262672, 79.8305187 ,\n",
       "        80.03841067, 80.24630265, 80.45419462, 80.6620866 , 80.86997857,\n",
       "        81.07787055, 81.28576253, 81.4936545 , 81.70154648, 81.90943845,\n",
       "        82.11733043, 82.3252224 , 82.53311438, 82.74100636, 82.94889833,\n",
       "        83.15679031, 83.36468228, 83.57257426, 83.78046624, 83.98835821,\n",
       "        84.19625019, 84.40414216, 84.61203414, 84.81992611, 85.02781809,\n",
       "        85.23571007, 85.44360204, 85.65149402, 85.85938599, 86.06727797,\n",
       "        86.27516994, 86.48306192, 86.6909539 , 86.89884587, 87.10673785,\n",
       "        87.31462982, 87.5225218 , 87.73041377, 87.93830575, 88.14619773,\n",
       "        88.3540897 , 88.56198168, 88.76987365, 88.97776563, 89.18565761,\n",
       "        89.39354958, 89.60144156, 89.80933353, 90.01722551, 90.22511748,\n",
       "        90.43300946, 90.64090144, 90.84879341, 91.05668539, 91.26457736,\n",
       "        91.47246934, 91.68036131, 91.88825329, 92.09614527, 92.30403724,\n",
       "        92.51192922, 92.71982119, 92.92771317, 93.13560514, 93.34349712,\n",
       "        93.5513891 , 93.75928107, 93.96717305, 94.17506502, 94.382957  ,\n",
       "        94.59084898, 94.79874095, 95.00663293, 95.2145249 , 95.42241688,\n",
       "        95.63030885, 95.83820083, 96.04609281, 96.25398478, 96.46187676,\n",
       "        96.66976873, 96.87766071, 97.08555268, 97.29344466, 97.50133664,\n",
       "        97.70922861, 97.91712059, 98.12501256, 98.33290454, 98.54079651,\n",
       "        98.74868849, 98.95658047, 99.16447244, 99.37236442, 99.58025639,\n",
       "        99.78814837, 99.99604035]),\n",
       " <a list of 481 Patch objects>)"
      ]
     },
     "execution_count": 141,
     "metadata": {},
     "output_type": "execute_result"
    },
    {
     "data": {
      "image/png": "[encoded data removed]",
      "text/plain": [
       "<Figure size 432x288 with 1 Axes>"
      ]
     },
     "metadata": {
      "needs_background": "light"
     },
     "output_type": "display_data"
    }
   ],
   "source": [
    "#Normality check\n",
    "%matplotlib inline  \n",
    "plt.hist(train['Distance'], bins='auto')#Completely left-skewed"
   ]
  },
  {
   "cell_type": "code",
   "execution_count": 142,
   "metadata": {},
   "outputs": [],
   "source": [
    "#We need to scale these two variables because fare_amount is a bigger quantity and without scaling it would dominate our model.\n",
    "#We would normalise both these variables."
   ]
  },
  {
   "cell_type": "code",
   "execution_count": 143,
   "metadata": {},
   "outputs": [],
   "source": [
    "#Normalising fare_amount:\n",
    "train['fare_amount'] = (train['fare_amount'] - ((train['fare_amount']).min()))/((train['fare_amount'].max()) - (train['fare_amount']).min())"
   ]
  },
  {
   "cell_type": "code",
   "execution_count": 144,
   "metadata": {},
   "outputs": [],
   "source": [
    "#Normalising Distance:\n",
    "train['Distance'] = (train['Distance'] - ((train['Distance']).min()))/((train['Distance'].max()) - (train['Distance']).min())"
   ]
  },
  {
   "cell_type": "code",
   "execution_count": 145,
   "metadata": {},
   "outputs": [
    {
     "data": {
      "text/plain": [
       "(array([1.000e+00, 0.000e+00, 5.600e+01, 4.200e+01, 1.470e+02, 2.770e+02,\n",
       "        4.850e+02, 6.660e+02, 7.590e+02, 8.320e+02, 1.277e+03, 7.780e+02,\n",
       "        7.780e+02, 6.880e+02, 3.830e+02, 6.750e+02, 6.380e+02, 8.330e+02,\n",
       "        5.270e+02, 4.780e+02, 4.710e+02, 4.270e+02, 3.650e+02, 3.150e+02,\n",
       "        4.150e+02, 1.430e+02, 2.720e+02, 2.510e+02, 2.020e+02, 1.850e+02,\n",
       "        1.930e+02, 2.260e+02, 1.920e+02, 1.780e+02, 1.590e+02, 1.530e+02,\n",
       "        7.300e+01, 1.280e+02, 1.670e+02, 1.450e+02, 1.430e+02, 1.230e+02,\n",
       "        1.270e+02, 9.900e+01, 1.060e+02, 6.000e+01]),\n",
       " array([0.        , 0.02173913, 0.04347826, 0.06521739, 0.08695652,\n",
       "        0.10869565, 0.13043478, 0.15217391, 0.17391304, 0.19565217,\n",
       "        0.2173913 , 0.23913043, 0.26086957, 0.2826087 , 0.30434783,\n",
       "        0.32608696, 0.34782609, 0.36956522, 0.39130435, 0.41304348,\n",
       "        0.43478261, 0.45652174, 0.47826087, 0.5       , 0.52173913,\n",
       "        0.54347826, 0.56521739, 0.58695652, 0.60869565, 0.63043478,\n",
       "        0.65217391, 0.67391304, 0.69565217, 0.7173913 , 0.73913043,\n",
       "        0.76086957, 0.7826087 , 0.80434783, 0.82608696, 0.84782609,\n",
       "        0.86956522, 0.89130435, 0.91304348, 0.93478261, 0.95652174,\n",
       "        0.97826087, 1.        ]),\n",
       " <a list of 46 Patch objects>)"
      ]
     },
     "execution_count": 145,
     "metadata": {},
     "output_type": "execute_result"
    },
    {
     "data": {
      "image/png": "[encoded data removed]",
      "text/plain": [
       "<Figure size 432x288 with 1 Axes>"
      ]
     },
     "metadata": {
      "needs_background": "light"
     },
     "output_type": "display_data"
    }
   ],
   "source": [
    "#Normality check\n",
    "%matplotlib inline  \n",
    "plt.hist(train['fare_amount'], bins='auto') "
   ]
  },
  {
   "cell_type": "code",
   "execution_count": 146,
   "metadata": {},
   "outputs": [
    {
     "data": {
      "text/plain": [
       "(array([161., 122., 320., 500., 676., 930., 888., 964., 924., 887., 792.,\n",
       "        762., 671., 605., 523., 486., 471., 404., 361., 332., 312., 267.,\n",
       "        224., 245., 198., 180., 163., 145., 134., 155., 119.,  95.,  99.,\n",
       "         96.,  76.,  87.,  67.,  68.,  47.,  47.,  58.,  57.,  53.,  41.,\n",
       "         49.,  46.,  52.,  47.,  42.,  33.,  22.,  22.,  29.,  23.,  10.,\n",
       "         20.,  20.,  20.,  11.,   6.,  10.,  17.,   9.,   9.,   5.,  12.,\n",
       "          7.,  13.,  11.,   5.,   5.,   7.,   4.,   7.,   5.,   6.,   8.,\n",
       "          3.,   2.,   7.,   5.,   6.,  11.,   4.,   1.,   3.,   3.,   5.,\n",
       "          6.,   6.,   4.,   4.,   7.,   7.,  10.,   8.,  10.,  13.,   9.,\n",
       "         23.,  11.,  15.,   9.,   9.,   5.,   3.,   4.,   2.,   2.,   0.,\n",
       "          1.,   2.,   1.,   0.,   0.,   0.,   0.,   0.,   0.,   0.,   0.,\n",
       "          0.,   2.,   0.,   0.,   0.,   0.,   0.,   0.,   0.,   1.,   2.,\n",
       "          0.,   1.,   1.,   0.,   0.,   0.,   1.,   0.,   0.,   0.,   0.,\n",
       "          0.,   0.,   0.,   0.,   0.,   0.,   0.,   0.,   0.,   0.,   0.,\n",
       "          0.,   0.,   0.,   0.,   0.,   0.,   0.,   1.,   0.,   0.,   0.,\n",
       "          0.,   0.,   0.,   0.,   0.,   0.,   0.,   0.,   0.,   0.,   0.,\n",
       "          0.,   0.,   0.,   0.,   0.,   0.,   0.,   0.,   0.,   0.,   0.,\n",
       "          0.,   0.,   0.,   0.,   0.,   0.,   0.,   0.,   0.,   0.,   0.,\n",
       "          0.,   0.,   0.,   0.,   0.,   1.,   0.,   0.,   0.,   0.,   0.,\n",
       "          0.,   0.,   0.,   0.,   0.,   0.,   0.,   0.,   0.,   0.,   0.,\n",
       "          0.,   0.,   0.,   0.,   0.,   0.,   0.,   0.,   0.,   0.,   0.,\n",
       "          0.,   0.,   0.,   0.,   0.,   0.,   0.,   0.,   0.,   0.,   0.,\n",
       "          0.,   0.,   0.,   0.,   0.,   0.,   0.,   0.,   0.,   0.,   0.,\n",
       "          0.,   0.,   0.,   0.,   0.,   0.,   0.,   0.,   0.,   0.,   0.,\n",
       "          0.,   0.,   0.,   0.,   0.,   0.,   0.,   0.,   0.,   0.,   0.,\n",
       "          0.,   0.,   0.,   0.,   0.,   0.,   0.,   0.,   0.,   0.,   0.,\n",
       "          0.,   0.,   0.,   0.,   0.,   0.,   0.,   0.,   0.,   0.,   0.,\n",
       "          0.,   0.,   0.,   0.,   0.,   0.,   0.,   0.,   0.,   0.,   0.,\n",
       "          0.,   0.,   0.,   0.,   0.,   0.,   0.,   0.,   0.,   0.,   0.,\n",
       "          0.,   0.,   0.,   0.,   0.,   0.,   0.,   0.,   0.,   0.,   0.,\n",
       "          0.,   0.,   0.,   0.,   0.,   0.,   0.,   0.,   0.,   0.,   0.,\n",
       "          0.,   0.,   0.,   0.,   0.,   0.,   0.,   0.,   0.,   0.,   0.,\n",
       "          0.,   0.,   0.,   0.,   0.,   0.,   0.,   0.,   0.,   0.,   0.,\n",
       "          0.,   0.,   0.,   0.,   0.,   0.,   0.,   0.,   0.,   0.,   0.,\n",
       "          0.,   0.,   0.,   0.,   0.,   0.,   0.,   0.,   0.,   0.,   0.,\n",
       "          0.,   0.,   0.,   0.,   0.,   0.,   0.,   0.,   0.,   0.,   0.,\n",
       "          0.,   0.,   0.,   0.,   0.,   0.,   0.,   0.,   0.,   0.,   0.,\n",
       "          0.,   0.,   0.,   0.,   0.,   0.,   0.,   0.,   0.,   0.,   0.,\n",
       "          0.,   0.,   0.,   0.,   0.,   0.,   0.,   0.,   0.,   0.,   0.,\n",
       "          0.,   0.,   0.,   0.,   0.,   0.,   0.,   0.,   0.,   0.,   0.,\n",
       "          0.,   0.,   0.,   0.,   0.,   0.,   0.,   0.,   0.,   0.,   0.,\n",
       "          0.,   0.,   0.,   0.,   0.,   0.,   0.,   0.,   0.,   0.,   0.,\n",
       "          0.,   0.,   0.,   0.,   0.,   1.,   0.,   0.,   0.,   0.,   1.,\n",
       "          0.,   0.,   0.,   0.,   0.,   0.,   0.,   1.]),\n",
       " array([0.        , 0.002079  , 0.004158  , 0.00623701, 0.00831601,\n",
       "        0.01039501, 0.01247401, 0.01455301, 0.01663202, 0.01871102,\n",
       "        0.02079002, 0.02286902, 0.02494802, 0.02702703, 0.02910603,\n",
       "        0.03118503, 0.03326403, 0.03534304, 0.03742204, 0.03950104,\n",
       "        0.04158004, 0.04365904, 0.04573805, 0.04781705, 0.04989605,\n",
       "        0.05197505, 0.05405405, 0.05613306, 0.05821206, 0.06029106,\n",
       "        0.06237006, 0.06444906, 0.06652807, 0.06860707, 0.07068607,\n",
       "        0.07276507, 0.07484407, 0.07692308, 0.07900208, 0.08108108,\n",
       "        0.08316008, 0.08523909, 0.08731809, 0.08939709, 0.09147609,\n",
       "        0.09355509, 0.0956341 , 0.0977131 , 0.0997921 , 0.1018711 ,\n",
       "        0.1039501 , 0.10602911, 0.10810811, 0.11018711, 0.11226611,\n",
       "        0.11434511, 0.11642412, 0.11850312, 0.12058212, 0.12266112,\n",
       "        0.12474012, 0.12681913, 0.12889813, 0.13097713, 0.13305613,\n",
       "        0.13513514, 0.13721414, 0.13929314, 0.14137214, 0.14345114,\n",
       "        0.14553015, 0.14760915, 0.14968815, 0.15176715, 0.15384615,\n",
       "        0.15592516, 0.15800416, 0.16008316, 0.16216216, 0.16424116,\n",
       "        0.16632017, 0.16839917, 0.17047817, 0.17255717, 0.17463617,\n",
       "        0.17671518, 0.17879418, 0.18087318, 0.18295218, 0.18503119,\n",
       "        0.18711019, 0.18918919, 0.19126819, 0.19334719, 0.1954262 ,\n",
       "        0.1975052 , 0.1995842 , 0.2016632 , 0.2037422 , 0.20582121,\n",
       "        0.20790021, 0.20997921, 0.21205821, 0.21413721, 0.21621622,\n",
       "        0.21829522, 0.22037422, 0.22245322, 0.22453222, 0.22661123,\n",
       "        0.22869023, 0.23076923, 0.23284823, 0.23492723, 0.23700624,\n",
       "        0.23908524, 0.24116424, 0.24324324, 0.24532225, 0.24740125,\n",
       "        0.24948025, 0.25155925, 0.25363825, 0.25571726, 0.25779626,\n",
       "        0.25987526, 0.26195426, 0.26403326, 0.26611227, 0.26819127,\n",
       "        0.27027027, 0.27234927, 0.27442827, 0.27650728, 0.27858628,\n",
       "        0.28066528, 0.28274428, 0.28482328, 0.28690229, 0.28898129,\n",
       "        0.29106029, 0.29313929, 0.2952183 , 0.2972973 , 0.2993763 ,\n",
       "        0.3014553 , 0.3035343 , 0.30561331, 0.30769231, 0.30977131,\n",
       "        0.31185031, 0.31392931, 0.31600832, 0.31808732, 0.32016632,\n",
       "        0.32224532, 0.32432432, 0.32640333, 0.32848233, 0.33056133,\n",
       "        0.33264033, 0.33471933, 0.33679834, 0.33887734, 0.34095634,\n",
       "        0.34303534, 0.34511435, 0.34719335, 0.34927235, 0.35135135,\n",
       "        0.35343035, 0.35550936, 0.35758836, 0.35966736, 0.36174636,\n",
       "        0.36382536, 0.36590437, 0.36798337, 0.37006237, 0.37214137,\n",
       "        0.37422037, 0.37629938, 0.37837838, 0.38045738, 0.38253638,\n",
       "        0.38461538, 0.38669439, 0.38877339, 0.39085239, 0.39293139,\n",
       "        0.3950104 , 0.3970894 , 0.3991684 , 0.4012474 , 0.4033264 ,\n",
       "        0.40540541, 0.40748441, 0.40956341, 0.41164241, 0.41372141,\n",
       "        0.41580042, 0.41787942, 0.41995842, 0.42203742, 0.42411642,\n",
       "        0.42619543, 0.42827443, 0.43035343, 0.43243243, 0.43451143,\n",
       "        0.43659044, 0.43866944, 0.44074844, 0.44282744, 0.44490644,\n",
       "        0.44698545, 0.44906445, 0.45114345, 0.45322245, 0.45530146,\n",
       "        0.45738046, 0.45945946, 0.46153846, 0.46361746, 0.46569647,\n",
       "        0.46777547, 0.46985447, 0.47193347, 0.47401247, 0.47609148,\n",
       "        0.47817048, 0.48024948, 0.48232848, 0.48440748, 0.48648649,\n",
       "        0.48856549, 0.49064449, 0.49272349, 0.49480249, 0.4968815 ,\n",
       "        0.4989605 , 0.5010395 , 0.5031185 , 0.50519751, 0.50727651,\n",
       "        0.50935551, 0.51143451, 0.51351351, 0.51559252, 0.51767152,\n",
       "        0.51975052, 0.52182952, 0.52390852, 0.52598753, 0.52806653,\n",
       "        0.53014553, 0.53222453, 0.53430353, 0.53638254, 0.53846154,\n",
       "        0.54054054, 0.54261954, 0.54469854, 0.54677755, 0.54885655,\n",
       "        0.55093555, 0.55301455, 0.55509356, 0.55717256, 0.55925156,\n",
       "        0.56133056, 0.56340956, 0.56548857, 0.56756757, 0.56964657,\n",
       "        0.57172557, 0.57380457, 0.57588358, 0.57796258, 0.58004158,\n",
       "        0.58212058, 0.58419958, 0.58627859, 0.58835759, 0.59043659,\n",
       "        0.59251559, 0.59459459, 0.5966736 , 0.5987526 , 0.6008316 ,\n",
       "        0.6029106 , 0.6049896 , 0.60706861, 0.60914761, 0.61122661,\n",
       "        0.61330561, 0.61538462, 0.61746362, 0.61954262, 0.62162162,\n",
       "        0.62370062, 0.62577963, 0.62785863, 0.62993763, 0.63201663,\n",
       "        0.63409563, 0.63617464, 0.63825364, 0.64033264, 0.64241164,\n",
       "        0.64449064, 0.64656965, 0.64864865, 0.65072765, 0.65280665,\n",
       "        0.65488565, 0.65696466, 0.65904366, 0.66112266, 0.66320166,\n",
       "        0.66528067, 0.66735967, 0.66943867, 0.67151767, 0.67359667,\n",
       "        0.67567568, 0.67775468, 0.67983368, 0.68191268, 0.68399168,\n",
       "        0.68607069, 0.68814969, 0.69022869, 0.69230769, 0.69438669,\n",
       "        0.6964657 , 0.6985447 , 0.7006237 , 0.7027027 , 0.7047817 ,\n",
       "        0.70686071, 0.70893971, 0.71101871, 0.71309771, 0.71517672,\n",
       "        0.71725572, 0.71933472, 0.72141372, 0.72349272, 0.72557173,\n",
       "        0.72765073, 0.72972973, 0.73180873, 0.73388773, 0.73596674,\n",
       "        0.73804574, 0.74012474, 0.74220374, 0.74428274, 0.74636175,\n",
       "        0.74844075, 0.75051975, 0.75259875, 0.75467775, 0.75675676,\n",
       "        0.75883576, 0.76091476, 0.76299376, 0.76507277, 0.76715177,\n",
       "        0.76923077, 0.77130977, 0.77338877, 0.77546778, 0.77754678,\n",
       "        0.77962578, 0.78170478, 0.78378378, 0.78586279, 0.78794179,\n",
       "        0.79002079, 0.79209979, 0.79417879, 0.7962578 , 0.7983368 ,\n",
       "        0.8004158 , 0.8024948 , 0.8045738 , 0.80665281, 0.80873181,\n",
       "        0.81081081, 0.81288981, 0.81496881, 0.81704782, 0.81912682,\n",
       "        0.82120582, 0.82328482, 0.82536383, 0.82744283, 0.82952183,\n",
       "        0.83160083, 0.83367983, 0.83575884, 0.83783784, 0.83991684,\n",
       "        0.84199584, 0.84407484, 0.84615385, 0.84823285, 0.85031185,\n",
       "        0.85239085, 0.85446985, 0.85654886, 0.85862786, 0.86070686,\n",
       "        0.86278586, 0.86486486, 0.86694387, 0.86902287, 0.87110187,\n",
       "        0.87318087, 0.87525988, 0.87733888, 0.87941788, 0.88149688,\n",
       "        0.88357588, 0.88565489, 0.88773389, 0.88981289, 0.89189189,\n",
       "        0.89397089, 0.8960499 , 0.8981289 , 0.9002079 , 0.9022869 ,\n",
       "        0.9043659 , 0.90644491, 0.90852391, 0.91060291, 0.91268191,\n",
       "        0.91476091, 0.91683992, 0.91891892, 0.92099792, 0.92307692,\n",
       "        0.92515593, 0.92723493, 0.92931393, 0.93139293, 0.93347193,\n",
       "        0.93555094, 0.93762994, 0.93970894, 0.94178794, 0.94386694,\n",
       "        0.94594595, 0.94802495, 0.95010395, 0.95218295, 0.95426195,\n",
       "        0.95634096, 0.95841996, 0.96049896, 0.96257796, 0.96465696,\n",
       "        0.96673597, 0.96881497, 0.97089397, 0.97297297, 0.97505198,\n",
       "        0.97713098, 0.97920998, 0.98128898, 0.98336798, 0.98544699,\n",
       "        0.98752599, 0.98960499, 0.99168399, 0.99376299, 0.995842  ,\n",
       "        0.997921  , 1.        ]),\n",
       " <a list of 481 Patch objects>)"
      ]
     },
     "execution_count": 146,
     "metadata": {},
     "output_type": "execute_result"
    },
    {
     "data": {
      "image/png": "[encoded data removed]",
      "text/plain": [
       "<Figure size 432x288 with 1 Axes>"
      ]
     },
     "metadata": {
      "needs_background": "light"
     },
     "output_type": "display_data"
    }
   ],
   "source": [
    "#Normality check\n",
    "%matplotlib inline  \n",
    "plt.hist(train['Distance'], bins='auto')"
   ]
  },
  {
   "cell_type": "code",
   "execution_count": 147,
   "metadata": {},
   "outputs": [
    {
     "data": {
      "text/plain": [
       "count    15638.000000\n",
       "mean         0.394318\n",
       "std          0.213689\n",
       "min          0.000000\n",
       "25%          0.231870\n",
       "50%          0.336832\n",
       "75%          0.508527\n",
       "max          1.000000\n",
       "Name: fare_amount, dtype: float64"
      ]
     },
     "execution_count": 147,
     "metadata": {},
     "output_type": "execute_result"
    }
   ],
   "source": [
    "train['fare_amount'].describe()"
   ]
  },
  {
   "cell_type": "code",
   "execution_count": 148,
   "metadata": {},
   "outputs": [
    {
     "data": {
      "text/plain": [
       "count    15638.000000\n",
       "mean         0.034298\n",
       "std          0.034613\n",
       "min          0.000000\n",
       "25%          0.015236\n",
       "50%          0.024648\n",
       "75%          0.041249\n",
       "max          1.000000\n",
       "Name: Distance, dtype: float64"
      ]
     },
     "execution_count": 148,
     "metadata": {},
     "output_type": "execute_result"
    }
   ],
   "source": [
    "train['Distance'].describe()"
   ]
  },
  {
   "cell_type": "code",
   "execution_count": 149,
   "metadata": {},
   "outputs": [],
   "source": [
    "#We have successfully scaled these two variables."
   ]
  },
  {
   "cell_type": "markdown",
   "metadata": {},
   "source": [
    "# Splitting the train data into training and test data sets for comparing "
   ]
  },
  {
   "cell_type": "code",
   "execution_count": 150,
   "metadata": {},
   "outputs": [],
   "source": [
    "#X_train and y_train are training subsets.\n",
    "#X_test and y_test are validation subsets."
   ]
  },
  {
   "cell_type": "code",
   "execution_count": 151,
   "metadata": {},
   "outputs": [
    {
     "name": "stdout",
     "output_type": "stream",
     "text": [
      "(15638, 5) (12510, 4) (3128, 4) (12510,) (3128,)\n"
     ]
    }
   ],
   "source": [
    "X = train.drop('fare_amount',axis=1).values\n",
    "y = train['fare_amount'].values\n",
    "\n",
    "X_train, X_test, y_train, y_test = train_test_split(X, y, test_size = 0.2)\n",
    "print(train.shape, X_train.shape, X_test.shape,y_train.shape,y_test.shape)"
   ]
  },
  {
   "cell_type": "markdown",
   "metadata": {},
   "source": [
    "# LINEAR REGRESSION"
   ]
  },
  {
   "cell_type": "code",
   "execution_count": 152,
   "metadata": {},
   "outputs": [],
   "source": [
    "#The error metric that we will consider here is RMSE since this is a timestamp Dataset.\n",
    "#Training the model on the training sets\n",
    "LR_model = sm.OLS(y_train,X_train).fit()"
   ]
  },
  {
   "cell_type": "code",
   "execution_count": 153,
   "metadata": {},
   "outputs": [
    {
     "data": {
      "text/html": [
       "<table class=\"simpletable\">\n",
       "<caption>OLS Regression Results</caption>\n",
       "<tr>\n",
       "  <th>Dep. Variable:</th>            <td>y</td>        <th>  R-squared (uncentered):</th>      <td>   0.701</td>\n",
       "</tr>\n",
       "<tr>\n",
       "  <th>Model:</th>                   <td>OLS</td>       <th>  Adj. R-squared (uncentered):</th> <td>   0.701</td>\n",
       "</tr>\n",
       "<tr>\n",
       "  <th>Method:</th>             <td>Least Squares</td>  <th>  F-statistic:       </th>          <td>   7346.</td>\n",
       "</tr>\n",
       "<tr>\n",
       "  <th>Date:</th>             <td>Tue, 10 Sep 2019</td> <th>  Prob (F-statistic):</th>           <td>  0.00</td> \n",
       "</tr>\n",
       "<tr>\n",
       "  <th>Time:</th>                 <td>02:44:19</td>     <th>  Log-Likelihood:    </th>          <td> -203.49</td>\n",
       "</tr>\n",
       "<tr>\n",
       "  <th>No. Observations:</th>      <td> 12510</td>      <th>  AIC:               </th>          <td>   415.0</td>\n",
       "</tr>\n",
       "<tr>\n",
       "  <th>Df Residuals:</th>          <td> 12506</td>      <th>  BIC:               </th>          <td>   444.7</td>\n",
       "</tr>\n",
       "<tr>\n",
       "  <th>Df Model:</th>              <td>     4</td>      <th>                     </th>              <td> </td>   \n",
       "</tr>\n",
       "<tr>\n",
       "  <th>Covariance Type:</th>      <td>nonrobust</td>    <th>                     </th>              <td> </td>   \n",
       "</tr>\n",
       "</table>\n",
       "<table class=\"simpletable\">\n",
       "<tr>\n",
       "   <td></td>     <th>coef</th>     <th>std err</th>      <th>t</th>      <th>P>|t|</th>  <th>[0.025</th>    <th>0.975]</th>  \n",
       "</tr>\n",
       "<tr>\n",
       "  <th>x1</th> <td>    0.0405</td> <td>    0.002</td> <td>   25.371</td> <td> 0.000</td> <td>    0.037</td> <td>    0.044</td>\n",
       "</tr>\n",
       "<tr>\n",
       "  <th>x2</th> <td>    0.0300</td> <td>    0.001</td> <td>   31.487</td> <td> 0.000</td> <td>    0.028</td> <td>    0.032</td>\n",
       "</tr>\n",
       "<tr>\n",
       "  <th>x3</th> <td>    0.0123</td> <td>    0.000</td> <td>   48.378</td> <td> 0.000</td> <td>    0.012</td> <td>    0.013</td>\n",
       "</tr>\n",
       "<tr>\n",
       "  <th>x4</th> <td>    1.0604</td> <td>    0.062</td> <td>   17.232</td> <td> 0.000</td> <td>    0.940</td> <td>    1.181</td>\n",
       "</tr>\n",
       "</table>\n",
       "<table class=\"simpletable\">\n",
       "<tr>\n",
       "  <th>Omnibus:</th>       <td>686.843</td> <th>  Durbin-Watson:     </th> <td>   1.932</td> \n",
       "</tr>\n",
       "<tr>\n",
       "  <th>Prob(Omnibus):</th> <td> 0.000</td>  <th>  Jarque-Bera (JB):  </th> <td> 805.543</td> \n",
       "</tr>\n",
       "<tr>\n",
       "  <th>Skew:</th>          <td> 0.621</td>  <th>  Prob(JB):          </th> <td>1.20e-175</td>\n",
       "</tr>\n",
       "<tr>\n",
       "  <th>Kurtosis:</th>      <td> 3.068</td>  <th>  Cond. No.          </th> <td>    427.</td> \n",
       "</tr>\n",
       "</table><br/><br/>Warnings:<br/>[1] Standard Errors assume that the covariance matrix of the errors is correctly specified."
      ],
      "text/plain": [
       "<class 'statsmodels.iolib.summary.Summary'>\n",
       "\"\"\"\n",
       "                                 OLS Regression Results                                \n",
       "=======================================================================================\n",
       "Dep. Variable:                      y   R-squared (uncentered):                   0.701\n",
       "Model:                            OLS   Adj. R-squared (uncentered):              0.701\n",
       "Method:                 Least Squares   F-statistic:                              7346.\n",
       "Date:                Tue, 10 Sep 2019   Prob (F-statistic):                        0.00\n",
       "Time:                        02:44:19   Log-Likelihood:                         -203.49\n",
       "No. Observations:               12510   AIC:                                      415.0\n",
       "Df Residuals:                   12506   BIC:                                      444.7\n",
       "Df Model:                           4                                                  \n",
       "Covariance Type:            nonrobust                                                  \n",
       "==============================================================================\n",
       "                 coef    std err          t      P>|t|      [0.025      0.975]\n",
       "------------------------------------------------------------------------------\n",
       "x1             0.0405      0.002     25.371      0.000       0.037       0.044\n",
       "x2             0.0300      0.001     31.487      0.000       0.028       0.032\n",
       "x3             0.0123      0.000     48.378      0.000       0.012       0.013\n",
       "x4             1.0604      0.062     17.232      0.000       0.940       1.181\n",
       "==============================================================================\n",
       "Omnibus:                      686.843   Durbin-Watson:                   1.932\n",
       "Prob(Omnibus):                  0.000   Jarque-Bera (JB):              805.543\n",
       "Skew:                           0.621   Prob(JB):                    1.20e-175\n",
       "Kurtosis:                       3.068   Cond. No.                         427.\n",
       "==============================================================================\n",
       "\n",
       "Warnings:\n",
       "[1] Standard Errors assume that the covariance matrix of the errors is correctly specified.\n",
       "\"\"\""
      ]
     },
     "execution_count": 153,
     "metadata": {},
     "output_type": "execute_result"
    }
   ],
   "source": [
    "#Printing the statistics\n",
    "LR_model.summary()"
   ]
  },
  {
   "cell_type": "code",
   "execution_count": 154,
   "metadata": {},
   "outputs": [],
   "source": [
    "#Predicting the test dependent variable values:\n",
    "predictions_LR = LR_model.predict(X_test)"
   ]
  },
  {
   "cell_type": "code",
   "execution_count": 155,
   "metadata": {},
   "outputs": [],
   "source": [
    "#Calculating the RMSE:\n",
    "RMSE = np.sqrt(mean_squared_error(y_test,predictions_LR))"
   ]
  },
  {
   "cell_type": "code",
   "execution_count": 156,
   "metadata": {},
   "outputs": [
    {
     "data": {
      "text/plain": [
       "0.2402590521997648"
      ]
     },
     "execution_count": 156,
     "metadata": {},
     "output_type": "execute_result"
    }
   ],
   "source": [
    "RMSE"
   ]
  },
  {
   "cell_type": "code",
   "execution_count": 157,
   "metadata": {},
   "outputs": [],
   "source": [
    "#RMSE of Linear Regression Model = 0.2458 "
   ]
  },
  {
   "cell_type": "markdown",
   "metadata": {},
   "source": [
    "# DECISION TREE"
   ]
  },
  {
   "cell_type": "code",
   "execution_count": 158,
   "metadata": {},
   "outputs": [],
   "source": [
    "#Training the model on training sets\n",
    "DT_model = DecisionTreeRegressor(max_depth=2).fit(X_train,y_train)"
   ]
  },
  {
   "cell_type": "code",
   "execution_count": 159,
   "metadata": {},
   "outputs": [],
   "source": [
    "#Predicting the test dependent variable values:\n",
    "predictions_DT = DT_model.predict(X_test)"
   ]
  },
  {
   "cell_type": "code",
   "execution_count": 160,
   "metadata": {},
   "outputs": [],
   "source": [
    "#Calculating the RMSE:\n",
    "RMSE = np.sqrt(mean_squared_error(y_test,predictions_DT))"
   ]
  },
  {
   "cell_type": "code",
   "execution_count": 161,
   "metadata": {},
   "outputs": [
    {
     "data": {
      "text/plain": [
       "0.20971330062960003"
      ]
     },
     "execution_count": 161,
     "metadata": {},
     "output_type": "execute_result"
    }
   ],
   "source": [
    "RMSE"
   ]
  },
  {
   "cell_type": "code",
   "execution_count": 162,
   "metadata": {},
   "outputs": [],
   "source": [
    "#RMSE of Decision Tree Model = 0.2145"
   ]
  },
  {
   "cell_type": "markdown",
   "metadata": {},
   "source": [
    "# RANDOM FOREST"
   ]
  },
  {
   "cell_type": "code",
   "execution_count": 163,
   "metadata": {},
   "outputs": [],
   "source": [
    "#Training the model on training sets\n",
    "RF_model = RandomForestRegressor(n_estimators=500).fit(X_train,y_train)"
   ]
  },
  {
   "cell_type": "code",
   "execution_count": 164,
   "metadata": {},
   "outputs": [],
   "source": [
    "#Predicting the test dependent variable values:\n",
    "predictions_RF = RF_model.predict(X_test)"
   ]
  },
  {
   "cell_type": "code",
   "execution_count": 165,
   "metadata": {},
   "outputs": [],
   "source": [
    "#Calculating the RMSE:\n",
    "RMSE = np.sqrt(mean_squared_error(y_test,predictions_RF))"
   ]
  },
  {
   "cell_type": "code",
   "execution_count": 166,
   "metadata": {},
   "outputs": [
    {
     "data": {
      "text/plain": [
       "0.22758231472402046"
      ]
     },
     "execution_count": 166,
     "metadata": {},
     "output_type": "execute_result"
    }
   ],
   "source": [
    "RMSE"
   ]
  },
  {
   "cell_type": "code",
   "execution_count": 167,
   "metadata": {},
   "outputs": [],
   "source": [
    "#RMSE of Random Forest Model = 0.2279"
   ]
  },
  {
   "cell_type": "code",
   "execution_count": 168,
   "metadata": {},
   "outputs": [],
   "source": [
    "#Since, the RMSE of Decision Tree model is lower than the RMSEs of the Linear Regression and the Random Forest models,\n",
    "#we will freeze Decision Tree Model as our finalized model."
   ]
  },
  {
   "cell_type": "markdown",
   "metadata": {},
   "source": [
    "# Finalizing and Saving Model for later use"
   ]
  },
  {
   "cell_type": "code",
   "execution_count": 169,
   "metadata": {},
   "outputs": [],
   "source": [
    "a=pd.read_csv('test - Copy.csv')"
   ]
  },
  {
   "cell_type": "code",
   "execution_count": 170,
   "metadata": {},
   "outputs": [],
   "source": [
    "test_pickup_datetime=a['pickup_datetime']"
   ]
  },
  {
   "cell_type": "code",
   "execution_count": 171,
   "metadata": {},
   "outputs": [],
   "source": [
    "#Independent variable values of train will be stored in X\n",
    "X = train.drop('fare_amount',axis=1).values"
   ]
  },
  {
   "cell_type": "code",
   "execution_count": 172,
   "metadata": {},
   "outputs": [],
   "source": [
    "#Dependent variable values of train will be stored in y \n",
    "y = train['fare_amount'].values"
   ]
  },
  {
   "cell_type": "code",
   "execution_count": 173,
   "metadata": {},
   "outputs": [],
   "source": [
    "#Now, we will train our model using the whole train dataset and save it for using later.\n",
    "DT_model2 = DecisionTreeRegressor(max_depth=2).fit(X,y)"
   ]
  },
  {
   "cell_type": "code",
   "execution_count": 174,
   "metadata": {},
   "outputs": [
    {
     "data": {
      "text/plain": [
       "['cab_fare_DT_model.pkl']"
      ]
     },
     "execution_count": 174,
     "metadata": {},
     "output_type": "execute_result"
    }
   ],
   "source": [
    "#Save the model as a pickle in a file \n",
    "joblib.dump(DT_model2, 'cab_fare_DT_model.pkl') "
   ]
  },
  {
   "cell_type": "code",
   "execution_count": 175,
   "metadata": {},
   "outputs": [],
   "source": [
    "#Load the model from the file \n",
    "SuperModel_from_joblib = joblib.load('cab_fare_DT_model.pkl')"
   ]
  },
  {
   "cell_type": "code",
   "execution_count": 176,
   "metadata": {},
   "outputs": [],
   "source": [
    "#Let's predict on our test dataset\n",
    "newpredictions_DT = DT_model2.predict(test)"
   ]
  },
  {
   "cell_type": "code",
   "execution_count": 177,
   "metadata": {},
   "outputs": [],
   "source": [
    "Predictions_with_date = pd.DataFrame({\"pickup_datetime\":test_pickup_datetime,\"fare_amount\" : newpredictions_DT})"
   ]
  },
  {
   "cell_type": "code",
   "execution_count": 178,
   "metadata": {},
   "outputs": [],
   "source": [
    "#Now lets write the predicted fare_amount in disk as .csv form\n",
    "Predictions_with_date.to_csv(\"dt_predictions_python.csv\",index=False)"
   ]
  },
  {
   "cell_type": "code",
   "execution_count": null,
   "metadata": {},
   "outputs": [],
   "source": []
  }
 ],
 "metadata": {
  "kernelspec": {
   "display_name": "Python 3",
   "language": "python",
   "name": "python3"
  },
  "language_info": {
   "codemirror_mode": {
    "name": "ipython",
    "version": 3
   },
   "file_extension": ".py",
   "mimetype": "text/x-python",
   "name": "python",
   "nbconvert_exporter": "python",
   "pygments_lexer": "ipython3",
   "version": "3.7.3"
  }
 },
 "nbformat": 4,
 "nbformat_minor": 2
}
